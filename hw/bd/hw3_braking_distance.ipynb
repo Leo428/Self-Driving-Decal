{
 "cells": [
  {
   "cell_type": "code",
   "execution_count": 34,
   "metadata": {},
   "outputs": [],
   "source": [
    "import sys\n",
    "sys.path.append('../../')\n",
    "\n",
    "from car_iface import controller_model\n",
    "from utils import nn\n",
    "import numpy as np\n",
    "import matplotlib.pyplot as plt"
   ]
  },
  {
   "cell_type": "code",
   "execution_count": 35,
   "metadata": {},
   "outputs": [
    {
     "output_type": "stream",
     "name": "stdout",
     "text": "Using Neural Model\n"
    }
   ],
   "source": [
    "'''\n",
    "Set the MODE here to either use a Neural Model (FCN)\n",
    "or the analytical equation.  Note the analytical equation\n",
    "can only be used for simple motion dynamics.\n",
    "'''\n",
    "MODE = 0\n",
    "MODE_DICT = {0: \"Neural Model\", 1: \"Analytical Equation\"}\n",
    "print(f\"Using {MODE_DICT[MODE]}\")"
   ]
  },
  {
   "cell_type": "code",
   "execution_count": 46,
   "metadata": {},
   "outputs": [],
   "source": [
    "'''\n",
    "CAR_MODEL you set to either \"simple\" or \"complex\".\n",
    "This dictates the internal model dynamics you will be using.\n",
    "'''\n",
    "CAR_MODEL = \"complex\"\n",
    "ci = controller_model.Car_Interface(model = CAR_MODEL)\n",
    "\n",
    "ci.set_gear(ci.FORWARD)\n",
    "\n",
    "if (MODE_DICT[MODE] == \"Simple Equation\" and CAR_MODEL == \"complex\"):\n",
    "    raise Exception(\"Invalid combination.\")"
   ]
  },
  {
   "cell_type": "markdown",
   "metadata": {},
   "source": [
    "## Stopping Distance Generation"
   ]
  },
  {
   "cell_type": "markdown",
   "metadata": {},
   "source": [
    "Here we take advantage of the controller model we\n",
    "developed using System ID.  Now instead of spending\n",
    "excessive amounts of time manually controlling the car\n",
    "we can easily generate data to work with.\n",
    "\n",
    "For a basic implementation of this function follow the\n",
    "below steps.  A model trained with this data will not\n",
    "work in all cases, but it will generally.  If you would\n",
    "like to learn why and come up with a more robust data\n",
    "generation scheme see the braking_distance_extra ipynb\n",
    "when it is released next lecture.\n",
    "\n",
    "IMPORTANT NOTE: For this to work with the \"complex\"\n",
    "car model you will have to first fill out one small\n",
    "section around line 138 in controller_model.py. This\n",
    "will allow your controller model to work with the non-linear \n",
    "SystemID shared during lecture."
   ]
  },
  {
   "cell_type": "code",
   "execution_count": 37,
   "metadata": {},
   "outputs": [],
   "source": [
    "'''\n",
    "Basic Instructions:\n",
    "1a.Select an initial velocity uniformly at random between 0 and 1. (see: np.random.random())\n",
    " b.Directly set the controller's velocity to this initial velocity.\n",
    " c.Zero the position of the controller.\n",
    "2.Select a brake pedal amount, amt, uniformly at random between 0 and 1.\n",
    "3a.Initialize a counter variable, t, to 0.\n",
    " b.While the controller's velocity is positive repeat the following steps.\n",
    " c.Apply the brakes at depression % amt for one time step.\n",
    " d.Increment t by the controller's dt time step.\n",
    " e.If t exceeds a time limit of 5 seconds, break out of this inner loop.\n",
    "4.If the controller's velocity is 0 proceed, otherwise repeat steps 1 to 4.\n",
    "5.The stopping distance is the position of the car, get this from the controller model.\n",
    "6.Initialize inp as a list of length two, where the first element is the\n",
    "  initial velocity, and the second element is the stopping distance.\n",
    "7.Return amt, inp\n",
    "\n",
    "What we are doing here is repeatedly trying random configurations of intial speed\n",
    "and brake amount.  If we stop within the time limit then we have a valid data point.\n",
    "The current position represents our stopping distance.\n",
    "\n",
    "We take advantage of having a controller model in 3 ways.\n",
    "1. Can run the simulations a lot faster.\n",
    "2. Can directly set velocity (used in step 1b)\n",
    "3. Don't have noise with measurements (helps a lot when velocity gets close to 0)\n",
    "\n",
    "NOTE: this specific method of data generation produces a couple biases.  Consider\n",
    "the following scenario.  The car is fairly far from the target brake point.  Further,\n",
    "it is not moving very fast.  Here you attempt to precision brake, but you might find\n",
    "the car stops too early Why might this type of data point not be captured by this\n",
    "generation method?  If you see how to fix this feel free to do so.  If not next\n",
    "lecture a supplementary notebook will be released detailing the few steps needed\n",
    "to do so.\n",
    "'''\n",
    "# np.random.seed(114514)\n",
    "def stopping_distance_gen():\n",
    "  vel = np.random.random()\n",
    "  ci.velocity = vel\n",
    "  ci.zero_position()\n",
    "  t = 0\n",
    "  brake_amt = 0.15 + np.random.random() * 0.85\n",
    "  while ci.velocity > 0:\n",
    "    if t >= 5 / ci.dt:\n",
    "      break\n",
    "    ci.apply_control(ci.BRAKE, brake_amt)\n",
    "    t += ci.dt\n",
    "  return brake_amt, [vel, ci.position]\n",
    "\n",
    "  "
   ]
  },
  {
   "cell_type": "code",
   "execution_count": 38,
   "metadata": {},
   "outputs": [
    {
     "output_type": "stream",
     "name": "stdout",
     "text": "A car moving at 23.90% speed, applied 82.80% brakes and stopped, after travelling 0.54 distance units\n"
    }
   ],
   "source": [
    "'''\n",
    "Displays a sample data point.  If this provides a reasonable \n",
    "output you probably did the previous part correctly.  \n",
    "'''\n",
    "amt, (initial_velocity, stopping_distance) = stopping_distance_gen()\n",
    "print(f\"A car moving at {initial_velocity * 100:.2f}% speed, applied {amt * 100:.2f}% brakes and stopped, after travelling {stopping_distance:.2f} distance units\")"
   ]
  },
  {
   "cell_type": "markdown",
   "metadata": {},
   "source": [
    "## Analytical Solution for 'Simple' Car Model"
   ]
  },
  {
   "cell_type": "markdown",
   "metadata": {},
   "source": [
    "IMPORTANT NOTE: When you have completed implementations of these two functions, paste their definitions into the corresponding locations (under the matching function headers) in braking_distance/bd_api.py.  This is what the simulator will actually interact with."
   ]
  },
  {
   "cell_type": "code",
   "execution_count": 39,
   "metadata": {},
   "outputs": [],
   "source": [
    "'''\n",
    "Write the analytical solution for the theoretical stopping distance.\n",
    "The equation is presented in the lecture slides (Slides 9-13)\n",
    "\n",
    "Some helpful reminders:\n",
    "    The linear model assumes: accel = c_1 * p_accel + c_2 * p_brake + c_3 * vel + c_4\n",
    "    c_1 = ci.accelerator_weight\n",
    "    c_2 = ci.brake_weight\n",
    "    c_3 = -ci.friction_constant\n",
    "    c_4 = ci.rolling_bias\n",
    "    (Where ci is the car interface you initialized above)\n",
    "\n",
    "Implemenation Instructions:\n",
    "1. Initialize x, f, and v0 from available information\n",
    "2. Check if the expression in Slide 13 would evaluate infinity, if so return float('inf')\n",
    "3. Otherwise return the stopping distance as calculated in Slide 3.\n",
    "\n",
    "NOTE: the stopping distance will be infinite when the brake amount is not enough to \n",
    "overcome the rolling bias.\n",
    "\n",
    "The only discrepancy between this and the actual stopping distance\n",
    "arises from the discretized nature of the simulation.  This is\n",
    "a precise calculation otherwise.\n",
    "\n",
    "IMPORTANT: After implementing this sucessfully paste the function body in \n",
    "the corresponding and marked location in braking_distance/bd_api.py (line 80)\n",
    "'''\n",
    "def simple_analytical_sd(initial_velocity, amt):\n",
    "  f, x = ci.friction_constant, ci.brake_weight * amt + ci.rolling_bias\n",
    "  v0 = initial_velocity\n",
    "  if ((1 - f * v0 / x) < 0):\n",
    "    return float(\"inf\")\n",
    "  return (1 / f) * (v0 + x / f * np.log(1  - f * v0 / x))\n",
    "\n",
    "'''\n",
    "Function takes as input the initial velocity and desired stopping distance.\n",
    "Then using binary search returns an estimate within the specified tolerance\n",
    "of the actual required brake amount.\n",
    "\n",
    "Parameters:\n",
    "inp: (initial velocity, desired stopping distance)\n",
    "tol: estimate tolerance \n",
    "min_amt: minumum possible value of the required brake amount (initially 0)\n",
    "max_amt: maximum possible value of the required brake amount (initially 1)\n",
    "\n",
    "\n",
    "Implemenation Instructions\n",
    "1.Initialize mid_amt as the midway point between min_amt and max_amt.\n",
    "2.If the length of the min max interval is less than twice the tolerance,\n",
    "  then mid_amt is a valid estimate (+/- the the tolerance of the actual)\n",
    "3a.Calculate the analytical stopping distance with the given initial velocity,\n",
    "   and current estimate (mid_amt).\n",
    " b.Update min_amt and max_amt accordingly to narrow the search space and recurse.\n",
    "   (NOTE: careful, if the stopping distance is too high is the mid_amt too high or low?)\n",
    "   \n",
    "IMPORTANT: After implementing this sucessefully paste the function body in the \n",
    "corresponding and marked location in braking_distance/bd_api.py (roughly line 90)\n",
    "'''\n",
    "def simple_analytical_approx(inp, tol = 1e-5, min_amt = 0, max_amt = 1):\n",
    "  mid_amt = (min_amt + max_amt) / 2\n",
    "  if (max_amt - min_amt) < 2 * tol:\n",
    "    return mid_amt\n",
    "  analytical_sd = simple_analytical_sd(inp[0], mid_amt)\n",
    "  if (analytical_sd < inp[1]):\n",
    "    return simple_analytical_approx(inp, tol, min_amt, mid_amt)\n",
    "  else:\n",
    "    return simple_analytical_approx(inp, tol, mid_amt, max_amt)\n",
    ""
   ]
  },
  {
   "cell_type": "code",
   "execution_count": 40,
   "metadata": {},
   "outputs": [],
   "source": [
    "'''\n",
    "Demonstrate the performance of the Analytical Equation Estimate\n",
    "with a few examples.  (The estimate is the \"Closed Form Brake Amount\").\n",
    "The simulated result and the closed form brake amount should be very close.\n",
    "The discrepancy is largest in extreme value cases where the discretization\n",
    "has a significant effect.\n",
    "'''\n",
    "if (MODE == 1):\n",
    "    for i in range(3):\n",
    "            amt, (initial_velocity, stopping_distance) = stopping_distance_gen()\n",
    "            pred = simple_analytical_approx((initial_velocity, stopping_distance))\n",
    "            print(f\"Car moving at {initial_velocity * 100:.2f}%; Target Stopping Distance {stopping_distance:.2f} distance units\")\n",
    "            print(f\"Simulation Brake Amount: {amt*100:.2f}%; Closed Form Brake Amount {pred*100:.2f}%\")\n",
    "            print()"
   ]
  },
  {
   "cell_type": "markdown",
   "metadata": {},
   "source": [
    "## FCN Training and Evaluation"
   ]
  },
  {
   "cell_type": "code",
   "execution_count": 47,
   "metadata": {},
   "outputs": [],
   "source": [
    "'''\n",
    "Initialize FCN.\n",
    "\n",
    "You will need to supply additional parameters to the\n",
    "initializer function. See utils/nn.py for documentation.\n",
    "See demos/week3/Nonlinear_SystemID for example usage.\n",
    "\n",
    "Hint 1: There are two additional parameters you need to specify\n",
    "Hint 2:  What are the inputs for this FCN?  What is the ouput?\n",
    "What are the reasonable possible outputs?\n",
    "\n",
    "NOTE: If this is your first time running this block it will \n",
    "randomly initialize a set of weights.  Afterwards by default,\n",
    "this will load weights you trained earlier.  If you would like\n",
    "to force the model to reinitialize weights, provide a third\n",
    "additional argument retrain = True. (see utils/nn.py for more)\n",
    "'''\n",
    "if (MODE == 0):\n",
    "    model = nn.fcn(model_name = \"../../braking_distance/\" + CAR_MODEL + \"_bd\", num_inputs=2)"
   ]
  },
  {
   "cell_type": "code",
   "execution_count": 42,
   "metadata": {
    "tags": [
     "outputPrepend",
     "outputPrepend",
     "outputPrepend",
     "outputPrepend",
     "outputPrepend",
     "outputPrepend",
     "outputPrepend",
     "outputPrepend",
     "outputPrepend",
     "outputPrepend",
     "outputPrepend",
     "outputPrepend",
     "outputPrepend",
     "outputPrepend",
     "outputPrepend",
     "outputPrepend",
     "outputPrepend",
     "outputPrepend",
     "outputPrepend",
     "outputPrepend",
     "outputPrepend",
     "outputPrepend",
     "outputPrepend",
     "outputPrepend",
     "outputPrepend",
     "outputPrepend",
     "outputPrepend",
     "outputPrepend",
     "outputPrepend",
     "outputPrepend",
     "outputPrepend",
     "outputPrepend",
     "outputPrepend",
     "outputPrepend",
     "outputPrepend",
     "outputPrepend",
     "outputPrepend",
     "outputPrepend",
     "outputPrepend",
     "outputPrepend",
     "outputPrepend",
     "outputPrepend",
     "outputPrepend",
     "outputPrepend",
     "outputPrepend",
     "outputPrepend",
     "outputPrepend",
     "outputPrepend",
     "outputPrepend",
     "outputPrepend",
     "outputPrepend",
     "outputPrepend",
     "outputPrepend",
     "outputPrepend",
     "outputPrepend",
     "outputPrepend",
     "outputPrepend",
     "outputPrepend",
     "outputPrepend",
     "outputPrepend",
     "outputPrepend",
     "outputPrepend",
     "outputPrepend",
     "outputPrepend",
     "outputPrepend",
     "outputPrepend",
     "outputPrepend",
     "outputPrepend",
     "outputPrepend",
     "outputPrepend",
     "outputPrepend",
     "outputPrepend",
     "outputPrepend",
     "outputPrepend",
     "outputPrepend",
     "outputPrepend",
     "outputPrepend",
     "outputPrepend",
     "outputPrepend",
     "outputPrepend",
     "outputPrepend",
     "outputPrepend",
     "outputPrepend",
     "outputPrepend",
     "outputPrepend",
     "outputPrepend",
     "outputPrepend",
     "outputPrepend",
     "outputPrepend",
     "outputPrepend",
     "outputPrepend",
     "outputPrepend",
     "outputPrepend",
     "outputPrepend",
     "outputPrepend",
     "outputPrepend",
     "outputPrepend",
     "outputPrepend",
     "outputPrepend",
     "outputPrepend",
     "outputPrepend",
     "outputPrepend",
     "outputPrepend",
     "outputPrepend",
     "outputPrepend",
     "outputPrepend",
     "outputPrepend",
     "outputPrepend",
     "outputPrepend",
     "outputPrepend",
     "outputPrepend",
     "outputPrepend",
     "outputPrepend",
     "outputPrepend",
     "outputPrepend",
     "outputPrepend",
     "outputPrepend",
     "outputPrepend",
     "outputPrepend",
     "outputPrepend",
     "outputPrepend",
     "outputPrepend",
     "outputPrepend",
     "outputPrepend",
     "outputPrepend",
     "outputPrepend",
     "outputPrepend",
     "outputPrepend",
     "outputPrepend",
     "outputPrepend",
     "outputPrepend",
     "outputPrepend",
     "outputPrepend",
     "outputPrepend",
     "outputPrepend",
     "outputPrepend",
     "outputPrepend",
     "outputPrepend",
     "outputPrepend",
     "outputPrepend",
     "outputPrepend",
     "outputPrepend",
     "outputPrepend",
     "outputPrepend",
     "outputPrepend",
     "outputPrepend",
     "outputPrepend",
     "outputPrepend",
     "outputPrepend",
     "outputPrepend",
     "outputPrepend",
     "outputPrepend"
    ]
   },
   "outputs": [
    {
     "output_type": "stream",
     "name": "stdout",
     "text": "0\nEPOCH 1 0.265111\nEPOCH 2 0.055175EPOCH 3 0.042570EPOCH 4 0.041572EPOCH 5 0.040206EPOCH 6 0.039805EPOCH 7 0.039261EPOCH 8 0.038167EPOCH 9 0.038444EPOCH 10 0.038194EPOCH 11 0.037778EPOCH 12 0.035750EPOCH 13 0.035409EPOCH 14 0.034676EPOCH 15 0.034401EPOCH 16 0.036793EPOCH 17 0.033667EPOCH 18 0.034168EPOCH 19 0.034075EPOCH 20 0.032981EPOCH 21 0.034890EPOCH 22 0.035281EPOCH 23 0.033024EPOCH 24 0.033798EPOCH 25 0.033924EPOCH 26 0.032626EPOCH 27 0.033382EPOCH 28 0.033123EPOCH 29 0.032017EPOCH 30 0.033275EPOCH 31 0.032787EPOCH 32 0.031346EPOCH 33 0.032289EPOCH 34 0.031579EPOCH 35 0.032277EPOCH 36 0.031272EPOCH 37 0.032110EPOCH 38 0.031581EPOCH 39 0.033463EPOCH 40 0.030890EPOCH 41 0.031357\nEPOCH 42 0.031263EPOCH 43 0.031181EPOCH 44 0.031707EPOCH 45 0.031206EPOCH 46 0.031285EPOCH 47 0.031521EPOCH 48 0.032133EPOCH 49 0.030507EPOCH 50 0.030729EPOCH 51 0.031128EPOCH 52 0.030966EPOCH 53 0.030100EPOCH 54 0.029831EPOCH 55 0.030696EPOCH 56 0.031077EPOCH 57 0.030242EPOCH 58 0.030812EPOCH 59 0.030626EPOCH 60 0.032052EPOCH 61 0.031132EPOCH 62 0.030107EPOCH 63 0.030420EPOCH 64 0.030260EPOCH 65 0.030579EPOCH 66 0.031054EPOCH 67 0.030219EPOCH 68 0.030274EPOCH 69 0.030209EPOCH 70 0.030770EPOCH 71 0.031607EPOCH 72 0.031396EPOCH 73 0.030448EPOCH 74 0.030206EPOCH 75 0.030403EPOCH 76 0.031714EPOCH 77 0.029873EPOCH 78 0.029787EPOCH 79 0.030764EPOCH 80 0.029981EPOCH 81 0.031234\nEPOCH 82 0.030399EPOCH 83 0.030534EPOCH 84 0.029786EPOCH 85 0.030795EPOCH 86 0.030684EPOCH 87 0.030511EPOCH 88 0.030241EPOCH 89 0.030307EPOCH 90 0.030922EPOCH 91 0.030241EPOCH 92 0.030568EPOCH 93 0.029519EPOCH 94 0.029730EPOCH 95 0.029839EPOCH 96 0.030852EPOCH 97 0.030297EPOCH 98 0.029380EPOCH 99 0.030639EPOCH 100 0.031629EPOCH 101 0.029943EPOCH 102 0.030112EPOCH 103 0.030701EPOCH 104 0.031297EPOCH 105 0.030344EPOCH 106 0.029679EPOCH 107 0.028904EPOCH 108 0.030578EPOCH 109 0.031004EPOCH 110 0.029827EPOCH 111 0.030092EPOCH 112 0.028661EPOCH 113 0.029109EPOCH 114 0.029034EPOCH 115 0.031742EPOCH 116 0.029401EPOCH 117 0.029629EPOCH 118 0.029535EPOCH 119 0.028995EPOCH 120 0.029762EPOCH 121 0.030443\nEPOCH 122 0.029753EPOCH 123 0.029032EPOCH 124 0.030298EPOCH 125 0.029991EPOCH 126 0.029847EPOCH 127 0.030972EPOCH 128 0.030153EPOCH 129 0.029459EPOCH 130 0.030265EPOCH 131 0.029462EPOCH 132 0.029242EPOCH 133 0.029828EPOCH 134 0.030189EPOCH 135 0.029893EPOCH 136 0.030591EPOCH 137 0.031789EPOCH 138 0.029682EPOCH 139 0.029855EPOCH 140 0.029220EPOCH 141 0.029852EPOCH 142 0.029643EPOCH 143 0.029595EPOCH 144 0.030034EPOCH 145 0.030024EPOCH 146 0.029093EPOCH 147 0.029711EPOCH 148 0.028988EPOCH 149 0.028477EPOCH 150 0.029670EPOCH 151 0.029794EPOCH 152 0.028559EPOCH 153 0.030093EPOCH 154 0.029328EPOCH 155 0.029344EPOCH 156 0.028747EPOCH 157 0.028757EPOCH 158 0.029990EPOCH 159 0.029619EPOCH 160 0.029766EPOCH 161 0.028787\n1\nEPOCH 1 0.027061\nEPOCH 2 0.027153EPOCH 3 0.026576EPOCH 4 0.026812EPOCH 5 0.026752EPOCH 6 0.027962EPOCH 7 0.027603EPOCH 8 0.027262EPOCH 9 0.027088EPOCH 10 0.026746EPOCH 11 0.026794EPOCH 12 0.026780EPOCH 13 0.027338EPOCH 14 0.027392EPOCH 15 0.026924EPOCH 16 0.027524EPOCH 17 0.026546EPOCH 18 0.026366EPOCH 19 0.026566EPOCH 20 0.026783EPOCH 21 0.026678EPOCH 22 0.026040EPOCH 23 0.027040EPOCH 24 0.026950EPOCH 25 0.028212EPOCH 26 0.025956EPOCH 27 0.026788EPOCH 28 0.026711EPOCH 29 0.026585EPOCH 30 0.026359EPOCH 31 0.026083EPOCH 32 0.027744EPOCH 33 0.026716EPOCH 34 0.026556EPOCH 35 0.026703EPOCH 36 0.025596EPOCH 37 0.027499EPOCH 38 0.026207EPOCH 39 0.026483EPOCH 40 0.026969EPOCH 41 0.027543\nEPOCH 42 0.027011EPOCH 43 0.026182EPOCH 44 0.026827EPOCH 45 0.027239EPOCH 46 0.025909EPOCH 47 0.026399EPOCH 48 0.027486EPOCH 49 0.026313EPOCH 50 0.026348EPOCH 51 0.025816EPOCH 52 0.025715EPOCH 53 0.027489EPOCH 54 0.027199EPOCH 55 0.026630EPOCH 56 0.026802EPOCH 57 0.026897EPOCH 58 0.026447EPOCH 59 0.026930EPOCH 60 0.026346EPOCH 61 0.026591EPOCH 62 0.026351EPOCH 63 0.026346EPOCH 64 0.026366EPOCH 65 0.026505EPOCH 66 0.025871EPOCH 67 0.026190EPOCH 68 0.026040EPOCH 69 0.025862EPOCH 70 0.025845EPOCH 71 0.026949EPOCH 72 0.026711EPOCH 73 0.026838EPOCH 74 0.026061EPOCH 75 0.026936EPOCH 76 0.027729EPOCH 77 0.026210EPOCH 78 0.025979EPOCH 79 0.026362EPOCH 80 0.025836EPOCH 81 0.026889\nEPOCH 82 0.026345EPOCH 83 0.025718EPOCH 84 0.026306EPOCH 85 0.025728EPOCH 86 0.026485EPOCH 87 0.026546EPOCH 88 0.026137EPOCH 89 0.026581EPOCH 90 0.026211EPOCH 91 0.027156EPOCH 92 0.026484EPOCH 93 0.026169EPOCH 94 0.026889EPOCH 95 0.026107EPOCH 96 0.025872EPOCH 97 0.026263EPOCH 98 0.026230EPOCH 99 0.026049EPOCH 100 0.026732EPOCH 101 0.025906EPOCH 102 0.025877EPOCH 103 0.026925EPOCH 104 0.026477EPOCH 105 0.026777EPOCH 106 0.025536EPOCH 107 0.026418EPOCH 108 0.026817EPOCH 109 0.025970EPOCH 110 0.026088EPOCH 111 0.025652EPOCH 112 0.026980EPOCH 113 0.026519EPOCH 114 0.026388EPOCH 115 0.025923EPOCH 116 0.026177EPOCH 117 0.025769EPOCH 118 0.026202EPOCH 119 0.027896EPOCH 120 0.025959EPOCH 121 0.026238\nEPOCH 122 0.026364EPOCH 123 0.025647EPOCH 124 0.025546EPOCH 125 0.025819EPOCH 126 0.025925EPOCH 127 0.025580EPOCH 128 0.026494EPOCH 129 0.026478EPOCH 130 0.025959EPOCH 131 0.026476EPOCH 132 0.026615EPOCH 133 0.026655EPOCH 134 0.025823EPOCH 135 0.026605EPOCH 136 0.026130EPOCH 137 0.025945EPOCH 138 0.025528EPOCH 139 0.027068EPOCH 140 0.025761EPOCH 141 0.025223EPOCH 142 0.025728EPOCH 143 0.025923EPOCH 144 0.027132EPOCH 145 0.025800EPOCH 146 0.025681EPOCH 147 0.025599EPOCH 148 0.027204EPOCH 149 0.026634EPOCH 150 0.026799EPOCH 151 0.026285EPOCH 152 0.025721EPOCH 153 0.025189EPOCH 154 0.026061EPOCH 155 0.025498EPOCH 156 0.025950EPOCH 157 0.026674EPOCH 158 0.026542EPOCH 159 0.025241EPOCH 160 0.025888EPOCH 161 0.025854\n2\nEPOCH 1 0.028417\nEPOCH 2 0.027951EPOCH 3 0.028072EPOCH 4 0.027624EPOCH 5 0.027323EPOCH 6 0.029348EPOCH 7 0.028217EPOCH 8 0.027586EPOCH 9 0.027351EPOCH 10 0.027887EPOCH 11 0.027427EPOCH 12 0.026834EPOCH 13 0.027873EPOCH 14 0.028142EPOCH 15 0.027861EPOCH 16 0.027499EPOCH 17 0.027739EPOCH 18 0.027732EPOCH 19 0.026998EPOCH 20 0.026974EPOCH 21 0.026800EPOCH 22 0.027201EPOCH 23 0.026850EPOCH 24 0.027621EPOCH 25 0.026678EPOCH 26 0.026969EPOCH 27 0.026180EPOCH 28 0.027869EPOCH 29 0.026862EPOCH 30 0.027850EPOCH 31 0.026990EPOCH 32 0.027857EPOCH 33 0.027420EPOCH 34 0.026924EPOCH 35 0.026289EPOCH 36 0.027022EPOCH 37 0.026680EPOCH 38 0.027577EPOCH 39 0.026728EPOCH 40 0.026752EPOCH 41 0.026604\nEPOCH 42 0.027089EPOCH 43 0.027459EPOCH 44 0.026764EPOCH 45 0.027388EPOCH 46 0.026074EPOCH 47 0.027429EPOCH 48 0.028431EPOCH 49 0.026927EPOCH 50 0.027521EPOCH 51 0.026733EPOCH 52 0.026808EPOCH 53 0.027028EPOCH 54 0.026229EPOCH 55 0.026546EPOCH 56 0.026406EPOCH 57 0.027214EPOCH 58 0.026977EPOCH 59 0.026624EPOCH 60 0.026107EPOCH 61 0.027053EPOCH 62 0.026328EPOCH 63 0.027255EPOCH 64 0.027132EPOCH 65 0.027161EPOCH 66 0.027827EPOCH 67 0.026373EPOCH 68 0.026731EPOCH 69 0.026297EPOCH 70 0.026441EPOCH 71 0.026224EPOCH 72 0.026775EPOCH 73 0.027287EPOCH 74 0.027405EPOCH 75 0.026892EPOCH 76 0.026382EPOCH 77 0.026438EPOCH 78 0.026117EPOCH 79 0.026618EPOCH 80 0.026224EPOCH 81 0.026549\nEPOCH 82 0.025774EPOCH 83 0.026552EPOCH 84 0.026183EPOCH 85 0.026135EPOCH 86 0.026748EPOCH 87 0.028235EPOCH 88 0.026722EPOCH 89 0.026133EPOCH 90 0.026421EPOCH 91 0.027395EPOCH 92 0.026324EPOCH 93 0.026260EPOCH 94 0.028237EPOCH 95 0.026757EPOCH 96 0.026027EPOCH 97 0.027413EPOCH 98 0.026630EPOCH 99 0.026617EPOCH 100 0.026376EPOCH 101 0.026919EPOCH 102 0.025860EPOCH 103 0.026833EPOCH 104 0.026876EPOCH 105 0.025598EPOCH 106 0.025951EPOCH 107 0.026127EPOCH 108 0.027130EPOCH 109 0.027071EPOCH 110 0.026648EPOCH 111 0.026254EPOCH 112 0.027197EPOCH 113 0.027253EPOCH 114 0.025654EPOCH 115 0.025889EPOCH 116 0.026265EPOCH 117 0.026779EPOCH 118 0.026454EPOCH 119 0.026952EPOCH 120 0.026886EPOCH 121 0.026435\nEPOCH 122 0.025879EPOCH 123 0.026565EPOCH 124 0.025849EPOCH 125 0.027029EPOCH 126 0.026127EPOCH 127 0.026084EPOCH 128 0.027287EPOCH 129 0.026099EPOCH 130 0.025817EPOCH 131 0.025787EPOCH 132 0.026498EPOCH 133 0.026141EPOCH 134 0.026149EPOCH 135 0.027281EPOCH 136 0.026146EPOCH 137 0.025603EPOCH 138 0.026119EPOCH 139 0.025927EPOCH 140 0.026149EPOCH 141 0.025980EPOCH 142 0.026272EPOCH 143 0.026815EPOCH 144 0.025977EPOCH 145 0.026084EPOCH 146 0.026734EPOCH 147 0.025822EPOCH 148 0.026505EPOCH 149 0.025845EPOCH 150 0.025714EPOCH 151 0.025787EPOCH 152 0.027084EPOCH 153 0.026251EPOCH 154 0.025233EPOCH 155 0.025711EPOCH 156 0.025582EPOCH 157 0.025184EPOCH 158 0.025984EPOCH 159 0.026003EPOCH 160 0.025813EPOCH 161 0.026794\n3\nEPOCH 1 0.027411\nEPOCH 2 0.026053EPOCH 3 0.026085EPOCH 4 0.025932EPOCH 5 0.026318EPOCH 6 0.026290EPOCH 7 0.026925EPOCH 8 0.025660EPOCH 9 0.026500EPOCH 10 0.025814EPOCH 11 0.026104EPOCH 12 0.026209EPOCH 13 0.025674EPOCH 14 0.026217EPOCH 15 0.025625EPOCH 16 0.026693EPOCH 17 0.025807EPOCH 18 0.025660EPOCH 19 0.025946EPOCH 20 0.025909EPOCH 21 0.025629EPOCH 22 0.026773EPOCH 23 0.025395EPOCH 24 0.025733EPOCH 25 0.026310EPOCH 26 0.025848EPOCH 27 0.025253EPOCH 28 0.025585EPOCH 29 0.025979EPOCH 30 0.025874EPOCH 31 0.026708EPOCH 32 0.026193EPOCH 33 0.025766EPOCH 34 0.025246EPOCH 35 0.026350EPOCH 36 0.025772EPOCH 37 0.025687EPOCH 38 0.025429EPOCH 39 0.025261EPOCH 40 0.025705EPOCH 41 0.025376\nEPOCH 42 0.026051EPOCH 43 0.025928EPOCH 44 0.025794EPOCH 45 0.024998EPOCH 46 0.025416EPOCH 47 0.025043EPOCH 48 0.025206EPOCH 49 0.025365EPOCH 50 0.025716EPOCH 51 0.025994EPOCH 52 0.025453EPOCH 53 0.025822EPOCH 54 0.026468EPOCH 55 0.026075EPOCH 56 0.025275EPOCH 57 0.025258EPOCH 58 0.025234EPOCH 59 0.025416EPOCH 60 0.026251EPOCH 61 0.025121EPOCH 62 0.025259EPOCH 63 0.024890EPOCH 64 0.025326EPOCH 65 0.025131EPOCH 66 0.025753EPOCH 67 0.026138EPOCH 68 0.026486EPOCH 69 0.025409EPOCH 70 0.025701EPOCH 71 0.026016EPOCH 72 0.025713EPOCH 73 0.025608EPOCH 74 0.026087EPOCH 75 0.025266EPOCH 76 0.026009EPOCH 77 0.025388EPOCH 78 0.025135EPOCH 79 0.026773EPOCH 80 0.025669EPOCH 81 0.025310\nEPOCH 82 0.025060EPOCH 83 0.025577EPOCH 84 0.025226EPOCH 85 0.025579EPOCH 86 0.024960EPOCH 87 0.025470EPOCH 88 0.025513EPOCH 89 0.025843EPOCH 90 0.024826EPOCH 91 0.025380EPOCH 92 0.025499EPOCH 93 0.025318EPOCH 94 0.024909EPOCH 95 0.025048EPOCH 96 0.025489EPOCH 97 0.025649EPOCH 98 0.025544EPOCH 99 0.025219EPOCH 100 0.025023EPOCH 101 0.025025EPOCH 102 0.024958EPOCH 103 0.025222EPOCH 104 0.026576EPOCH 105 0.025309EPOCH 106 0.026024EPOCH 107 0.025548EPOCH 108 0.025074EPOCH 109 0.025190EPOCH 110 0.025786EPOCH 111 0.025217EPOCH 112 0.024525EPOCH 113 0.025344EPOCH 114 0.024851EPOCH 115 0.025062EPOCH 116 0.025083EPOCH 117 0.025379EPOCH 118 0.024619EPOCH 119 0.025143EPOCH 120 0.024957EPOCH 121 0.024658\nEPOCH 122 0.025145EPOCH 123 0.025143EPOCH 124 0.024738EPOCH 125 0.025035EPOCH 126 0.024439EPOCH 127 0.025105EPOCH 128 0.024695EPOCH 129 0.024437EPOCH 130 0.025139EPOCH 131 0.025513EPOCH 132 0.024386EPOCH 133 0.024816EPOCH 134 0.025247EPOCH 135 0.025408EPOCH 136 0.024795EPOCH 137 0.025046EPOCH 138 0.025257EPOCH 139 0.025107EPOCH 140 0.025160EPOCH 141 0.025003EPOCH 142 0.025171EPOCH 143 0.024468EPOCH 144 0.025147EPOCH 145 0.024552EPOCH 146 0.025182EPOCH 147 0.024966EPOCH 148 0.024936EPOCH 149 0.025522EPOCH 150 0.025219EPOCH 151 0.024972EPOCH 152 0.025082EPOCH 153 0.025279EPOCH 154 0.024780EPOCH 155 0.025163EPOCH 156 0.024683EPOCH 157 0.024991EPOCH 158 0.025209EPOCH 159 0.025039EPOCH 160 0.024799EPOCH 161 0.024847\n4\nEPOCH 1 0.027235\nEPOCH 2 0.026058EPOCH 3 0.026063EPOCH 4 0.025922EPOCH 5 0.025775EPOCH 6 0.025701EPOCH 7 0.026616EPOCH 8 0.025855EPOCH 9 0.025489EPOCH 10 0.026492EPOCH 11 0.026084EPOCH 12 0.025378EPOCH 13 0.025314EPOCH 14 0.026080EPOCH 15 0.026824EPOCH 16 0.025782EPOCH 17 0.025987EPOCH 18 0.026324EPOCH 19 0.025256EPOCH 20 0.025661EPOCH 21 0.025622EPOCH 22 0.025429EPOCH 23 0.025641EPOCH 24 0.025540EPOCH 25 0.025723EPOCH 26 0.025285EPOCH 27 0.025689EPOCH 28 0.025704EPOCH 29 0.025259EPOCH 30 0.025491EPOCH 31 0.026098EPOCH 32 0.026164EPOCH 33 0.025833EPOCH 34 0.025319EPOCH 35 0.025368EPOCH 36 0.025447EPOCH 37 0.025460EPOCH 38 0.025425EPOCH 39 0.025509EPOCH 40 0.025355EPOCH 41 0.026192\nEPOCH 42 0.025660EPOCH 43 0.024935EPOCH 44 0.025794EPOCH 45 0.025629EPOCH 46 0.025572EPOCH 47 0.025189EPOCH 48 0.025501EPOCH 49 0.025286EPOCH 50 0.025247EPOCH 51 0.025418EPOCH 52 0.025722EPOCH 53 0.025081EPOCH 54 0.025419EPOCH 55 0.025058EPOCH 56 0.024901EPOCH 57 0.025644EPOCH 58 0.025032EPOCH 59 0.025694EPOCH 60 0.025688EPOCH 61 0.024990EPOCH 62 0.025165EPOCH 63 0.025112EPOCH 64 0.025017EPOCH 65 0.026032EPOCH 66 0.025912EPOCH 67 0.025070EPOCH 68 0.024646EPOCH 69 0.025670EPOCH 70 0.024857EPOCH 71 0.024936EPOCH 72 0.025889EPOCH 73 0.025066EPOCH 74 0.024920EPOCH 75 0.024622EPOCH 76 0.025834EPOCH 77 0.025307EPOCH 78 0.025732EPOCH 79 0.024985EPOCH 80 0.025995EPOCH 81 0.025348\nEPOCH 82 0.025205EPOCH 83 0.024652EPOCH 84 0.025748EPOCH 85 0.025243EPOCH 86 0.024796EPOCH 87 0.025314EPOCH 88 0.024929EPOCH 89 0.024549EPOCH 90 0.025631EPOCH 91 0.024588EPOCH 92 0.025343EPOCH 93 0.025530EPOCH 94 0.025490EPOCH 95 0.025016EPOCH 96 0.025051EPOCH 97 0.025611EPOCH 98 0.024877EPOCH 99 0.024870EPOCH 100 0.024977EPOCH 101 0.024523EPOCH 102 0.025135EPOCH 103 0.024634EPOCH 104 0.025721EPOCH 105 0.024745EPOCH 106 0.025082EPOCH 107 0.024891EPOCH 108 0.024536EPOCH 109 0.025514EPOCH 110 0.025366EPOCH 111 0.025042EPOCH 112 0.025551EPOCH 113 0.024246EPOCH 114 0.025754EPOCH 115 0.025693EPOCH 116 0.025198EPOCH 117 0.025549EPOCH 118 0.025183EPOCH 119 0.025318EPOCH 120 0.025312EPOCH 121 0.024643\nEPOCH 122 0.024458EPOCH 123 0.024772EPOCH 124 0.024801EPOCH 125 0.025246EPOCH 126 0.025317EPOCH 127 0.025367EPOCH 128 0.024692EPOCH 129 0.024895EPOCH 130 0.025266EPOCH 131 0.024629EPOCH 132 0.025230EPOCH 133 0.024546EPOCH 134 0.024547EPOCH 135 0.024911EPOCH 136 0.024805EPOCH 137 0.024540EPOCH 138 0.024451EPOCH 139 0.025208EPOCH 140 0.024623EPOCH 141 0.024984EPOCH 142 0.024919EPOCH 143 0.024406EPOCH 144 0.024664EPOCH 145 0.024706EPOCH 146 0.024475EPOCH 147 0.024765EPOCH 148 0.024490EPOCH 149 0.024339EPOCH 150 0.024735EPOCH 151 0.024858EPOCH 152 0.025361EPOCH 153 0.024406EPOCH 154 0.024896EPOCH 155 0.024980EPOCH 156 0.024747EPOCH 157 0.024260EPOCH 158 0.024516EPOCH 159 0.024702EPOCH 160 0.024886EPOCH 161 0.024884\nEPOCH 162 0.024670EPOCH 163 0.024123EPOCH 164 0.024100EPOCH 165 0.024571EPOCH 166 0.024843EPOCH 167 0.024833EPOCH 168 0.024982EPOCH 169 0.025033EPOCH 170 0.024159EPOCH 171 0.025562EPOCH 172 0.024927EPOCH 173 0.024727EPOCH 174 0.024676EPOCH 175 0.024656EPOCH 176 0.024603EPOCH 177 0.024719EPOCH 178 0.024819EPOCH 179 0.024758EPOCH 180 0.024545EPOCH 181 0.024434EPOCH 182 0.024373EPOCH 183 0.024638EPOCH 184 0.024768EPOCH 185 0.025079EPOCH 186 0.024238EPOCH 187 0.024687EPOCH 188 0.024654EPOCH 189 0.024482EPOCH 190 0.024415EPOCH 191 0.024810EPOCH 192 0.024647EPOCH 193 0.024673EPOCH 194 0.024488EPOCH 195 0.024498EPOCH 196 0.024355EPOCH 197 0.024924EPOCH 198 0.024444EPOCH 199 0.024170EPOCH 200 0.025806"
    }
   ],
   "source": [
    "'''\n",
    "Generate 1000 inputs and targets and train for 200 epochs on this\n",
    "generated data.  (Note you can run this blck a few times to train\n",
    "further).\n",
    "\n",
    "Implementation Instructions:\n",
    "1.Initialize two empty lists, inputs and targets.\n",
    "2a.Get a brake amount and and two dimensional input by calling\n",
    "   stopping_distance_gen()\n",
    " b.Append the input to the inputs list, and the brake amount to\n",
    "   the targets list.\n",
    " c.Repeat 2a and 2b 1000 times.\n",
    "3.Use the model.train method to train with this data for 200 epochs.\n",
    "  (See nn.py for function information)\n",
    "'''\n",
    "def train_nn():\n",
    "  if (MODE == 0):\n",
    "    inputs, targets = [], []\n",
    "    counter = 0\n",
    "    while counter < 2000:\n",
    "      amt, inp = stopping_distance_gen()\n",
    "      inputs.append(inp)\n",
    "      targets.append(amt)\n",
    "      counter += 1\n",
    "    model.train(inputs, targets, 200)\n",
    "\n",
    "# train_nn()\n",
    "for i in range(5):\n",
    "  print(i)\n",
    "  train_nn()\n",
    ""
   ]
  },
  {
   "cell_type": "code",
   "execution_count": 48,
   "metadata": {},
   "outputs": [
    {
     "output_type": "stream",
     "name": "stdout",
     "text": "INIT VEL: 0.120 TARG SD: 0.171 BRK AMT: 0.211 MODEL OUT:0.147 \nINIT VEL: 0.315 TARG SD: 0.925 BRK AMT: 0.782 MODEL OUT:0.822 \nINIT VEL: 0.607 TARG SD: 2.298 BRK AMT: 0.933 MODEL OUT:0.875 \n"
    }
   ],
   "source": [
    "'''\n",
    "Demonstrate the performance of the FCN brake amount estimator\n",
    "with a few examples.\n",
    "'''\n",
    "if (MODE == 0):\n",
    "    for i in range(3):\n",
    "        '''\n",
    "        Generate an example scenario complete with an initial velocity,\n",
    "        target stopping distance, and necessary brake amount.\n",
    "        \n",
    "        Then run your model on the appropriate input and record it's\n",
    "        predicted brake amount.\n",
    "        \n",
    "        Finally fill in the variable names you used in the blanks to output\n",
    "        the input, target, and output.\n",
    "        \n",
    "        Ideally the model ouput should be fairly close to the brake amount.\n",
    "        '''\n",
    "        amt, inp = stopping_distance_gen()\n",
    "        predication = model.predict(inp)\n",
    "        print(f\"INIT VEL: {inp[0]:.3f} TARG SD: {inp[1]:.3f} BRK AMT: {amt:.3f} MODEL OUT:{predication:.3f} \")"
   ]
  },
  {
   "cell_type": "code",
   "execution_count": 51,
   "metadata": {},
   "outputs": [
    {
     "output_type": "stream",
     "name": "stdout",
     "text": "TESTING 300/300WITHIN 0.1 271/300 times\nMEDIAN ERROR 0.0208\n"
    },
    {
     "output_type": "display_data",
     "data": {
      "text/plain": "<Figure size 432x288 with 1 Axes>",
      "image/svg+xml": "<?xml version=\"1.0\" encoding=\"utf-8\" standalone=\"no\"?>\r\n<!DOCTYPE svg PUBLIC \"-//W3C//DTD SVG 1.1//EN\"\r\n  \"http://www.w3.org/Graphics/SVG/1.1/DTD/svg11.dtd\">\r\n<!-- Created with matplotlib (https://matplotlib.org/) -->\r\n<svg height=\"263.63625pt\" version=\"1.1\" viewBox=\"0 0 368.925 263.63625\" width=\"368.925pt\" xmlns=\"http://www.w3.org/2000/svg\" xmlns:xlink=\"http://www.w3.org/1999/xlink\">\r\n <defs>\r\n  <style type=\"text/css\">\r\n*{stroke-linecap:butt;stroke-linejoin:round;}\r\n  </style>\r\n </defs>\r\n <g id=\"figure_1\">\r\n  <g id=\"patch_1\">\r\n   <path d=\"M -0 263.63625 \r\nL 368.925 263.63625 \r\nL 368.925 0 \r\nL -0 0 \r\nz\r\n\" style=\"fill:none;\"/>\r\n  </g>\r\n  <g id=\"axes_1\">\r\n   <g id=\"patch_2\">\r\n    <path d=\"M 26.925 239.758125 \r\nL 361.725 239.758125 \r\nL 361.725 22.318125 \r\nL 26.925 22.318125 \r\nz\r\n\" style=\"fill:#ffffff;\"/>\r\n   </g>\r\n   <g id=\"patch_3\">\r\n    <path clip-path=\"url(#p1dd8cbf604)\" d=\"M 42.143182 239.758125 \r\nL 43.665 239.758125 \r\nL 43.665 239.758125 \r\nL 42.143182 239.758125 \r\nz\r\n\" style=\"fill:#1f77b4;\"/>\r\n   </g>\r\n   <g id=\"patch_4\">\r\n    <path clip-path=\"url(#p1dd8cbf604)\" d=\"M 43.665 239.758125 \r\nL 45.186818 239.758125 \r\nL 45.186818 239.758125 \r\nL 43.665 239.758125 \r\nz\r\n\" style=\"fill:#1f77b4;\"/>\r\n   </g>\r\n   <g id=\"patch_5\">\r\n    <path clip-path=\"url(#p1dd8cbf604)\" d=\"M 45.186818 239.758125 \r\nL 46.708636 239.758125 \r\nL 46.708636 239.758125 \r\nL 45.186818 239.758125 \r\nz\r\n\" style=\"fill:#1f77b4;\"/>\r\n   </g>\r\n   <g id=\"patch_6\">\r\n    <path clip-path=\"url(#p1dd8cbf604)\" d=\"M 46.708636 239.758125 \r\nL 48.230455 239.758125 \r\nL 48.230455 239.758125 \r\nL 46.708636 239.758125 \r\nz\r\n\" style=\"fill:#1f77b4;\"/>\r\n   </g>\r\n   <g id=\"patch_7\">\r\n    <path clip-path=\"url(#p1dd8cbf604)\" d=\"M 48.230455 239.758125 \r\nL 49.752273 239.758125 \r\nL 49.752273 239.758125 \r\nL 48.230455 239.758125 \r\nz\r\n\" style=\"fill:#1f77b4;\"/>\r\n   </g>\r\n   <g id=\"patch_8\">\r\n    <path clip-path=\"url(#p1dd8cbf604)\" d=\"M 49.752273 239.758125 \r\nL 51.274091 239.758125 \r\nL 51.274091 239.758125 \r\nL 49.752273 239.758125 \r\nz\r\n\" style=\"fill:#1f77b4;\"/>\r\n   </g>\r\n   <g id=\"patch_9\">\r\n    <path clip-path=\"url(#p1dd8cbf604)\" d=\"M 51.274091 239.758125 \r\nL 52.795909 239.758125 \r\nL 52.795909 239.758125 \r\nL 51.274091 239.758125 \r\nz\r\n\" style=\"fill:#1f77b4;\"/>\r\n   </g>\r\n   <g id=\"patch_10\">\r\n    <path clip-path=\"url(#p1dd8cbf604)\" d=\"M 52.795909 239.758125 \r\nL 54.317727 239.758125 \r\nL 54.317727 239.758125 \r\nL 52.795909 239.758125 \r\nz\r\n\" style=\"fill:#1f77b4;\"/>\r\n   </g>\r\n   <g id=\"patch_11\">\r\n    <path clip-path=\"url(#p1dd8cbf604)\" d=\"M 54.317727 239.758125 \r\nL 55.839545 239.758125 \r\nL 55.839545 239.758125 \r\nL 54.317727 239.758125 \r\nz\r\n\" style=\"fill:#1f77b4;\"/>\r\n   </g>\r\n   <g id=\"patch_12\">\r\n    <path clip-path=\"url(#p1dd8cbf604)\" d=\"M 55.839545 239.758125 \r\nL 57.361364 239.758125 \r\nL 57.361364 239.758125 \r\nL 55.839545 239.758125 \r\nz\r\n\" style=\"fill:#1f77b4;\"/>\r\n   </g>\r\n   <g id=\"patch_13\">\r\n    <path clip-path=\"url(#p1dd8cbf604)\" d=\"M 57.361364 239.758125 \r\nL 58.883182 239.758125 \r\nL 58.883182 239.758125 \r\nL 57.361364 239.758125 \r\nz\r\n\" style=\"fill:#1f77b4;\"/>\r\n   </g>\r\n   <g id=\"patch_14\">\r\n    <path clip-path=\"url(#p1dd8cbf604)\" d=\"M 58.883182 239.758125 \r\nL 60.405 239.758125 \r\nL 60.405 239.758125 \r\nL 58.883182 239.758125 \r\nz\r\n\" style=\"fill:#1f77b4;\"/>\r\n   </g>\r\n   <g id=\"patch_15\">\r\n    <path clip-path=\"url(#p1dd8cbf604)\" d=\"M 60.405 239.758125 \r\nL 61.926818 239.758125 \r\nL 61.926818 239.758125 \r\nL 60.405 239.758125 \r\nz\r\n\" style=\"fill:#1f77b4;\"/>\r\n   </g>\r\n   <g id=\"patch_16\">\r\n    <path clip-path=\"url(#p1dd8cbf604)\" d=\"M 61.926818 239.758125 \r\nL 63.448636 239.758125 \r\nL 63.448636 239.758125 \r\nL 61.926818 239.758125 \r\nz\r\n\" style=\"fill:#1f77b4;\"/>\r\n   </g>\r\n   <g id=\"patch_17\">\r\n    <path clip-path=\"url(#p1dd8cbf604)\" d=\"M 63.448636 239.758125 \r\nL 64.970455 239.758125 \r\nL 64.970455 239.758125 \r\nL 63.448636 239.758125 \r\nz\r\n\" style=\"fill:#1f77b4;\"/>\r\n   </g>\r\n   <g id=\"patch_18\">\r\n    <path clip-path=\"url(#p1dd8cbf604)\" d=\"M 64.970455 239.758125 \r\nL 66.492273 239.758125 \r\nL 66.492273 239.758125 \r\nL 64.970455 239.758125 \r\nz\r\n\" style=\"fill:#1f77b4;\"/>\r\n   </g>\r\n   <g id=\"patch_19\">\r\n    <path clip-path=\"url(#p1dd8cbf604)\" d=\"M 66.492273 239.758125 \r\nL 68.014091 239.758125 \r\nL 68.014091 239.758125 \r\nL 66.492273 239.758125 \r\nz\r\n\" style=\"fill:#1f77b4;\"/>\r\n   </g>\r\n   <g id=\"patch_20\">\r\n    <path clip-path=\"url(#p1dd8cbf604)\" d=\"M 68.014091 239.758125 \r\nL 69.535909 239.758125 \r\nL 69.535909 239.758125 \r\nL 68.014091 239.758125 \r\nz\r\n\" style=\"fill:#1f77b4;\"/>\r\n   </g>\r\n   <g id=\"patch_21\">\r\n    <path clip-path=\"url(#p1dd8cbf604)\" d=\"M 69.535909 239.758125 \r\nL 71.057727 239.758125 \r\nL 71.057727 239.758125 \r\nL 69.535909 239.758125 \r\nz\r\n\" style=\"fill:#1f77b4;\"/>\r\n   </g>\r\n   <g id=\"patch_22\">\r\n    <path clip-path=\"url(#p1dd8cbf604)\" d=\"M 71.057727 239.758125 \r\nL 72.579545 239.758125 \r\nL 72.579545 239.758125 \r\nL 71.057727 239.758125 \r\nz\r\n\" style=\"fill:#1f77b4;\"/>\r\n   </g>\r\n   <g id=\"patch_23\">\r\n    <path clip-path=\"url(#p1dd8cbf604)\" d=\"M 72.579545 239.758125 \r\nL 74.101364 239.758125 \r\nL 74.101364 239.758125 \r\nL 72.579545 239.758125 \r\nz\r\n\" style=\"fill:#1f77b4;\"/>\r\n   </g>\r\n   <g id=\"patch_24\">\r\n    <path clip-path=\"url(#p1dd8cbf604)\" d=\"M 74.101364 239.758125 \r\nL 75.623182 239.758125 \r\nL 75.623182 239.758125 \r\nL 74.101364 239.758125 \r\nz\r\n\" style=\"fill:#1f77b4;\"/>\r\n   </g>\r\n   <g id=\"patch_25\">\r\n    <path clip-path=\"url(#p1dd8cbf604)\" d=\"M 75.623182 239.758125 \r\nL 77.145 239.758125 \r\nL 77.145 239.758125 \r\nL 75.623182 239.758125 \r\nz\r\n\" style=\"fill:#1f77b4;\"/>\r\n   </g>\r\n   <g id=\"patch_26\">\r\n    <path clip-path=\"url(#p1dd8cbf604)\" d=\"M 77.145 239.758125 \r\nL 78.666818 239.758125 \r\nL 78.666818 239.758125 \r\nL 77.145 239.758125 \r\nz\r\n\" style=\"fill:#1f77b4;\"/>\r\n   </g>\r\n   <g id=\"patch_27\">\r\n    <path clip-path=\"url(#p1dd8cbf604)\" d=\"M 78.666818 239.758125 \r\nL 80.188636 239.758125 \r\nL 80.188636 239.758125 \r\nL 78.666818 239.758125 \r\nz\r\n\" style=\"fill:#1f77b4;\"/>\r\n   </g>\r\n   <g id=\"patch_28\">\r\n    <path clip-path=\"url(#p1dd8cbf604)\" d=\"M 80.188636 239.758125 \r\nL 81.710455 239.758125 \r\nL 81.710455 239.758125 \r\nL 80.188636 239.758125 \r\nz\r\n\" style=\"fill:#1f77b4;\"/>\r\n   </g>\r\n   <g id=\"patch_29\">\r\n    <path clip-path=\"url(#p1dd8cbf604)\" d=\"M 81.710455 239.758125 \r\nL 83.232273 239.758125 \r\nL 83.232273 239.758125 \r\nL 81.710455 239.758125 \r\nz\r\n\" style=\"fill:#1f77b4;\"/>\r\n   </g>\r\n   <g id=\"patch_30\">\r\n    <path clip-path=\"url(#p1dd8cbf604)\" d=\"M 83.232273 239.758125 \r\nL 84.754091 239.758125 \r\nL 84.754091 239.758125 \r\nL 83.232273 239.758125 \r\nz\r\n\" style=\"fill:#1f77b4;\"/>\r\n   </g>\r\n   <g id=\"patch_31\">\r\n    <path clip-path=\"url(#p1dd8cbf604)\" d=\"M 84.754091 239.758125 \r\nL 86.275909 239.758125 \r\nL 86.275909 239.758125 \r\nL 84.754091 239.758125 \r\nz\r\n\" style=\"fill:#1f77b4;\"/>\r\n   </g>\r\n   <g id=\"patch_32\">\r\n    <path clip-path=\"url(#p1dd8cbf604)\" d=\"M 86.275909 239.758125 \r\nL 87.797727 239.758125 \r\nL 87.797727 239.758125 \r\nL 86.275909 239.758125 \r\nz\r\n\" style=\"fill:#1f77b4;\"/>\r\n   </g>\r\n   <g id=\"patch_33\">\r\n    <path clip-path=\"url(#p1dd8cbf604)\" d=\"M 87.797727 239.758125 \r\nL 89.319545 239.758125 \r\nL 89.319545 239.758125 \r\nL 87.797727 239.758125 \r\nz\r\n\" style=\"fill:#1f77b4;\"/>\r\n   </g>\r\n   <g id=\"patch_34\">\r\n    <path clip-path=\"url(#p1dd8cbf604)\" d=\"M 89.319545 239.758125 \r\nL 90.841364 239.758125 \r\nL 90.841364 239.758125 \r\nL 89.319545 239.758125 \r\nz\r\n\" style=\"fill:#1f77b4;\"/>\r\n   </g>\r\n   <g id=\"patch_35\">\r\n    <path clip-path=\"url(#p1dd8cbf604)\" d=\"M 90.841364 239.758125 \r\nL 92.363182 239.758125 \r\nL 92.363182 239.758125 \r\nL 90.841364 239.758125 \r\nz\r\n\" style=\"fill:#1f77b4;\"/>\r\n   </g>\r\n   <g id=\"patch_36\">\r\n    <path clip-path=\"url(#p1dd8cbf604)\" d=\"M 92.363182 239.758125 \r\nL 93.885 239.758125 \r\nL 93.885 239.758125 \r\nL 92.363182 239.758125 \r\nz\r\n\" style=\"fill:#1f77b4;\"/>\r\n   </g>\r\n   <g id=\"patch_37\">\r\n    <path clip-path=\"url(#p1dd8cbf604)\" d=\"M 93.885 239.758125 \r\nL 95.406818 239.758125 \r\nL 95.406818 239.758125 \r\nL 93.885 239.758125 \r\nz\r\n\" style=\"fill:#1f77b4;\"/>\r\n   </g>\r\n   <g id=\"patch_38\">\r\n    <path clip-path=\"url(#p1dd8cbf604)\" d=\"M 95.406818 239.758125 \r\nL 96.928636 239.758125 \r\nL 96.928636 239.758125 \r\nL 95.406818 239.758125 \r\nz\r\n\" style=\"fill:#1f77b4;\"/>\r\n   </g>\r\n   <g id=\"patch_39\">\r\n    <path clip-path=\"url(#p1dd8cbf604)\" d=\"M 96.928636 239.758125 \r\nL 98.450455 239.758125 \r\nL 98.450455 239.758125 \r\nL 96.928636 239.758125 \r\nz\r\n\" style=\"fill:#1f77b4;\"/>\r\n   </g>\r\n   <g id=\"patch_40\">\r\n    <path clip-path=\"url(#p1dd8cbf604)\" d=\"M 98.450455 239.758125 \r\nL 99.972273 239.758125 \r\nL 99.972273 239.758125 \r\nL 98.450455 239.758125 \r\nz\r\n\" style=\"fill:#1f77b4;\"/>\r\n   </g>\r\n   <g id=\"patch_41\">\r\n    <path clip-path=\"url(#p1dd8cbf604)\" d=\"M 99.972273 239.758125 \r\nL 101.494091 239.758125 \r\nL 101.494091 239.758125 \r\nL 99.972273 239.758125 \r\nz\r\n\" style=\"fill:#1f77b4;\"/>\r\n   </g>\r\n   <g id=\"patch_42\">\r\n    <path clip-path=\"url(#p1dd8cbf604)\" d=\"M 101.494091 239.758125 \r\nL 103.015909 239.758125 \r\nL 103.015909 239.758125 \r\nL 101.494091 239.758125 \r\nz\r\n\" style=\"fill:#1f77b4;\"/>\r\n   </g>\r\n   <g id=\"patch_43\">\r\n    <path clip-path=\"url(#p1dd8cbf604)\" d=\"M 103.015909 239.758125 \r\nL 104.537727 239.758125 \r\nL 104.537727 239.758125 \r\nL 103.015909 239.758125 \r\nz\r\n\" style=\"fill:#1f77b4;\"/>\r\n   </g>\r\n   <g id=\"patch_44\">\r\n    <path clip-path=\"url(#p1dd8cbf604)\" d=\"M 104.537727 239.758125 \r\nL 106.059545 239.758125 \r\nL 106.059545 239.758125 \r\nL 104.537727 239.758125 \r\nz\r\n\" style=\"fill:#1f77b4;\"/>\r\n   </g>\r\n   <g id=\"patch_45\">\r\n    <path clip-path=\"url(#p1dd8cbf604)\" d=\"M 106.059545 239.758125 \r\nL 107.581364 239.758125 \r\nL 107.581364 239.758125 \r\nL 106.059545 239.758125 \r\nz\r\n\" style=\"fill:#1f77b4;\"/>\r\n   </g>\r\n   <g id=\"patch_46\">\r\n    <path clip-path=\"url(#p1dd8cbf604)\" d=\"M 107.581364 239.758125 \r\nL 109.103182 239.758125 \r\nL 109.103182 239.758125 \r\nL 107.581364 239.758125 \r\nz\r\n\" style=\"fill:#1f77b4;\"/>\r\n   </g>\r\n   <g id=\"patch_47\">\r\n    <path clip-path=\"url(#p1dd8cbf604)\" d=\"M 109.103182 239.758125 \r\nL 110.625 239.758125 \r\nL 110.625 239.758125 \r\nL 109.103182 239.758125 \r\nz\r\n\" style=\"fill:#1f77b4;\"/>\r\n   </g>\r\n   <g id=\"patch_48\">\r\n    <path clip-path=\"url(#p1dd8cbf604)\" d=\"M 110.625 239.758125 \r\nL 112.146818 239.758125 \r\nL 112.146818 239.758125 \r\nL 110.625 239.758125 \r\nz\r\n\" style=\"fill:#1f77b4;\"/>\r\n   </g>\r\n   <g id=\"patch_49\">\r\n    <path clip-path=\"url(#p1dd8cbf604)\" d=\"M 112.146818 239.758125 \r\nL 113.668636 239.758125 \r\nL 113.668636 239.758125 \r\nL 112.146818 239.758125 \r\nz\r\n\" style=\"fill:#1f77b4;\"/>\r\n   </g>\r\n   <g id=\"patch_50\">\r\n    <path clip-path=\"url(#p1dd8cbf604)\" d=\"M 113.668636 239.758125 \r\nL 115.190455 239.758125 \r\nL 115.190455 239.758125 \r\nL 113.668636 239.758125 \r\nz\r\n\" style=\"fill:#1f77b4;\"/>\r\n   </g>\r\n   <g id=\"patch_51\">\r\n    <path clip-path=\"url(#p1dd8cbf604)\" d=\"M 115.190455 239.758125 \r\nL 116.712273 239.758125 \r\nL 116.712273 239.758125 \r\nL 115.190455 239.758125 \r\nz\r\n\" style=\"fill:#1f77b4;\"/>\r\n   </g>\r\n   <g id=\"patch_52\">\r\n    <path clip-path=\"url(#p1dd8cbf604)\" d=\"M 116.712273 239.758125 \r\nL 118.234091 239.758125 \r\nL 118.234091 239.758125 \r\nL 116.712273 239.758125 \r\nz\r\n\" style=\"fill:#1f77b4;\"/>\r\n   </g>\r\n   <g id=\"patch_53\">\r\n    <path clip-path=\"url(#p1dd8cbf604)\" d=\"M 118.234091 239.758125 \r\nL 119.755909 239.758125 \r\nL 119.755909 239.758125 \r\nL 118.234091 239.758125 \r\nz\r\n\" style=\"fill:#1f77b4;\"/>\r\n   </g>\r\n   <g id=\"patch_54\">\r\n    <path clip-path=\"url(#p1dd8cbf604)\" d=\"M 119.755909 239.758125 \r\nL 121.277727 239.758125 \r\nL 121.277727 239.758125 \r\nL 119.755909 239.758125 \r\nz\r\n\" style=\"fill:#1f77b4;\"/>\r\n   </g>\r\n   <g id=\"patch_55\">\r\n    <path clip-path=\"url(#p1dd8cbf604)\" d=\"M 121.277727 239.758125 \r\nL 122.799545 239.758125 \r\nL 122.799545 239.758125 \r\nL 121.277727 239.758125 \r\nz\r\n\" style=\"fill:#1f77b4;\"/>\r\n   </g>\r\n   <g id=\"patch_56\">\r\n    <path clip-path=\"url(#p1dd8cbf604)\" d=\"M 122.799545 239.758125 \r\nL 124.321364 239.758125 \r\nL 124.321364 239.758125 \r\nL 122.799545 239.758125 \r\nz\r\n\" style=\"fill:#1f77b4;\"/>\r\n   </g>\r\n   <g id=\"patch_57\">\r\n    <path clip-path=\"url(#p1dd8cbf604)\" d=\"M 124.321364 239.758125 \r\nL 125.843182 239.758125 \r\nL 125.843182 239.758125 \r\nL 124.321364 239.758125 \r\nz\r\n\" style=\"fill:#1f77b4;\"/>\r\n   </g>\r\n   <g id=\"patch_58\">\r\n    <path clip-path=\"url(#p1dd8cbf604)\" d=\"M 125.843182 239.758125 \r\nL 127.365 239.758125 \r\nL 127.365 239.758125 \r\nL 125.843182 239.758125 \r\nz\r\n\" style=\"fill:#1f77b4;\"/>\r\n   </g>\r\n   <g id=\"patch_59\">\r\n    <path clip-path=\"url(#p1dd8cbf604)\" d=\"M 127.365 239.758125 \r\nL 128.886818 239.758125 \r\nL 128.886818 239.758125 \r\nL 127.365 239.758125 \r\nz\r\n\" style=\"fill:#1f77b4;\"/>\r\n   </g>\r\n   <g id=\"patch_60\">\r\n    <path clip-path=\"url(#p1dd8cbf604)\" d=\"M 128.886818 239.758125 \r\nL 130.408636 239.758125 \r\nL 130.408636 239.758125 \r\nL 128.886818 239.758125 \r\nz\r\n\" style=\"fill:#1f77b4;\"/>\r\n   </g>\r\n   <g id=\"patch_61\">\r\n    <path clip-path=\"url(#p1dd8cbf604)\" d=\"M 130.408636 239.758125 \r\nL 131.930455 239.758125 \r\nL 131.930455 239.758125 \r\nL 130.408636 239.758125 \r\nz\r\n\" style=\"fill:#1f77b4;\"/>\r\n   </g>\r\n   <g id=\"patch_62\">\r\n    <path clip-path=\"url(#p1dd8cbf604)\" d=\"M 131.930455 239.758125 \r\nL 133.452273 239.758125 \r\nL 133.452273 239.758125 \r\nL 131.930455 239.758125 \r\nz\r\n\" style=\"fill:#1f77b4;\"/>\r\n   </g>\r\n   <g id=\"patch_63\">\r\n    <path clip-path=\"url(#p1dd8cbf604)\" d=\"M 133.452273 239.758125 \r\nL 134.974091 239.758125 \r\nL 134.974091 239.758125 \r\nL 133.452273 239.758125 \r\nz\r\n\" style=\"fill:#1f77b4;\"/>\r\n   </g>\r\n   <g id=\"patch_64\">\r\n    <path clip-path=\"url(#p1dd8cbf604)\" d=\"M 134.974091 239.758125 \r\nL 136.495909 239.758125 \r\nL 136.495909 239.758125 \r\nL 134.974091 239.758125 \r\nz\r\n\" style=\"fill:#1f77b4;\"/>\r\n   </g>\r\n   <g id=\"patch_65\">\r\n    <path clip-path=\"url(#p1dd8cbf604)\" d=\"M 136.495909 239.758125 \r\nL 138.017727 239.758125 \r\nL 138.017727 239.758125 \r\nL 136.495909 239.758125 \r\nz\r\n\" style=\"fill:#1f77b4;\"/>\r\n   </g>\r\n   <g id=\"patch_66\">\r\n    <path clip-path=\"url(#p1dd8cbf604)\" d=\"M 138.017727 239.758125 \r\nL 139.539545 239.758125 \r\nL 139.539545 239.758125 \r\nL 138.017727 239.758125 \r\nz\r\n\" style=\"fill:#1f77b4;\"/>\r\n   </g>\r\n   <g id=\"patch_67\">\r\n    <path clip-path=\"url(#p1dd8cbf604)\" d=\"M 139.539545 239.758125 \r\nL 141.061364 239.758125 \r\nL 141.061364 239.758125 \r\nL 139.539545 239.758125 \r\nz\r\n\" style=\"fill:#1f77b4;\"/>\r\n   </g>\r\n   <g id=\"patch_68\">\r\n    <path clip-path=\"url(#p1dd8cbf604)\" d=\"M 141.061364 239.758125 \r\nL 142.583182 239.758125 \r\nL 142.583182 239.758125 \r\nL 141.061364 239.758125 \r\nz\r\n\" style=\"fill:#1f77b4;\"/>\r\n   </g>\r\n   <g id=\"patch_69\">\r\n    <path clip-path=\"url(#p1dd8cbf604)\" d=\"M 142.583182 239.758125 \r\nL 144.105 239.758125 \r\nL 144.105 239.758125 \r\nL 142.583182 239.758125 \r\nz\r\n\" style=\"fill:#1f77b4;\"/>\r\n   </g>\r\n   <g id=\"patch_70\">\r\n    <path clip-path=\"url(#p1dd8cbf604)\" d=\"M 144.105 239.758125 \r\nL 145.626818 239.758125 \r\nL 145.626818 239.758125 \r\nL 144.105 239.758125 \r\nz\r\n\" style=\"fill:#1f77b4;\"/>\r\n   </g>\r\n   <g id=\"patch_71\">\r\n    <path clip-path=\"url(#p1dd8cbf604)\" d=\"M 145.626818 239.758125 \r\nL 147.148636 239.758125 \r\nL 147.148636 239.758125 \r\nL 145.626818 239.758125 \r\nz\r\n\" style=\"fill:#1f77b4;\"/>\r\n   </g>\r\n   <g id=\"patch_72\">\r\n    <path clip-path=\"url(#p1dd8cbf604)\" d=\"M 147.148636 239.758125 \r\nL 148.670455 239.758125 \r\nL 148.670455 239.758125 \r\nL 147.148636 239.758125 \r\nz\r\n\" style=\"fill:#1f77b4;\"/>\r\n   </g>\r\n   <g id=\"patch_73\">\r\n    <path clip-path=\"url(#p1dd8cbf604)\" d=\"M 148.670455 239.758125 \r\nL 150.192273 239.758125 \r\nL 150.192273 234.942178 \r\nL 148.670455 234.942178 \r\nz\r\n\" style=\"fill:#1f77b4;\"/>\r\n   </g>\r\n   <g id=\"patch_74\">\r\n    <path clip-path=\"url(#p1dd8cbf604)\" d=\"M 150.192273 239.758125 \r\nL 151.714091 239.758125 \r\nL 151.714091 239.758125 \r\nL 150.192273 239.758125 \r\nz\r\n\" style=\"fill:#1f77b4;\"/>\r\n   </g>\r\n   <g id=\"patch_75\">\r\n    <path clip-path=\"url(#p1dd8cbf604)\" d=\"M 151.714091 239.758125 \r\nL 153.235909 239.758125 \r\nL 153.235909 234.942178 \r\nL 151.714091 234.942178 \r\nz\r\n\" style=\"fill:#1f77b4;\"/>\r\n   </g>\r\n   <g id=\"patch_76\">\r\n    <path clip-path=\"url(#p1dd8cbf604)\" d=\"M 153.235909 239.758125 \r\nL 154.757727 239.758125 \r\nL 154.757727 239.758125 \r\nL 153.235909 239.758125 \r\nz\r\n\" style=\"fill:#1f77b4;\"/>\r\n   </g>\r\n   <g id=\"patch_77\">\r\n    <path clip-path=\"url(#p1dd8cbf604)\" d=\"M 154.757727 239.758125 \r\nL 156.279545 239.758125 \r\nL 156.279545 239.758125 \r\nL 154.757727 239.758125 \r\nz\r\n\" style=\"fill:#1f77b4;\"/>\r\n   </g>\r\n   <g id=\"patch_78\">\r\n    <path clip-path=\"url(#p1dd8cbf604)\" d=\"M 156.279545 239.758125 \r\nL 157.801364 239.758125 \r\nL 157.801364 234.942178 \r\nL 156.279545 234.942178 \r\nz\r\n\" style=\"fill:#1f77b4;\"/>\r\n   </g>\r\n   <g id=\"patch_79\">\r\n    <path clip-path=\"url(#p1dd8cbf604)\" d=\"M 157.801364 239.758125 \r\nL 159.323182 239.758125 \r\nL 159.323182 234.942178 \r\nL 157.801364 234.942178 \r\nz\r\n\" style=\"fill:#1f77b4;\"/>\r\n   </g>\r\n   <g id=\"patch_80\">\r\n    <path clip-path=\"url(#p1dd8cbf604)\" d=\"M 159.323182 239.758125 \r\nL 160.845 239.758125 \r\nL 160.845 239.758125 \r\nL 159.323182 239.758125 \r\nz\r\n\" style=\"fill:#1f77b4;\"/>\r\n   </g>\r\n   <g id=\"patch_81\">\r\n    <path clip-path=\"url(#p1dd8cbf604)\" d=\"M 160.845 239.758125 \r\nL 162.366818 239.758125 \r\nL 162.366818 239.758125 \r\nL 160.845 239.758125 \r\nz\r\n\" style=\"fill:#1f77b4;\"/>\r\n   </g>\r\n   <g id=\"patch_82\">\r\n    <path clip-path=\"url(#p1dd8cbf604)\" d=\"M 162.366818 239.758125 \r\nL 163.888636 239.758125 \r\nL 163.888636 239.758125 \r\nL 162.366818 239.758125 \r\nz\r\n\" style=\"fill:#1f77b4;\"/>\r\n   </g>\r\n   <g id=\"patch_83\">\r\n    <path clip-path=\"url(#p1dd8cbf604)\" d=\"M 163.888636 239.758125 \r\nL 165.410455 239.758125 \r\nL 165.410455 239.758125 \r\nL 163.888636 239.758125 \r\nz\r\n\" style=\"fill:#1f77b4;\"/>\r\n   </g>\r\n   <g id=\"patch_84\">\r\n    <path clip-path=\"url(#p1dd8cbf604)\" d=\"M 165.410455 239.758125 \r\nL 166.932273 239.758125 \r\nL 166.932273 239.758125 \r\nL 165.410455 239.758125 \r\nz\r\n\" style=\"fill:#1f77b4;\"/>\r\n   </g>\r\n   <g id=\"patch_85\">\r\n    <path clip-path=\"url(#p1dd8cbf604)\" d=\"M 166.932273 239.758125 \r\nL 168.454091 239.758125 \r\nL 168.454091 234.942178 \r\nL 166.932273 234.942178 \r\nz\r\n\" style=\"fill:#1f77b4;\"/>\r\n   </g>\r\n   <g id=\"patch_86\">\r\n    <path clip-path=\"url(#p1dd8cbf604)\" d=\"M 168.454091 239.758125 \r\nL 169.975909 239.758125 \r\nL 169.975909 239.758125 \r\nL 168.454091 239.758125 \r\nz\r\n\" style=\"fill:#1f77b4;\"/>\r\n   </g>\r\n   <g id=\"patch_87\">\r\n    <path clip-path=\"url(#p1dd8cbf604)\" d=\"M 169.975909 239.758125 \r\nL 171.497727 239.758125 \r\nL 171.497727 230.126231 \r\nL 169.975909 230.126231 \r\nz\r\n\" style=\"fill:#1f77b4;\"/>\r\n   </g>\r\n   <g id=\"patch_88\">\r\n    <path clip-path=\"url(#p1dd8cbf604)\" d=\"M 171.497727 239.758125 \r\nL 173.019545 239.758125 \r\nL 173.019545 234.942178 \r\nL 171.497727 234.942178 \r\nz\r\n\" style=\"fill:#1f77b4;\"/>\r\n   </g>\r\n   <g id=\"patch_89\">\r\n    <path clip-path=\"url(#p1dd8cbf604)\" d=\"M 173.019545 239.758125 \r\nL 174.541364 239.758125 \r\nL 174.541364 234.942178 \r\nL 173.019545 234.942178 \r\nz\r\n\" style=\"fill:#1f77b4;\"/>\r\n   </g>\r\n   <g id=\"patch_90\">\r\n    <path clip-path=\"url(#p1dd8cbf604)\" d=\"M 174.541364 239.758125 \r\nL 176.063182 239.758125 \r\nL 176.063182 234.942178 \r\nL 174.541364 234.942178 \r\nz\r\n\" style=\"fill:#1f77b4;\"/>\r\n   </g>\r\n   <g id=\"patch_91\">\r\n    <path clip-path=\"url(#p1dd8cbf604)\" d=\"M 176.063182 239.758125 \r\nL 177.585 239.758125 \r\nL 177.585 225.310284 \r\nL 176.063182 225.310284 \r\nz\r\n\" style=\"fill:#1f77b4;\"/>\r\n   </g>\r\n   <g id=\"patch_92\">\r\n    <path clip-path=\"url(#p1dd8cbf604)\" d=\"M 177.585 239.758125 \r\nL 179.106818 239.758125 \r\nL 179.106818 230.126231 \r\nL 177.585 230.126231 \r\nz\r\n\" style=\"fill:#1f77b4;\"/>\r\n   </g>\r\n   <g id=\"patch_93\">\r\n    <path clip-path=\"url(#p1dd8cbf604)\" d=\"M 179.106818 239.758125 \r\nL 180.628636 239.758125 \r\nL 180.628636 225.310284 \r\nL 179.106818 225.310284 \r\nz\r\n\" style=\"fill:#1f77b4;\"/>\r\n   </g>\r\n   <g id=\"patch_94\">\r\n    <path clip-path=\"url(#p1dd8cbf604)\" d=\"M 180.628636 239.758125 \r\nL 182.150455 239.758125 \r\nL 182.150455 210.862444 \r\nL 180.628636 210.862444 \r\nz\r\n\" style=\"fill:#1f77b4;\"/>\r\n   </g>\r\n   <g id=\"patch_95\">\r\n    <path clip-path=\"url(#p1dd8cbf604)\" d=\"M 182.150455 239.758125 \r\nL 183.672273 239.758125 \r\nL 183.672273 234.942178 \r\nL 182.150455 234.942178 \r\nz\r\n\" style=\"fill:#1f77b4;\"/>\r\n   </g>\r\n   <g id=\"patch_96\">\r\n    <path clip-path=\"url(#p1dd8cbf604)\" d=\"M 183.672273 239.758125 \r\nL 185.194091 239.758125 \r\nL 185.194091 220.494338 \r\nL 183.672273 220.494338 \r\nz\r\n\" style=\"fill:#1f77b4;\"/>\r\n   </g>\r\n   <g id=\"patch_97\">\r\n    <path clip-path=\"url(#p1dd8cbf604)\" d=\"M 185.194091 239.758125 \r\nL 186.715909 239.758125 \r\nL 186.715909 225.310284 \r\nL 185.194091 225.310284 \r\nz\r\n\" style=\"fill:#1f77b4;\"/>\r\n   </g>\r\n   <g id=\"patch_98\">\r\n    <path clip-path=\"url(#p1dd8cbf604)\" d=\"M 186.715909 239.758125 \r\nL 188.237727 239.758125 \r\nL 188.237727 196.414603 \r\nL 186.715909 196.414603 \r\nz\r\n\" style=\"fill:#1f77b4;\"/>\r\n   </g>\r\n   <g id=\"patch_99\">\r\n    <path clip-path=\"url(#p1dd8cbf604)\" d=\"M 188.237727 239.758125 \r\nL 189.759545 239.758125 \r\nL 189.759545 162.702975 \r\nL 188.237727 162.702975 \r\nz\r\n\" style=\"fill:#1f77b4;\"/>\r\n   </g>\r\n   <g id=\"patch_100\">\r\n    <path clip-path=\"url(#p1dd8cbf604)\" d=\"M 189.759545 239.758125 \r\nL 191.281364 239.758125 \r\nL 191.281364 124.175401 \r\nL 189.759545 124.175401 \r\nz\r\n\" style=\"fill:#1f77b4;\"/>\r\n   </g>\r\n   <g id=\"patch_101\">\r\n    <path clip-path=\"url(#p1dd8cbf604)\" d=\"M 191.281364 239.758125 \r\nL 192.803182 239.758125 \r\nL 192.803182 47.120251 \r\nL 191.281364 47.120251 \r\nz\r\n\" style=\"fill:#1f77b4;\"/>\r\n   </g>\r\n   <g id=\"patch_102\">\r\n    <path clip-path=\"url(#p1dd8cbf604)\" d=\"M 192.803182 239.758125 \r\nL 194.325 239.758125 \r\nL 194.325 32.672411 \r\nL 192.803182 32.672411 \r\nz\r\n\" style=\"fill:#1f77b4;\"/>\r\n   </g>\r\n   <g id=\"patch_103\">\r\n    <path clip-path=\"url(#p1dd8cbf604)\" d=\"M 194.325 239.758125 \r\nL 195.846818 239.758125 \r\nL 195.846818 71.199985 \r\nL 194.325 71.199985 \r\nz\r\n\" style=\"fill:#1f77b4;\"/>\r\n   </g>\r\n   <g id=\"patch_104\">\r\n    <path clip-path=\"url(#p1dd8cbf604)\" d=\"M 195.846818 239.758125 \r\nL 197.368636 239.758125 \r\nL 197.368636 119.359454 \r\nL 195.846818 119.359454 \r\nz\r\n\" style=\"fill:#1f77b4;\"/>\r\n   </g>\r\n   <g id=\"patch_105\">\r\n    <path clip-path=\"url(#p1dd8cbf604)\" d=\"M 197.368636 239.758125 \r\nL 198.890455 239.758125 \r\nL 198.890455 104.911613 \r\nL 197.368636 104.911613 \r\nz\r\n\" style=\"fill:#1f77b4;\"/>\r\n   </g>\r\n   <g id=\"patch_106\">\r\n    <path clip-path=\"url(#p1dd8cbf604)\" d=\"M 198.890455 239.758125 \r\nL 200.412273 239.758125 \r\nL 200.412273 157.887029 \r\nL 198.890455 157.887029 \r\nz\r\n\" style=\"fill:#1f77b4;\"/>\r\n   </g>\r\n   <g id=\"patch_107\">\r\n    <path clip-path=\"url(#p1dd8cbf604)\" d=\"M 200.412273 239.758125 \r\nL 201.934091 239.758125 \r\nL 201.934091 230.126231 \r\nL 200.412273 230.126231 \r\nz\r\n\" style=\"fill:#1f77b4;\"/>\r\n   </g>\r\n   <g id=\"patch_108\">\r\n    <path clip-path=\"url(#p1dd8cbf604)\" d=\"M 201.934091 239.758125 \r\nL 203.455909 239.758125 \r\nL 203.455909 225.310284 \r\nL 201.934091 225.310284 \r\nz\r\n\" style=\"fill:#1f77b4;\"/>\r\n   </g>\r\n   <g id=\"patch_109\">\r\n    <path clip-path=\"url(#p1dd8cbf604)\" d=\"M 203.455909 239.758125 \r\nL 204.977727 239.758125 \r\nL 204.977727 230.126231 \r\nL 203.455909 230.126231 \r\nz\r\n\" style=\"fill:#1f77b4;\"/>\r\n   </g>\r\n   <g id=\"patch_110\">\r\n    <path clip-path=\"url(#p1dd8cbf604)\" d=\"M 204.977727 239.758125 \r\nL 206.499545 239.758125 \r\nL 206.499545 234.942178 \r\nL 204.977727 234.942178 \r\nz\r\n\" style=\"fill:#1f77b4;\"/>\r\n   </g>\r\n   <g id=\"patch_111\">\r\n    <path clip-path=\"url(#p1dd8cbf604)\" d=\"M 206.499545 239.758125 \r\nL 208.021364 239.758125 \r\nL 208.021364 225.310284 \r\nL 206.499545 225.310284 \r\nz\r\n\" style=\"fill:#1f77b4;\"/>\r\n   </g>\r\n   <g id=\"patch_112\">\r\n    <path clip-path=\"url(#p1dd8cbf604)\" d=\"M 208.021364 239.758125 \r\nL 209.543182 239.758125 \r\nL 209.543182 210.862444 \r\nL 208.021364 210.862444 \r\nz\r\n\" style=\"fill:#1f77b4;\"/>\r\n   </g>\r\n   <g id=\"patch_113\">\r\n    <path clip-path=\"url(#p1dd8cbf604)\" d=\"M 209.543182 239.758125 \r\nL 211.065 239.758125 \r\nL 211.065 234.942178 \r\nL 209.543182 234.942178 \r\nz\r\n\" style=\"fill:#1f77b4;\"/>\r\n   </g>\r\n   <g id=\"patch_114\">\r\n    <path clip-path=\"url(#p1dd8cbf604)\" d=\"M 211.065 239.758125 \r\nL 212.586818 239.758125 \r\nL 212.586818 239.758125 \r\nL 211.065 239.758125 \r\nz\r\n\" style=\"fill:#1f77b4;\"/>\r\n   </g>\r\n   <g id=\"patch_115\">\r\n    <path clip-path=\"url(#p1dd8cbf604)\" d=\"M 212.586818 239.758125 \r\nL 214.108636 239.758125 \r\nL 214.108636 239.758125 \r\nL 212.586818 239.758125 \r\nz\r\n\" style=\"fill:#1f77b4;\"/>\r\n   </g>\r\n   <g id=\"patch_116\">\r\n    <path clip-path=\"url(#p1dd8cbf604)\" d=\"M 214.108636 239.758125 \r\nL 215.630455 239.758125 \r\nL 215.630455 234.942178 \r\nL 214.108636 234.942178 \r\nz\r\n\" style=\"fill:#1f77b4;\"/>\r\n   </g>\r\n   <g id=\"patch_117\">\r\n    <path clip-path=\"url(#p1dd8cbf604)\" d=\"M 215.630455 239.758125 \r\nL 217.152273 239.758125 \r\nL 217.152273 234.942178 \r\nL 215.630455 234.942178 \r\nz\r\n\" style=\"fill:#1f77b4;\"/>\r\n   </g>\r\n   <g id=\"patch_118\">\r\n    <path clip-path=\"url(#p1dd8cbf604)\" d=\"M 217.152273 239.758125 \r\nL 218.674091 239.758125 \r\nL 218.674091 234.942178 \r\nL 217.152273 234.942178 \r\nz\r\n\" style=\"fill:#1f77b4;\"/>\r\n   </g>\r\n   <g id=\"patch_119\">\r\n    <path clip-path=\"url(#p1dd8cbf604)\" d=\"M 218.674091 239.758125 \r\nL 220.195909 239.758125 \r\nL 220.195909 234.942178 \r\nL 218.674091 234.942178 \r\nz\r\n\" style=\"fill:#1f77b4;\"/>\r\n   </g>\r\n   <g id=\"patch_120\">\r\n    <path clip-path=\"url(#p1dd8cbf604)\" d=\"M 220.195909 239.758125 \r\nL 221.717727 239.758125 \r\nL 221.717727 239.758125 \r\nL 220.195909 239.758125 \r\nz\r\n\" style=\"fill:#1f77b4;\"/>\r\n   </g>\r\n   <g id=\"patch_121\">\r\n    <path clip-path=\"url(#p1dd8cbf604)\" d=\"M 221.717727 239.758125 \r\nL 223.239545 239.758125 \r\nL 223.239545 230.126231 \r\nL 221.717727 230.126231 \r\nz\r\n\" style=\"fill:#1f77b4;\"/>\r\n   </g>\r\n   <g id=\"patch_122\">\r\n    <path clip-path=\"url(#p1dd8cbf604)\" d=\"M 223.239545 239.758125 \r\nL 224.761364 239.758125 \r\nL 224.761364 234.942178 \r\nL 223.239545 234.942178 \r\nz\r\n\" style=\"fill:#1f77b4;\"/>\r\n   </g>\r\n   <g id=\"patch_123\">\r\n    <path clip-path=\"url(#p1dd8cbf604)\" d=\"M 224.761364 239.758125 \r\nL 226.283182 239.758125 \r\nL 226.283182 234.942178 \r\nL 224.761364 234.942178 \r\nz\r\n\" style=\"fill:#1f77b4;\"/>\r\n   </g>\r\n   <g id=\"patch_124\">\r\n    <path clip-path=\"url(#p1dd8cbf604)\" d=\"M 226.283182 239.758125 \r\nL 227.805 239.758125 \r\nL 227.805 239.758125 \r\nL 226.283182 239.758125 \r\nz\r\n\" style=\"fill:#1f77b4;\"/>\r\n   </g>\r\n   <g id=\"patch_125\">\r\n    <path clip-path=\"url(#p1dd8cbf604)\" d=\"M 227.805 239.758125 \r\nL 229.326818 239.758125 \r\nL 229.326818 239.758125 \r\nL 227.805 239.758125 \r\nz\r\n\" style=\"fill:#1f77b4;\"/>\r\n   </g>\r\n   <g id=\"patch_126\">\r\n    <path clip-path=\"url(#p1dd8cbf604)\" d=\"M 229.326818 239.758125 \r\nL 230.848636 239.758125 \r\nL 230.848636 234.942178 \r\nL 229.326818 234.942178 \r\nz\r\n\" style=\"fill:#1f77b4;\"/>\r\n   </g>\r\n   <g id=\"patch_127\">\r\n    <path clip-path=\"url(#p1dd8cbf604)\" d=\"M 230.848636 239.758125 \r\nL 232.370455 239.758125 \r\nL 232.370455 234.942178 \r\nL 230.848636 234.942178 \r\nz\r\n\" style=\"fill:#1f77b4;\"/>\r\n   </g>\r\n   <g id=\"patch_128\">\r\n    <path clip-path=\"url(#p1dd8cbf604)\" d=\"M 232.370455 239.758125 \r\nL 233.892273 239.758125 \r\nL 233.892273 239.758125 \r\nL 232.370455 239.758125 \r\nz\r\n\" style=\"fill:#1f77b4;\"/>\r\n   </g>\r\n   <g id=\"patch_129\">\r\n    <path clip-path=\"url(#p1dd8cbf604)\" d=\"M 233.892273 239.758125 \r\nL 235.414091 239.758125 \r\nL 235.414091 234.942178 \r\nL 233.892273 234.942178 \r\nz\r\n\" style=\"fill:#1f77b4;\"/>\r\n   </g>\r\n   <g id=\"patch_130\">\r\n    <path clip-path=\"url(#p1dd8cbf604)\" d=\"M 235.414091 239.758125 \r\nL 236.935909 239.758125 \r\nL 236.935909 239.758125 \r\nL 235.414091 239.758125 \r\nz\r\n\" style=\"fill:#1f77b4;\"/>\r\n   </g>\r\n   <g id=\"patch_131\">\r\n    <path clip-path=\"url(#p1dd8cbf604)\" d=\"M 236.935909 239.758125 \r\nL 238.457727 239.758125 \r\nL 238.457727 239.758125 \r\nL 236.935909 239.758125 \r\nz\r\n\" style=\"fill:#1f77b4;\"/>\r\n   </g>\r\n   <g id=\"patch_132\">\r\n    <path clip-path=\"url(#p1dd8cbf604)\" d=\"M 238.457727 239.758125 \r\nL 239.979545 239.758125 \r\nL 239.979545 239.758125 \r\nL 238.457727 239.758125 \r\nz\r\n\" style=\"fill:#1f77b4;\"/>\r\n   </g>\r\n   <g id=\"patch_133\">\r\n    <path clip-path=\"url(#p1dd8cbf604)\" d=\"M 239.979545 239.758125 \r\nL 241.501364 239.758125 \r\nL 241.501364 239.758125 \r\nL 239.979545 239.758125 \r\nz\r\n\" style=\"fill:#1f77b4;\"/>\r\n   </g>\r\n   <g id=\"patch_134\">\r\n    <path clip-path=\"url(#p1dd8cbf604)\" d=\"M 241.501364 239.758125 \r\nL 243.023182 239.758125 \r\nL 243.023182 239.758125 \r\nL 241.501364 239.758125 \r\nz\r\n\" style=\"fill:#1f77b4;\"/>\r\n   </g>\r\n   <g id=\"patch_135\">\r\n    <path clip-path=\"url(#p1dd8cbf604)\" d=\"M 243.023182 239.758125 \r\nL 244.545 239.758125 \r\nL 244.545 239.758125 \r\nL 243.023182 239.758125 \r\nz\r\n\" style=\"fill:#1f77b4;\"/>\r\n   </g>\r\n   <g id=\"patch_136\">\r\n    <path clip-path=\"url(#p1dd8cbf604)\" d=\"M 244.545 239.758125 \r\nL 246.066818 239.758125 \r\nL 246.066818 239.758125 \r\nL 244.545 239.758125 \r\nz\r\n\" style=\"fill:#1f77b4;\"/>\r\n   </g>\r\n   <g id=\"patch_137\">\r\n    <path clip-path=\"url(#p1dd8cbf604)\" d=\"M 246.066818 239.758125 \r\nL 247.588636 239.758125 \r\nL 247.588636 239.758125 \r\nL 246.066818 239.758125 \r\nz\r\n\" style=\"fill:#1f77b4;\"/>\r\n   </g>\r\n   <g id=\"patch_138\">\r\n    <path clip-path=\"url(#p1dd8cbf604)\" d=\"M 247.588636 239.758125 \r\nL 249.110455 239.758125 \r\nL 249.110455 234.942178 \r\nL 247.588636 234.942178 \r\nz\r\n\" style=\"fill:#1f77b4;\"/>\r\n   </g>\r\n   <g id=\"patch_139\">\r\n    <path clip-path=\"url(#p1dd8cbf604)\" d=\"M 249.110455 239.758125 \r\nL 250.632273 239.758125 \r\nL 250.632273 239.758125 \r\nL 249.110455 239.758125 \r\nz\r\n\" style=\"fill:#1f77b4;\"/>\r\n   </g>\r\n   <g id=\"patch_140\">\r\n    <path clip-path=\"url(#p1dd8cbf604)\" d=\"M 250.632273 239.758125 \r\nL 252.154091 239.758125 \r\nL 252.154091 239.758125 \r\nL 250.632273 239.758125 \r\nz\r\n\" style=\"fill:#1f77b4;\"/>\r\n   </g>\r\n   <g id=\"patch_141\">\r\n    <path clip-path=\"url(#p1dd8cbf604)\" d=\"M 252.154091 239.758125 \r\nL 253.675909 239.758125 \r\nL 253.675909 239.758125 \r\nL 252.154091 239.758125 \r\nz\r\n\" style=\"fill:#1f77b4;\"/>\r\n   </g>\r\n   <g id=\"patch_142\">\r\n    <path clip-path=\"url(#p1dd8cbf604)\" d=\"M 253.675909 239.758125 \r\nL 255.197727 239.758125 \r\nL 255.197727 234.942178 \r\nL 253.675909 234.942178 \r\nz\r\n\" style=\"fill:#1f77b4;\"/>\r\n   </g>\r\n   <g id=\"patch_143\">\r\n    <path clip-path=\"url(#p1dd8cbf604)\" d=\"M 255.197727 239.758125 \r\nL 256.719545 239.758125 \r\nL 256.719545 239.758125 \r\nL 255.197727 239.758125 \r\nz\r\n\" style=\"fill:#1f77b4;\"/>\r\n   </g>\r\n   <g id=\"patch_144\">\r\n    <path clip-path=\"url(#p1dd8cbf604)\" d=\"M 256.719545 239.758125 \r\nL 258.241364 239.758125 \r\nL 258.241364 239.758125 \r\nL 256.719545 239.758125 \r\nz\r\n\" style=\"fill:#1f77b4;\"/>\r\n   </g>\r\n   <g id=\"patch_145\">\r\n    <path clip-path=\"url(#p1dd8cbf604)\" d=\"M 258.241364 239.758125 \r\nL 259.763182 239.758125 \r\nL 259.763182 239.758125 \r\nL 258.241364 239.758125 \r\nz\r\n\" style=\"fill:#1f77b4;\"/>\r\n   </g>\r\n   <g id=\"patch_146\">\r\n    <path clip-path=\"url(#p1dd8cbf604)\" d=\"M 259.763182 239.758125 \r\nL 261.285 239.758125 \r\nL 261.285 239.758125 \r\nL 259.763182 239.758125 \r\nz\r\n\" style=\"fill:#1f77b4;\"/>\r\n   </g>\r\n   <g id=\"patch_147\">\r\n    <path clip-path=\"url(#p1dd8cbf604)\" d=\"M 261.285 239.758125 \r\nL 262.806818 239.758125 \r\nL 262.806818 239.758125 \r\nL 261.285 239.758125 \r\nz\r\n\" style=\"fill:#1f77b4;\"/>\r\n   </g>\r\n   <g id=\"patch_148\">\r\n    <path clip-path=\"url(#p1dd8cbf604)\" d=\"M 262.806818 239.758125 \r\nL 264.328636 239.758125 \r\nL 264.328636 239.758125 \r\nL 262.806818 239.758125 \r\nz\r\n\" style=\"fill:#1f77b4;\"/>\r\n   </g>\r\n   <g id=\"patch_149\">\r\n    <path clip-path=\"url(#p1dd8cbf604)\" d=\"M 264.328636 239.758125 \r\nL 265.850455 239.758125 \r\nL 265.850455 239.758125 \r\nL 264.328636 239.758125 \r\nz\r\n\" style=\"fill:#1f77b4;\"/>\r\n   </g>\r\n   <g id=\"patch_150\">\r\n    <path clip-path=\"url(#p1dd8cbf604)\" d=\"M 265.850455 239.758125 \r\nL 267.372273 239.758125 \r\nL 267.372273 239.758125 \r\nL 265.850455 239.758125 \r\nz\r\n\" style=\"fill:#1f77b4;\"/>\r\n   </g>\r\n   <g id=\"patch_151\">\r\n    <path clip-path=\"url(#p1dd8cbf604)\" d=\"M 267.372273 239.758125 \r\nL 268.894091 239.758125 \r\nL 268.894091 239.758125 \r\nL 267.372273 239.758125 \r\nz\r\n\" style=\"fill:#1f77b4;\"/>\r\n   </g>\r\n   <g id=\"patch_152\">\r\n    <path clip-path=\"url(#p1dd8cbf604)\" d=\"M 268.894091 239.758125 \r\nL 270.415909 239.758125 \r\nL 270.415909 239.758125 \r\nL 268.894091 239.758125 \r\nz\r\n\" style=\"fill:#1f77b4;\"/>\r\n   </g>\r\n   <g id=\"patch_153\">\r\n    <path clip-path=\"url(#p1dd8cbf604)\" d=\"M 270.415909 239.758125 \r\nL 271.937727 239.758125 \r\nL 271.937727 239.758125 \r\nL 270.415909 239.758125 \r\nz\r\n\" style=\"fill:#1f77b4;\"/>\r\n   </g>\r\n   <g id=\"patch_154\">\r\n    <path clip-path=\"url(#p1dd8cbf604)\" d=\"M 271.937727 239.758125 \r\nL 273.459545 239.758125 \r\nL 273.459545 239.758125 \r\nL 271.937727 239.758125 \r\nz\r\n\" style=\"fill:#1f77b4;\"/>\r\n   </g>\r\n   <g id=\"patch_155\">\r\n    <path clip-path=\"url(#p1dd8cbf604)\" d=\"M 273.459545 239.758125 \r\nL 274.981364 239.758125 \r\nL 274.981364 239.758125 \r\nL 273.459545 239.758125 \r\nz\r\n\" style=\"fill:#1f77b4;\"/>\r\n   </g>\r\n   <g id=\"patch_156\">\r\n    <path clip-path=\"url(#p1dd8cbf604)\" d=\"M 274.981364 239.758125 \r\nL 276.503182 239.758125 \r\nL 276.503182 239.758125 \r\nL 274.981364 239.758125 \r\nz\r\n\" style=\"fill:#1f77b4;\"/>\r\n   </g>\r\n   <g id=\"patch_157\">\r\n    <path clip-path=\"url(#p1dd8cbf604)\" d=\"M 276.503182 239.758125 \r\nL 278.025 239.758125 \r\nL 278.025 239.758125 \r\nL 276.503182 239.758125 \r\nz\r\n\" style=\"fill:#1f77b4;\"/>\r\n   </g>\r\n   <g id=\"patch_158\">\r\n    <path clip-path=\"url(#p1dd8cbf604)\" d=\"M 278.025 239.758125 \r\nL 279.546818 239.758125 \r\nL 279.546818 239.758125 \r\nL 278.025 239.758125 \r\nz\r\n\" style=\"fill:#1f77b4;\"/>\r\n   </g>\r\n   <g id=\"patch_159\">\r\n    <path clip-path=\"url(#p1dd8cbf604)\" d=\"M 279.546818 239.758125 \r\nL 281.068636 239.758125 \r\nL 281.068636 239.758125 \r\nL 279.546818 239.758125 \r\nz\r\n\" style=\"fill:#1f77b4;\"/>\r\n   </g>\r\n   <g id=\"patch_160\">\r\n    <path clip-path=\"url(#p1dd8cbf604)\" d=\"M 281.068636 239.758125 \r\nL 282.590455 239.758125 \r\nL 282.590455 239.758125 \r\nL 281.068636 239.758125 \r\nz\r\n\" style=\"fill:#1f77b4;\"/>\r\n   </g>\r\n   <g id=\"patch_161\">\r\n    <path clip-path=\"url(#p1dd8cbf604)\" d=\"M 282.590455 239.758125 \r\nL 284.112273 239.758125 \r\nL 284.112273 239.758125 \r\nL 282.590455 239.758125 \r\nz\r\n\" style=\"fill:#1f77b4;\"/>\r\n   </g>\r\n   <g id=\"patch_162\">\r\n    <path clip-path=\"url(#p1dd8cbf604)\" d=\"M 284.112273 239.758125 \r\nL 285.634091 239.758125 \r\nL 285.634091 239.758125 \r\nL 284.112273 239.758125 \r\nz\r\n\" style=\"fill:#1f77b4;\"/>\r\n   </g>\r\n   <g id=\"patch_163\">\r\n    <path clip-path=\"url(#p1dd8cbf604)\" d=\"M 285.634091 239.758125 \r\nL 287.155909 239.758125 \r\nL 287.155909 239.758125 \r\nL 285.634091 239.758125 \r\nz\r\n\" style=\"fill:#1f77b4;\"/>\r\n   </g>\r\n   <g id=\"patch_164\">\r\n    <path clip-path=\"url(#p1dd8cbf604)\" d=\"M 287.155909 239.758125 \r\nL 288.677727 239.758125 \r\nL 288.677727 239.758125 \r\nL 287.155909 239.758125 \r\nz\r\n\" style=\"fill:#1f77b4;\"/>\r\n   </g>\r\n   <g id=\"patch_165\">\r\n    <path clip-path=\"url(#p1dd8cbf604)\" d=\"M 288.677727 239.758125 \r\nL 290.199545 239.758125 \r\nL 290.199545 239.758125 \r\nL 288.677727 239.758125 \r\nz\r\n\" style=\"fill:#1f77b4;\"/>\r\n   </g>\r\n   <g id=\"patch_166\">\r\n    <path clip-path=\"url(#p1dd8cbf604)\" d=\"M 290.199545 239.758125 \r\nL 291.721364 239.758125 \r\nL 291.721364 239.758125 \r\nL 290.199545 239.758125 \r\nz\r\n\" style=\"fill:#1f77b4;\"/>\r\n   </g>\r\n   <g id=\"patch_167\">\r\n    <path clip-path=\"url(#p1dd8cbf604)\" d=\"M 291.721364 239.758125 \r\nL 293.243182 239.758125 \r\nL 293.243182 239.758125 \r\nL 291.721364 239.758125 \r\nz\r\n\" style=\"fill:#1f77b4;\"/>\r\n   </g>\r\n   <g id=\"patch_168\">\r\n    <path clip-path=\"url(#p1dd8cbf604)\" d=\"M 293.243182 239.758125 \r\nL 294.765 239.758125 \r\nL 294.765 239.758125 \r\nL 293.243182 239.758125 \r\nz\r\n\" style=\"fill:#1f77b4;\"/>\r\n   </g>\r\n   <g id=\"patch_169\">\r\n    <path clip-path=\"url(#p1dd8cbf604)\" d=\"M 294.765 239.758125 \r\nL 296.286818 239.758125 \r\nL 296.286818 239.758125 \r\nL 294.765 239.758125 \r\nz\r\n\" style=\"fill:#1f77b4;\"/>\r\n   </g>\r\n   <g id=\"patch_170\">\r\n    <path clip-path=\"url(#p1dd8cbf604)\" d=\"M 296.286818 239.758125 \r\nL 297.808636 239.758125 \r\nL 297.808636 239.758125 \r\nL 296.286818 239.758125 \r\nz\r\n\" style=\"fill:#1f77b4;\"/>\r\n   </g>\r\n   <g id=\"patch_171\">\r\n    <path clip-path=\"url(#p1dd8cbf604)\" d=\"M 297.808636 239.758125 \r\nL 299.330455 239.758125 \r\nL 299.330455 239.758125 \r\nL 297.808636 239.758125 \r\nz\r\n\" style=\"fill:#1f77b4;\"/>\r\n   </g>\r\n   <g id=\"patch_172\">\r\n    <path clip-path=\"url(#p1dd8cbf604)\" d=\"M 299.330455 239.758125 \r\nL 300.852273 239.758125 \r\nL 300.852273 239.758125 \r\nL 299.330455 239.758125 \r\nz\r\n\" style=\"fill:#1f77b4;\"/>\r\n   </g>\r\n   <g id=\"patch_173\">\r\n    <path clip-path=\"url(#p1dd8cbf604)\" d=\"M 300.852273 239.758125 \r\nL 302.374091 239.758125 \r\nL 302.374091 239.758125 \r\nL 300.852273 239.758125 \r\nz\r\n\" style=\"fill:#1f77b4;\"/>\r\n   </g>\r\n   <g id=\"patch_174\">\r\n    <path clip-path=\"url(#p1dd8cbf604)\" d=\"M 302.374091 239.758125 \r\nL 303.895909 239.758125 \r\nL 303.895909 239.758125 \r\nL 302.374091 239.758125 \r\nz\r\n\" style=\"fill:#1f77b4;\"/>\r\n   </g>\r\n   <g id=\"patch_175\">\r\n    <path clip-path=\"url(#p1dd8cbf604)\" d=\"M 303.895909 239.758125 \r\nL 305.417727 239.758125 \r\nL 305.417727 239.758125 \r\nL 303.895909 239.758125 \r\nz\r\n\" style=\"fill:#1f77b4;\"/>\r\n   </g>\r\n   <g id=\"patch_176\">\r\n    <path clip-path=\"url(#p1dd8cbf604)\" d=\"M 305.417727 239.758125 \r\nL 306.939545 239.758125 \r\nL 306.939545 239.758125 \r\nL 305.417727 239.758125 \r\nz\r\n\" style=\"fill:#1f77b4;\"/>\r\n   </g>\r\n   <g id=\"patch_177\">\r\n    <path clip-path=\"url(#p1dd8cbf604)\" d=\"M 306.939545 239.758125 \r\nL 308.461364 239.758125 \r\nL 308.461364 239.758125 \r\nL 306.939545 239.758125 \r\nz\r\n\" style=\"fill:#1f77b4;\"/>\r\n   </g>\r\n   <g id=\"patch_178\">\r\n    <path clip-path=\"url(#p1dd8cbf604)\" d=\"M 308.461364 239.758125 \r\nL 309.983182 239.758125 \r\nL 309.983182 239.758125 \r\nL 308.461364 239.758125 \r\nz\r\n\" style=\"fill:#1f77b4;\"/>\r\n   </g>\r\n   <g id=\"patch_179\">\r\n    <path clip-path=\"url(#p1dd8cbf604)\" d=\"M 309.983182 239.758125 \r\nL 311.505 239.758125 \r\nL 311.505 239.758125 \r\nL 309.983182 239.758125 \r\nz\r\n\" style=\"fill:#1f77b4;\"/>\r\n   </g>\r\n   <g id=\"patch_180\">\r\n    <path clip-path=\"url(#p1dd8cbf604)\" d=\"M 311.505 239.758125 \r\nL 313.026818 239.758125 \r\nL 313.026818 239.758125 \r\nL 311.505 239.758125 \r\nz\r\n\" style=\"fill:#1f77b4;\"/>\r\n   </g>\r\n   <g id=\"patch_181\">\r\n    <path clip-path=\"url(#p1dd8cbf604)\" d=\"M 313.026818 239.758125 \r\nL 314.548636 239.758125 \r\nL 314.548636 239.758125 \r\nL 313.026818 239.758125 \r\nz\r\n\" style=\"fill:#1f77b4;\"/>\r\n   </g>\r\n   <g id=\"patch_182\">\r\n    <path clip-path=\"url(#p1dd8cbf604)\" d=\"M 314.548636 239.758125 \r\nL 316.070455 239.758125 \r\nL 316.070455 239.758125 \r\nL 314.548636 239.758125 \r\nz\r\n\" style=\"fill:#1f77b4;\"/>\r\n   </g>\r\n   <g id=\"patch_183\">\r\n    <path clip-path=\"url(#p1dd8cbf604)\" d=\"M 316.070455 239.758125 \r\nL 317.592273 239.758125 \r\nL 317.592273 239.758125 \r\nL 316.070455 239.758125 \r\nz\r\n\" style=\"fill:#1f77b4;\"/>\r\n   </g>\r\n   <g id=\"patch_184\">\r\n    <path clip-path=\"url(#p1dd8cbf604)\" d=\"M 317.592273 239.758125 \r\nL 319.114091 239.758125 \r\nL 319.114091 239.758125 \r\nL 317.592273 239.758125 \r\nz\r\n\" style=\"fill:#1f77b4;\"/>\r\n   </g>\r\n   <g id=\"patch_185\">\r\n    <path clip-path=\"url(#p1dd8cbf604)\" d=\"M 319.114091 239.758125 \r\nL 320.635909 239.758125 \r\nL 320.635909 239.758125 \r\nL 319.114091 239.758125 \r\nz\r\n\" style=\"fill:#1f77b4;\"/>\r\n   </g>\r\n   <g id=\"patch_186\">\r\n    <path clip-path=\"url(#p1dd8cbf604)\" d=\"M 320.635909 239.758125 \r\nL 322.157727 239.758125 \r\nL 322.157727 239.758125 \r\nL 320.635909 239.758125 \r\nz\r\n\" style=\"fill:#1f77b4;\"/>\r\n   </g>\r\n   <g id=\"patch_187\">\r\n    <path clip-path=\"url(#p1dd8cbf604)\" d=\"M 322.157727 239.758125 \r\nL 323.679545 239.758125 \r\nL 323.679545 239.758125 \r\nL 322.157727 239.758125 \r\nz\r\n\" style=\"fill:#1f77b4;\"/>\r\n   </g>\r\n   <g id=\"patch_188\">\r\n    <path clip-path=\"url(#p1dd8cbf604)\" d=\"M 323.679545 239.758125 \r\nL 325.201364 239.758125 \r\nL 325.201364 239.758125 \r\nL 323.679545 239.758125 \r\nz\r\n\" style=\"fill:#1f77b4;\"/>\r\n   </g>\r\n   <g id=\"patch_189\">\r\n    <path clip-path=\"url(#p1dd8cbf604)\" d=\"M 325.201364 239.758125 \r\nL 326.723182 239.758125 \r\nL 326.723182 239.758125 \r\nL 325.201364 239.758125 \r\nz\r\n\" style=\"fill:#1f77b4;\"/>\r\n   </g>\r\n   <g id=\"patch_190\">\r\n    <path clip-path=\"url(#p1dd8cbf604)\" d=\"M 326.723182 239.758125 \r\nL 328.245 239.758125 \r\nL 328.245 239.758125 \r\nL 326.723182 239.758125 \r\nz\r\n\" style=\"fill:#1f77b4;\"/>\r\n   </g>\r\n   <g id=\"patch_191\">\r\n    <path clip-path=\"url(#p1dd8cbf604)\" d=\"M 328.245 239.758125 \r\nL 329.766818 239.758125 \r\nL 329.766818 239.758125 \r\nL 328.245 239.758125 \r\nz\r\n\" style=\"fill:#1f77b4;\"/>\r\n   </g>\r\n   <g id=\"patch_192\">\r\n    <path clip-path=\"url(#p1dd8cbf604)\" d=\"M 329.766818 239.758125 \r\nL 331.288636 239.758125 \r\nL 331.288636 239.758125 \r\nL 329.766818 239.758125 \r\nz\r\n\" style=\"fill:#1f77b4;\"/>\r\n   </g>\r\n   <g id=\"patch_193\">\r\n    <path clip-path=\"url(#p1dd8cbf604)\" d=\"M 331.288636 239.758125 \r\nL 332.810455 239.758125 \r\nL 332.810455 239.758125 \r\nL 331.288636 239.758125 \r\nz\r\n\" style=\"fill:#1f77b4;\"/>\r\n   </g>\r\n   <g id=\"patch_194\">\r\n    <path clip-path=\"url(#p1dd8cbf604)\" d=\"M 332.810455 239.758125 \r\nL 334.332273 239.758125 \r\nL 334.332273 239.758125 \r\nL 332.810455 239.758125 \r\nz\r\n\" style=\"fill:#1f77b4;\"/>\r\n   </g>\r\n   <g id=\"patch_195\">\r\n    <path clip-path=\"url(#p1dd8cbf604)\" d=\"M 334.332273 239.758125 \r\nL 335.854091 239.758125 \r\nL 335.854091 239.758125 \r\nL 334.332273 239.758125 \r\nz\r\n\" style=\"fill:#1f77b4;\"/>\r\n   </g>\r\n   <g id=\"patch_196\">\r\n    <path clip-path=\"url(#p1dd8cbf604)\" d=\"M 335.854091 239.758125 \r\nL 337.375909 239.758125 \r\nL 337.375909 239.758125 \r\nL 335.854091 239.758125 \r\nz\r\n\" style=\"fill:#1f77b4;\"/>\r\n   </g>\r\n   <g id=\"patch_197\">\r\n    <path clip-path=\"url(#p1dd8cbf604)\" d=\"M 337.375909 239.758125 \r\nL 338.897727 239.758125 \r\nL 338.897727 239.758125 \r\nL 337.375909 239.758125 \r\nz\r\n\" style=\"fill:#1f77b4;\"/>\r\n   </g>\r\n   <g id=\"patch_198\">\r\n    <path clip-path=\"url(#p1dd8cbf604)\" d=\"M 338.897727 239.758125 \r\nL 340.419545 239.758125 \r\nL 340.419545 239.758125 \r\nL 338.897727 239.758125 \r\nz\r\n\" style=\"fill:#1f77b4;\"/>\r\n   </g>\r\n   <g id=\"patch_199\">\r\n    <path clip-path=\"url(#p1dd8cbf604)\" d=\"M 340.419545 239.758125 \r\nL 341.941364 239.758125 \r\nL 341.941364 239.758125 \r\nL 340.419545 239.758125 \r\nz\r\n\" style=\"fill:#1f77b4;\"/>\r\n   </g>\r\n   <g id=\"patch_200\">\r\n    <path clip-path=\"url(#p1dd8cbf604)\" d=\"M 341.941364 239.758125 \r\nL 343.463182 239.758125 \r\nL 343.463182 239.758125 \r\nL 341.941364 239.758125 \r\nz\r\n\" style=\"fill:#1f77b4;\"/>\r\n   </g>\r\n   <g id=\"patch_201\">\r\n    <path clip-path=\"url(#p1dd8cbf604)\" d=\"M 343.463182 239.758125 \r\nL 344.985 239.758125 \r\nL 344.985 239.758125 \r\nL 343.463182 239.758125 \r\nz\r\n\" style=\"fill:#1f77b4;\"/>\r\n   </g>\r\n   <g id=\"patch_202\">\r\n    <path clip-path=\"url(#p1dd8cbf604)\" d=\"M 344.985 239.758125 \r\nL 346.506818 239.758125 \r\nL 346.506818 239.758125 \r\nL 344.985 239.758125 \r\nz\r\n\" style=\"fill:#1f77b4;\"/>\r\n   </g>\r\n   <g id=\"matplotlib.axis_1\">\r\n    <g id=\"xtick_1\">\r\n     <g id=\"line2d_1\">\r\n      <defs>\r\n       <path d=\"M 0 0 \r\nL 0 3.5 \r\n\" id=\"m4664011430\" style=\"stroke:#000000;stroke-width:0.8;\"/>\r\n      </defs>\r\n      <g>\r\n       <use style=\"stroke:#000000;stroke-width:0.8;\" x=\"42.143182\" xlink:href=\"#m4664011430\" y=\"239.758125\"/>\r\n      </g>\r\n     </g>\r\n     <g id=\"text_1\">\r\n      <!-- −1.00 -->\r\n      <defs>\r\n       <path d=\"M 10.59375 35.5 \r\nL 73.1875 35.5 \r\nL 73.1875 27.203125 \r\nL 10.59375 27.203125 \r\nz\r\n\" id=\"DejaVuSans-8722\"/>\r\n       <path d=\"M 12.40625 8.296875 \r\nL 28.515625 8.296875 \r\nL 28.515625 63.921875 \r\nL 10.984375 60.40625 \r\nL 10.984375 69.390625 \r\nL 28.421875 72.90625 \r\nL 38.28125 72.90625 \r\nL 38.28125 8.296875 \r\nL 54.390625 8.296875 \r\nL 54.390625 0 \r\nL 12.40625 0 \r\nz\r\n\" id=\"DejaVuSans-49\"/>\r\n       <path d=\"M 10.6875 12.40625 \r\nL 21 12.40625 \r\nL 21 0 \r\nL 10.6875 0 \r\nz\r\n\" id=\"DejaVuSans-46\"/>\r\n       <path d=\"M 31.78125 66.40625 \r\nQ 24.171875 66.40625 20.328125 58.90625 \r\nQ 16.5 51.421875 16.5 36.375 \r\nQ 16.5 21.390625 20.328125 13.890625 \r\nQ 24.171875 6.390625 31.78125 6.390625 \r\nQ 39.453125 6.390625 43.28125 13.890625 \r\nQ 47.125 21.390625 47.125 36.375 \r\nQ 47.125 51.421875 43.28125 58.90625 \r\nQ 39.453125 66.40625 31.78125 66.40625 \r\nz\r\nM 31.78125 74.21875 \r\nQ 44.046875 74.21875 50.515625 64.515625 \r\nQ 56.984375 54.828125 56.984375 36.375 \r\nQ 56.984375 17.96875 50.515625 8.265625 \r\nQ 44.046875 -1.421875 31.78125 -1.421875 \r\nQ 19.53125 -1.421875 13.0625 8.265625 \r\nQ 6.59375 17.96875 6.59375 36.375 \r\nQ 6.59375 54.828125 13.0625 64.515625 \r\nQ 19.53125 74.21875 31.78125 74.21875 \r\nz\r\n\" id=\"DejaVuSans-48\"/>\r\n      </defs>\r\n      <g transform=\"translate(26.820526 254.356563)scale(0.1 -0.1)\">\r\n       <use xlink:href=\"#DejaVuSans-8722\"/>\r\n       <use x=\"83.789062\" xlink:href=\"#DejaVuSans-49\"/>\r\n       <use x=\"147.412109\" xlink:href=\"#DejaVuSans-46\"/>\r\n       <use x=\"179.199219\" xlink:href=\"#DejaVuSans-48\"/>\r\n       <use x=\"242.822266\" xlink:href=\"#DejaVuSans-48\"/>\r\n      </g>\r\n     </g>\r\n    </g>\r\n    <g id=\"xtick_2\">\r\n     <g id=\"line2d_2\">\r\n      <g>\r\n       <use style=\"stroke:#000000;stroke-width:0.8;\" x=\"80.188636\" xlink:href=\"#m4664011430\" y=\"239.758125\"/>\r\n      </g>\r\n     </g>\r\n     <g id=\"text_2\">\r\n      <!-- −0.75 -->\r\n      <defs>\r\n       <path d=\"M 8.203125 72.90625 \r\nL 55.078125 72.90625 \r\nL 55.078125 68.703125 \r\nL 28.609375 0 \r\nL 18.3125 0 \r\nL 43.21875 64.59375 \r\nL 8.203125 64.59375 \r\nz\r\n\" id=\"DejaVuSans-55\"/>\r\n       <path d=\"M 10.796875 72.90625 \r\nL 49.515625 72.90625 \r\nL 49.515625 64.59375 \r\nL 19.828125 64.59375 \r\nL 19.828125 46.734375 \r\nQ 21.96875 47.46875 24.109375 47.828125 \r\nQ 26.265625 48.1875 28.421875 48.1875 \r\nQ 40.625 48.1875 47.75 41.5 \r\nQ 54.890625 34.8125 54.890625 23.390625 \r\nQ 54.890625 11.625 47.5625 5.09375 \r\nQ 40.234375 -1.421875 26.90625 -1.421875 \r\nQ 22.3125 -1.421875 17.546875 -0.640625 \r\nQ 12.796875 0.140625 7.71875 1.703125 \r\nL 7.71875 11.625 \r\nQ 12.109375 9.234375 16.796875 8.0625 \r\nQ 21.484375 6.890625 26.703125 6.890625 \r\nQ 35.15625 6.890625 40.078125 11.328125 \r\nQ 45.015625 15.765625 45.015625 23.390625 \r\nQ 45.015625 31 40.078125 35.4375 \r\nQ 35.15625 39.890625 26.703125 39.890625 \r\nQ 22.75 39.890625 18.8125 39.015625 \r\nQ 14.890625 38.140625 10.796875 36.28125 \r\nz\r\n\" id=\"DejaVuSans-53\"/>\r\n      </defs>\r\n      <g transform=\"translate(64.86598 254.356563)scale(0.1 -0.1)\">\r\n       <use xlink:href=\"#DejaVuSans-8722\"/>\r\n       <use x=\"83.789062\" xlink:href=\"#DejaVuSans-48\"/>\r\n       <use x=\"147.412109\" xlink:href=\"#DejaVuSans-46\"/>\r\n       <use x=\"179.199219\" xlink:href=\"#DejaVuSans-55\"/>\r\n       <use x=\"242.822266\" xlink:href=\"#DejaVuSans-53\"/>\r\n      </g>\r\n     </g>\r\n    </g>\r\n    <g id=\"xtick_3\">\r\n     <g id=\"line2d_3\">\r\n      <g>\r\n       <use style=\"stroke:#000000;stroke-width:0.8;\" x=\"118.234091\" xlink:href=\"#m4664011430\" y=\"239.758125\"/>\r\n      </g>\r\n     </g>\r\n     <g id=\"text_3\">\r\n      <!-- −0.50 -->\r\n      <g transform=\"translate(102.911435 254.356563)scale(0.1 -0.1)\">\r\n       <use xlink:href=\"#DejaVuSans-8722\"/>\r\n       <use x=\"83.789062\" xlink:href=\"#DejaVuSans-48\"/>\r\n       <use x=\"147.412109\" xlink:href=\"#DejaVuSans-46\"/>\r\n       <use x=\"179.199219\" xlink:href=\"#DejaVuSans-53\"/>\r\n       <use x=\"242.822266\" xlink:href=\"#DejaVuSans-48\"/>\r\n      </g>\r\n     </g>\r\n    </g>\r\n    <g id=\"xtick_4\">\r\n     <g id=\"line2d_4\">\r\n      <g>\r\n       <use style=\"stroke:#000000;stroke-width:0.8;\" x=\"156.279545\" xlink:href=\"#m4664011430\" y=\"239.758125\"/>\r\n      </g>\r\n     </g>\r\n     <g id=\"text_4\">\r\n      <!-- −0.25 -->\r\n      <defs>\r\n       <path d=\"M 19.1875 8.296875 \r\nL 53.609375 8.296875 \r\nL 53.609375 0 \r\nL 7.328125 0 \r\nL 7.328125 8.296875 \r\nQ 12.9375 14.109375 22.625 23.890625 \r\nQ 32.328125 33.6875 34.8125 36.53125 \r\nQ 39.546875 41.84375 41.421875 45.53125 \r\nQ 43.3125 49.21875 43.3125 52.78125 \r\nQ 43.3125 58.59375 39.234375 62.25 \r\nQ 35.15625 65.921875 28.609375 65.921875 \r\nQ 23.96875 65.921875 18.8125 64.3125 \r\nQ 13.671875 62.703125 7.8125 59.421875 \r\nL 7.8125 69.390625 \r\nQ 13.765625 71.78125 18.9375 73 \r\nQ 24.125 74.21875 28.421875 74.21875 \r\nQ 39.75 74.21875 46.484375 68.546875 \r\nQ 53.21875 62.890625 53.21875 53.421875 \r\nQ 53.21875 48.921875 51.53125 44.890625 \r\nQ 49.859375 40.875 45.40625 35.40625 \r\nQ 44.1875 33.984375 37.640625 27.21875 \r\nQ 31.109375 20.453125 19.1875 8.296875 \r\nz\r\n\" id=\"DejaVuSans-50\"/>\r\n      </defs>\r\n      <g transform=\"translate(140.956889 254.356563)scale(0.1 -0.1)\">\r\n       <use xlink:href=\"#DejaVuSans-8722\"/>\r\n       <use x=\"83.789062\" xlink:href=\"#DejaVuSans-48\"/>\r\n       <use x=\"147.412109\" xlink:href=\"#DejaVuSans-46\"/>\r\n       <use x=\"179.199219\" xlink:href=\"#DejaVuSans-50\"/>\r\n       <use x=\"242.822266\" xlink:href=\"#DejaVuSans-53\"/>\r\n      </g>\r\n     </g>\r\n    </g>\r\n    <g id=\"xtick_5\">\r\n     <g id=\"line2d_5\">\r\n      <g>\r\n       <use style=\"stroke:#000000;stroke-width:0.8;\" x=\"194.325\" xlink:href=\"#m4664011430\" y=\"239.758125\"/>\r\n      </g>\r\n     </g>\r\n     <g id=\"text_5\">\r\n      <!-- 0.00 -->\r\n      <g transform=\"translate(183.192188 254.356563)scale(0.1 -0.1)\">\r\n       <use xlink:href=\"#DejaVuSans-48\"/>\r\n       <use x=\"63.623047\" xlink:href=\"#DejaVuSans-46\"/>\r\n       <use x=\"95.410156\" xlink:href=\"#DejaVuSans-48\"/>\r\n       <use x=\"159.033203\" xlink:href=\"#DejaVuSans-48\"/>\r\n      </g>\r\n     </g>\r\n    </g>\r\n    <g id=\"xtick_6\">\r\n     <g id=\"line2d_6\">\r\n      <g>\r\n       <use style=\"stroke:#000000;stroke-width:0.8;\" x=\"232.370455\" xlink:href=\"#m4664011430\" y=\"239.758125\"/>\r\n      </g>\r\n     </g>\r\n     <g id=\"text_6\">\r\n      <!-- 0.25 -->\r\n      <g transform=\"translate(221.237642 254.356563)scale(0.1 -0.1)\">\r\n       <use xlink:href=\"#DejaVuSans-48\"/>\r\n       <use x=\"63.623047\" xlink:href=\"#DejaVuSans-46\"/>\r\n       <use x=\"95.410156\" xlink:href=\"#DejaVuSans-50\"/>\r\n       <use x=\"159.033203\" xlink:href=\"#DejaVuSans-53\"/>\r\n      </g>\r\n     </g>\r\n    </g>\r\n    <g id=\"xtick_7\">\r\n     <g id=\"line2d_7\">\r\n      <g>\r\n       <use style=\"stroke:#000000;stroke-width:0.8;\" x=\"270.415909\" xlink:href=\"#m4664011430\" y=\"239.758125\"/>\r\n      </g>\r\n     </g>\r\n     <g id=\"text_7\">\r\n      <!-- 0.50 -->\r\n      <g transform=\"translate(259.283097 254.356563)scale(0.1 -0.1)\">\r\n       <use xlink:href=\"#DejaVuSans-48\"/>\r\n       <use x=\"63.623047\" xlink:href=\"#DejaVuSans-46\"/>\r\n       <use x=\"95.410156\" xlink:href=\"#DejaVuSans-53\"/>\r\n       <use x=\"159.033203\" xlink:href=\"#DejaVuSans-48\"/>\r\n      </g>\r\n     </g>\r\n    </g>\r\n    <g id=\"xtick_8\">\r\n     <g id=\"line2d_8\">\r\n      <g>\r\n       <use style=\"stroke:#000000;stroke-width:0.8;\" x=\"308.461364\" xlink:href=\"#m4664011430\" y=\"239.758125\"/>\r\n      </g>\r\n     </g>\r\n     <g id=\"text_8\">\r\n      <!-- 0.75 -->\r\n      <g transform=\"translate(297.328551 254.356563)scale(0.1 -0.1)\">\r\n       <use xlink:href=\"#DejaVuSans-48\"/>\r\n       <use x=\"63.623047\" xlink:href=\"#DejaVuSans-46\"/>\r\n       <use x=\"95.410156\" xlink:href=\"#DejaVuSans-55\"/>\r\n       <use x=\"159.033203\" xlink:href=\"#DejaVuSans-53\"/>\r\n      </g>\r\n     </g>\r\n    </g>\r\n    <g id=\"xtick_9\">\r\n     <g id=\"line2d_9\">\r\n      <g>\r\n       <use style=\"stroke:#000000;stroke-width:0.8;\" x=\"346.506818\" xlink:href=\"#m4664011430\" y=\"239.758125\"/>\r\n      </g>\r\n     </g>\r\n     <g id=\"text_9\">\r\n      <!-- 1.00 -->\r\n      <g transform=\"translate(335.374006 254.356563)scale(0.1 -0.1)\">\r\n       <use xlink:href=\"#DejaVuSans-49\"/>\r\n       <use x=\"63.623047\" xlink:href=\"#DejaVuSans-46\"/>\r\n       <use x=\"95.410156\" xlink:href=\"#DejaVuSans-48\"/>\r\n       <use x=\"159.033203\" xlink:href=\"#DejaVuSans-48\"/>\r\n      </g>\r\n     </g>\r\n    </g>\r\n   </g>\r\n   <g id=\"matplotlib.axis_2\">\r\n    <g id=\"ytick_1\">\r\n     <g id=\"line2d_10\">\r\n      <defs>\r\n       <path d=\"M 0 0 \r\nL -3.5 0 \r\n\" id=\"m5f68aba20c\" style=\"stroke:#000000;stroke-width:0.8;\"/>\r\n      </defs>\r\n      <g>\r\n       <use style=\"stroke:#000000;stroke-width:0.8;\" x=\"26.925\" xlink:href=\"#m5f68aba20c\" y=\"239.758125\"/>\r\n      </g>\r\n     </g>\r\n     <g id=\"text_10\">\r\n      <!-- 0 -->\r\n      <g transform=\"translate(13.5625 243.557344)scale(0.1 -0.1)\">\r\n       <use xlink:href=\"#DejaVuSans-48\"/>\r\n      </g>\r\n     </g>\r\n    </g>\r\n    <g id=\"ytick_2\">\r\n     <g id=\"line2d_11\">\r\n      <g>\r\n       <use style=\"stroke:#000000;stroke-width:0.8;\" x=\"26.925\" xlink:href=\"#m5f68aba20c\" y=\"191.598657\"/>\r\n      </g>\r\n     </g>\r\n     <g id=\"text_11\">\r\n      <!-- 10 -->\r\n      <g transform=\"translate(7.2 195.397875)scale(0.1 -0.1)\">\r\n       <use xlink:href=\"#DejaVuSans-49\"/>\r\n       <use x=\"63.623047\" xlink:href=\"#DejaVuSans-48\"/>\r\n      </g>\r\n     </g>\r\n    </g>\r\n    <g id=\"ytick_3\">\r\n     <g id=\"line2d_12\">\r\n      <g>\r\n       <use style=\"stroke:#000000;stroke-width:0.8;\" x=\"26.925\" xlink:href=\"#m5f68aba20c\" y=\"143.439188\"/>\r\n      </g>\r\n     </g>\r\n     <g id=\"text_12\">\r\n      <!-- 20 -->\r\n      <g transform=\"translate(7.2 147.238407)scale(0.1 -0.1)\">\r\n       <use xlink:href=\"#DejaVuSans-50\"/>\r\n       <use x=\"63.623047\" xlink:href=\"#DejaVuSans-48\"/>\r\n      </g>\r\n     </g>\r\n    </g>\r\n    <g id=\"ytick_4\">\r\n     <g id=\"line2d_13\">\r\n      <g>\r\n       <use style=\"stroke:#000000;stroke-width:0.8;\" x=\"26.925\" xlink:href=\"#m5f68aba20c\" y=\"95.27972\"/>\r\n      </g>\r\n     </g>\r\n     <g id=\"text_13\">\r\n      <!-- 30 -->\r\n      <defs>\r\n       <path d=\"M 40.578125 39.3125 \r\nQ 47.65625 37.796875 51.625 33 \r\nQ 55.609375 28.21875 55.609375 21.1875 \r\nQ 55.609375 10.40625 48.1875 4.484375 \r\nQ 40.765625 -1.421875 27.09375 -1.421875 \r\nQ 22.515625 -1.421875 17.65625 -0.515625 \r\nQ 12.796875 0.390625 7.625 2.203125 \r\nL 7.625 11.71875 \r\nQ 11.71875 9.328125 16.59375 8.109375 \r\nQ 21.484375 6.890625 26.8125 6.890625 \r\nQ 36.078125 6.890625 40.9375 10.546875 \r\nQ 45.796875 14.203125 45.796875 21.1875 \r\nQ 45.796875 27.640625 41.28125 31.265625 \r\nQ 36.765625 34.90625 28.71875 34.90625 \r\nL 20.21875 34.90625 \r\nL 20.21875 43.015625 \r\nL 29.109375 43.015625 \r\nQ 36.375 43.015625 40.234375 45.921875 \r\nQ 44.09375 48.828125 44.09375 54.296875 \r\nQ 44.09375 59.90625 40.109375 62.90625 \r\nQ 36.140625 65.921875 28.71875 65.921875 \r\nQ 24.65625 65.921875 20.015625 65.03125 \r\nQ 15.375 64.15625 9.8125 62.3125 \r\nL 9.8125 71.09375 \r\nQ 15.4375 72.65625 20.34375 73.4375 \r\nQ 25.25 74.21875 29.59375 74.21875 \r\nQ 40.828125 74.21875 47.359375 69.109375 \r\nQ 53.90625 64.015625 53.90625 55.328125 \r\nQ 53.90625 49.265625 50.4375 45.09375 \r\nQ 46.96875 40.921875 40.578125 39.3125 \r\nz\r\n\" id=\"DejaVuSans-51\"/>\r\n      </defs>\r\n      <g transform=\"translate(7.2 99.078938)scale(0.1 -0.1)\">\r\n       <use xlink:href=\"#DejaVuSans-51\"/>\r\n       <use x=\"63.623047\" xlink:href=\"#DejaVuSans-48\"/>\r\n      </g>\r\n     </g>\r\n    </g>\r\n    <g id=\"ytick_5\">\r\n     <g id=\"line2d_14\">\r\n      <g>\r\n       <use style=\"stroke:#000000;stroke-width:0.8;\" x=\"26.925\" xlink:href=\"#m5f68aba20c\" y=\"47.120251\"/>\r\n      </g>\r\n     </g>\r\n     <g id=\"text_14\">\r\n      <!-- 40 -->\r\n      <defs>\r\n       <path d=\"M 37.796875 64.3125 \r\nL 12.890625 25.390625 \r\nL 37.796875 25.390625 \r\nz\r\nM 35.203125 72.90625 \r\nL 47.609375 72.90625 \r\nL 47.609375 25.390625 \r\nL 58.015625 25.390625 \r\nL 58.015625 17.1875 \r\nL 47.609375 17.1875 \r\nL 47.609375 0 \r\nL 37.796875 0 \r\nL 37.796875 17.1875 \r\nL 4.890625 17.1875 \r\nL 4.890625 26.703125 \r\nz\r\n\" id=\"DejaVuSans-52\"/>\r\n      </defs>\r\n      <g transform=\"translate(7.2 50.91947)scale(0.1 -0.1)\">\r\n       <use xlink:href=\"#DejaVuSans-52\"/>\r\n       <use x=\"63.623047\" xlink:href=\"#DejaVuSans-48\"/>\r\n      </g>\r\n     </g>\r\n    </g>\r\n   </g>\r\n   <g id=\"patch_203\">\r\n    <path d=\"M 26.925 239.758125 \r\nL 26.925 22.318125 \r\n\" style=\"fill:none;stroke:#000000;stroke-linecap:square;stroke-linejoin:miter;stroke-width:0.8;\"/>\r\n   </g>\r\n   <g id=\"patch_204\">\r\n    <path d=\"M 361.725 239.758125 \r\nL 361.725 22.318125 \r\n\" style=\"fill:none;stroke:#000000;stroke-linecap:square;stroke-linejoin:miter;stroke-width:0.8;\"/>\r\n   </g>\r\n   <g id=\"patch_205\">\r\n    <path d=\"M 26.925 239.758125 \r\nL 361.725 239.758125 \r\n\" style=\"fill:none;stroke:#000000;stroke-linecap:square;stroke-linejoin:miter;stroke-width:0.8;\"/>\r\n   </g>\r\n   <g id=\"patch_206\">\r\n    <path d=\"M 26.925 22.318125 \r\nL 361.725 22.318125 \r\n\" style=\"fill:none;stroke:#000000;stroke-linecap:square;stroke-linejoin:miter;stroke-width:0.8;\"/>\r\n   </g>\r\n   <g id=\"text_15\">\r\n    <!-- Error Distribution -->\r\n    <defs>\r\n     <path d=\"M 9.8125 72.90625 \r\nL 55.90625 72.90625 \r\nL 55.90625 64.59375 \r\nL 19.671875 64.59375 \r\nL 19.671875 43.015625 \r\nL 54.390625 43.015625 \r\nL 54.390625 34.71875 \r\nL 19.671875 34.71875 \r\nL 19.671875 8.296875 \r\nL 56.78125 8.296875 \r\nL 56.78125 0 \r\nL 9.8125 0 \r\nz\r\n\" id=\"DejaVuSans-69\"/>\r\n     <path d=\"M 41.109375 46.296875 \r\nQ 39.59375 47.171875 37.8125 47.578125 \r\nQ 36.03125 48 33.890625 48 \r\nQ 26.265625 48 22.1875 43.046875 \r\nQ 18.109375 38.09375 18.109375 28.8125 \r\nL 18.109375 0 \r\nL 9.078125 0 \r\nL 9.078125 54.6875 \r\nL 18.109375 54.6875 \r\nL 18.109375 46.1875 \r\nQ 20.953125 51.171875 25.484375 53.578125 \r\nQ 30.03125 56 36.53125 56 \r\nQ 37.453125 56 38.578125 55.875 \r\nQ 39.703125 55.765625 41.0625 55.515625 \r\nz\r\n\" id=\"DejaVuSans-114\"/>\r\n     <path d=\"M 30.609375 48.390625 \r\nQ 23.390625 48.390625 19.1875 42.75 \r\nQ 14.984375 37.109375 14.984375 27.296875 \r\nQ 14.984375 17.484375 19.15625 11.84375 \r\nQ 23.34375 6.203125 30.609375 6.203125 \r\nQ 37.796875 6.203125 41.984375 11.859375 \r\nQ 46.1875 17.53125 46.1875 27.296875 \r\nQ 46.1875 37.015625 41.984375 42.703125 \r\nQ 37.796875 48.390625 30.609375 48.390625 \r\nz\r\nM 30.609375 56 \r\nQ 42.328125 56 49.015625 48.375 \r\nQ 55.71875 40.765625 55.71875 27.296875 \r\nQ 55.71875 13.875 49.015625 6.21875 \r\nQ 42.328125 -1.421875 30.609375 -1.421875 \r\nQ 18.84375 -1.421875 12.171875 6.21875 \r\nQ 5.515625 13.875 5.515625 27.296875 \r\nQ 5.515625 40.765625 12.171875 48.375 \r\nQ 18.84375 56 30.609375 56 \r\nz\r\n\" id=\"DejaVuSans-111\"/>\r\n     <path id=\"DejaVuSans-32\"/>\r\n     <path d=\"M 19.671875 64.796875 \r\nL 19.671875 8.109375 \r\nL 31.59375 8.109375 \r\nQ 46.6875 8.109375 53.6875 14.9375 \r\nQ 60.6875 21.78125 60.6875 36.53125 \r\nQ 60.6875 51.171875 53.6875 57.984375 \r\nQ 46.6875 64.796875 31.59375 64.796875 \r\nz\r\nM 9.8125 72.90625 \r\nL 30.078125 72.90625 \r\nQ 51.265625 72.90625 61.171875 64.09375 \r\nQ 71.09375 55.28125 71.09375 36.53125 \r\nQ 71.09375 17.671875 61.125 8.828125 \r\nQ 51.171875 0 30.078125 0 \r\nL 9.8125 0 \r\nz\r\n\" id=\"DejaVuSans-68\"/>\r\n     <path d=\"M 9.421875 54.6875 \r\nL 18.40625 54.6875 \r\nL 18.40625 0 \r\nL 9.421875 0 \r\nz\r\nM 9.421875 75.984375 \r\nL 18.40625 75.984375 \r\nL 18.40625 64.59375 \r\nL 9.421875 64.59375 \r\nz\r\n\" id=\"DejaVuSans-105\"/>\r\n     <path d=\"M 44.28125 53.078125 \r\nL 44.28125 44.578125 \r\nQ 40.484375 46.53125 36.375 47.5 \r\nQ 32.28125 48.484375 27.875 48.484375 \r\nQ 21.1875 48.484375 17.84375 46.4375 \r\nQ 14.5 44.390625 14.5 40.28125 \r\nQ 14.5 37.15625 16.890625 35.375 \r\nQ 19.28125 33.59375 26.515625 31.984375 \r\nL 29.59375 31.296875 \r\nQ 39.15625 29.25 43.1875 25.515625 \r\nQ 47.21875 21.78125 47.21875 15.09375 \r\nQ 47.21875 7.46875 41.1875 3.015625 \r\nQ 35.15625 -1.421875 24.609375 -1.421875 \r\nQ 20.21875 -1.421875 15.453125 -0.5625 \r\nQ 10.6875 0.296875 5.421875 2 \r\nL 5.421875 11.28125 \r\nQ 10.40625 8.6875 15.234375 7.390625 \r\nQ 20.0625 6.109375 24.8125 6.109375 \r\nQ 31.15625 6.109375 34.5625 8.28125 \r\nQ 37.984375 10.453125 37.984375 14.40625 \r\nQ 37.984375 18.0625 35.515625 20.015625 \r\nQ 33.0625 21.96875 24.703125 23.78125 \r\nL 21.578125 24.515625 \r\nQ 13.234375 26.265625 9.515625 29.90625 \r\nQ 5.8125 33.546875 5.8125 39.890625 \r\nQ 5.8125 47.609375 11.28125 51.796875 \r\nQ 16.75 56 26.8125 56 \r\nQ 31.78125 56 36.171875 55.265625 \r\nQ 40.578125 54.546875 44.28125 53.078125 \r\nz\r\n\" id=\"DejaVuSans-115\"/>\r\n     <path d=\"M 18.3125 70.21875 \r\nL 18.3125 54.6875 \r\nL 36.8125 54.6875 \r\nL 36.8125 47.703125 \r\nL 18.3125 47.703125 \r\nL 18.3125 18.015625 \r\nQ 18.3125 11.328125 20.140625 9.421875 \r\nQ 21.96875 7.515625 27.59375 7.515625 \r\nL 36.8125 7.515625 \r\nL 36.8125 0 \r\nL 27.59375 0 \r\nQ 17.1875 0 13.234375 3.875 \r\nQ 9.28125 7.765625 9.28125 18.015625 \r\nL 9.28125 47.703125 \r\nL 2.6875 47.703125 \r\nL 2.6875 54.6875 \r\nL 9.28125 54.6875 \r\nL 9.28125 70.21875 \r\nz\r\n\" id=\"DejaVuSans-116\"/>\r\n     <path d=\"M 48.6875 27.296875 \r\nQ 48.6875 37.203125 44.609375 42.84375 \r\nQ 40.53125 48.484375 33.40625 48.484375 \r\nQ 26.265625 48.484375 22.1875 42.84375 \r\nQ 18.109375 37.203125 18.109375 27.296875 \r\nQ 18.109375 17.390625 22.1875 11.75 \r\nQ 26.265625 6.109375 33.40625 6.109375 \r\nQ 40.53125 6.109375 44.609375 11.75 \r\nQ 48.6875 17.390625 48.6875 27.296875 \r\nz\r\nM 18.109375 46.390625 \r\nQ 20.953125 51.265625 25.265625 53.625 \r\nQ 29.59375 56 35.59375 56 \r\nQ 45.5625 56 51.78125 48.09375 \r\nQ 58.015625 40.1875 58.015625 27.296875 \r\nQ 58.015625 14.40625 51.78125 6.484375 \r\nQ 45.5625 -1.421875 35.59375 -1.421875 \r\nQ 29.59375 -1.421875 25.265625 0.953125 \r\nQ 20.953125 3.328125 18.109375 8.203125 \r\nL 18.109375 0 \r\nL 9.078125 0 \r\nL 9.078125 75.984375 \r\nL 18.109375 75.984375 \r\nz\r\n\" id=\"DejaVuSans-98\"/>\r\n     <path d=\"M 8.5 21.578125 \r\nL 8.5 54.6875 \r\nL 17.484375 54.6875 \r\nL 17.484375 21.921875 \r\nQ 17.484375 14.15625 20.5 10.265625 \r\nQ 23.53125 6.390625 29.59375 6.390625 \r\nQ 36.859375 6.390625 41.078125 11.03125 \r\nQ 45.3125 15.671875 45.3125 23.6875 \r\nL 45.3125 54.6875 \r\nL 54.296875 54.6875 \r\nL 54.296875 0 \r\nL 45.3125 0 \r\nL 45.3125 8.40625 \r\nQ 42.046875 3.421875 37.71875 1 \r\nQ 33.40625 -1.421875 27.6875 -1.421875 \r\nQ 18.265625 -1.421875 13.375 4.4375 \r\nQ 8.5 10.296875 8.5 21.578125 \r\nz\r\nM 31.109375 56 \r\nz\r\n\" id=\"DejaVuSans-117\"/>\r\n     <path d=\"M 54.890625 33.015625 \r\nL 54.890625 0 \r\nL 45.90625 0 \r\nL 45.90625 32.71875 \r\nQ 45.90625 40.484375 42.875 44.328125 \r\nQ 39.84375 48.1875 33.796875 48.1875 \r\nQ 26.515625 48.1875 22.3125 43.546875 \r\nQ 18.109375 38.921875 18.109375 30.90625 \r\nL 18.109375 0 \r\nL 9.078125 0 \r\nL 9.078125 54.6875 \r\nL 18.109375 54.6875 \r\nL 18.109375 46.1875 \r\nQ 21.34375 51.125 25.703125 53.5625 \r\nQ 30.078125 56 35.796875 56 \r\nQ 45.21875 56 50.046875 50.171875 \r\nQ 54.890625 44.34375 54.890625 33.015625 \r\nz\r\n\" id=\"DejaVuSans-110\"/>\r\n    </defs>\r\n    <g transform=\"translate(142.55625 16.318125)scale(0.12 -0.12)\">\r\n     <use xlink:href=\"#DejaVuSans-69\"/>\r\n     <use x=\"63.183594\" xlink:href=\"#DejaVuSans-114\"/>\r\n     <use x=\"104.28125\" xlink:href=\"#DejaVuSans-114\"/>\r\n     <use x=\"145.363281\" xlink:href=\"#DejaVuSans-111\"/>\r\n     <use x=\"206.544922\" xlink:href=\"#DejaVuSans-114\"/>\r\n     <use x=\"247.658203\" xlink:href=\"#DejaVuSans-32\"/>\r\n     <use x=\"279.445312\" xlink:href=\"#DejaVuSans-68\"/>\r\n     <use x=\"356.447266\" xlink:href=\"#DejaVuSans-105\"/>\r\n     <use x=\"384.230469\" xlink:href=\"#DejaVuSans-115\"/>\r\n     <use x=\"436.330078\" xlink:href=\"#DejaVuSans-116\"/>\r\n     <use x=\"475.539062\" xlink:href=\"#DejaVuSans-114\"/>\r\n     <use x=\"516.652344\" xlink:href=\"#DejaVuSans-105\"/>\r\n     <use x=\"544.435547\" xlink:href=\"#DejaVuSans-98\"/>\r\n     <use x=\"607.912109\" xlink:href=\"#DejaVuSans-117\"/>\r\n     <use x=\"671.291016\" xlink:href=\"#DejaVuSans-116\"/>\r\n     <use x=\"710.5\" xlink:href=\"#DejaVuSans-105\"/>\r\n     <use x=\"738.283203\" xlink:href=\"#DejaVuSans-111\"/>\r\n     <use x=\"799.464844\" xlink:href=\"#DejaVuSans-110\"/>\r\n    </g>\r\n   </g>\r\n  </g>\r\n </g>\r\n <defs>\r\n  <clipPath id=\"p1dd8cbf604\">\r\n   <rect height=\"217.44\" width=\"334.8\" x=\"26.925\" y=\"22.318125\"/>\r\n  </clipPath>\r\n </defs>\r\n</svg>\r\n",
      "image/png": "[encoded data removed]"
     },
     "metadata": {
      "needs_background": "light"
     }
    }
   ],
   "source": [
    "'''\n",
    "Empirically evaluate the model for it's performance.\n",
    "Present two stats in the end:\n",
    "1) The proportion of the time that the estimate is\n",
    "   within a certain tolerance (here 0.1)\n",
    "2) The median estimation error.\n",
    "'''\n",
    "TEST = 300\n",
    "correct = 0\n",
    "tol = 0.1\n",
    "errors = []\n",
    "for i in range(TEST):\n",
    "    print(f\"TESTING {i + 1}/{TEST}\", end = \"\\r\")\n",
    "    amt, inp = stopping_distance_gen()\n",
    "\n",
    "    if (MODE == 0):\n",
    "        out = model.predict(inp)\n",
    "    elif (MODE == 1):\n",
    "        out = simple_analytical_approx(inp, tol = 1e-5)\n",
    "\n",
    "    if (abs(out - amt) < tol):\n",
    "        correct += 1\n",
    "    errors.append(out - amt)\n",
    "print(f\"WITHIN {tol} {correct}/{TEST} times\")\n",
    "print(f\"MEDIAN ERROR {np.median(np.abs(errors)):.4f}\")\n",
    "\n",
    "plt.title(\"Error Distribution\")\n",
    "plt.hist(errors, bins = 200, range = (-1, 1))\n",
    "plt.show()"
   ]
  },
  {
   "cell_type": "markdown",
   "metadata": {},
   "source": [
    "## Model Usage"
   ]
  },
  {
   "cell_type": "markdown",
   "metadata": {},
   "source": [
    "Now you're ready to test out your algorithm!  Run the simulator in braking distance mode (command below) to begin.  Drive around to make sure you remember the controls.\n",
    "\n",
    "python simulator.py --mode braking_distance\n",
    "\n",
    "To run with complex internal model run:\n",
    "\n",
    "python simulator.py --mode braking_distance --car_model complex"
   ]
  },
  {
   "cell_type": "markdown",
   "metadata": {},
   "source": [
    "## Target Brake Point Marking"
   ]
  },
  {
   "cell_type": "markdown",
   "metadata": {},
   "source": [
    "Now drive up to one of the red stop lines in the simulator, braking nicely in front of the line.  Click 'm' this will record the position and direction in which you stopped in as a keypoint target.  Repeat this process at a few other stop lines.  (You could do other locations as well, but this is the most practical). \n",
    "\n",
    "If you accidentally add erroneous keypoints you can delete them individually by running keypoints.py. (Or delete all of them by trashing the keypoint_locations.json).  Note, either of these files are in the braking_distance folder."
   ]
  },
  {
   "cell_type": "markdown",
   "metadata": {},
   "source": [
    "## Precision Braking"
   ]
  },
  {
   "cell_type": "markdown",
   "metadata": {},
   "source": [
    "To apply precision braking approach a brake point while driving.  If a target brake point is in your heading, you should notice the option to hold 'b' appear in the terminal window.  This indicates that you may begin precision braking.  Hold 'b' to precision brake.  Release one you have stopped moving.  \n",
    "\n",
    "A graph will come up detailing how much you depressed the brake pedal as you approached the target brake point.  The reason we brake a varying amount over time is because we are replanning every timestep.  This prevents error from building up in our model, and naturally adjusts the car's behavior as appropriate."
   ]
  },
  {
   "cell_type": "markdown",
   "metadata": {},
   "source": [
    "## Evaluation"
   ]
  },
  {
   "cell_type": "markdown",
   "metadata": {},
   "source": [
    "You will be evaluated on whether or not you successfully brake, somewhat smoothly, roughly at your target brake point.  You shouldn't overshoot the brake point or stop too early either.  This should work for both simple and complex models."
   ]
  },
  {
   "cell_type": "code",
   "execution_count": null,
   "metadata": {},
   "outputs": [],
   "source": []
  }
 ],
 "metadata": {
  "kernelspec": {
   "display_name": "Python 3",
   "language": "python",
   "name": "python3"
  },
  "language_info": {
   "codemirror_mode": {
    "name": "ipython",
    "version": 3
   },
   "file_extension": ".py",
   "mimetype": "text/x-python",
   "name": "python",
   "nbconvert_exporter": "python",
   "pygments_lexer": "ipython3",
   "version": "3.6.10-final"
  }
 },
 "nbformat": 4,
 "nbformat_minor": 2
}