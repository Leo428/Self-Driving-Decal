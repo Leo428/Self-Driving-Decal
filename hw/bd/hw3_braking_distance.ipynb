{
 "cells": [
  {
   "cell_type": "code",
   "execution_count": 66,
   "metadata": {},
   "outputs": [],
   "source": [
    "import sys\n",
    "sys.path.append('../../')\n",
    "\n",
    "from car_iface import controller_model\n",
    "from utils import nn\n",
    "import numpy as np\n",
    "import matplotlib.pyplot as plt"
   ]
  },
  {
   "cell_type": "code",
   "execution_count": 67,
   "metadata": {},
   "outputs": [
    {
     "output_type": "stream",
     "name": "stdout",
     "text": "Using Neural Model\n"
    }
   ],
   "source": [
    "'''\n",
    "Set the MODE here to either use a Neural Model (FCN)\n",
    "or the analytical equation.  Note the analytical equation\n",
    "can only be used for simple motion dynamics.\n",
    "'''\n",
    "MODE = 0\n",
    "MODE_DICT = {0: \"Neural Model\", 1: \"Analytical Equation\"}\n",
    "print(f\"Using {MODE_DICT[MODE]}\")"
   ]
  },
  {
   "cell_type": "code",
   "execution_count": 68,
   "metadata": {},
   "outputs": [],
   "source": [
    "'''\n",
    "CAR_MODEL you set to either \"simple\" or \"complex\".\n",
    "This dictates the internal model dynamics you will be using.\n",
    "'''\n",
    "CAR_MODEL = \"complex\"\n",
    "ci = controller_model.Car_Interface(model = CAR_MODEL)\n",
    "\n",
    "ci.set_gear(ci.FORWARD)\n",
    "\n",
    "if (MODE_DICT[MODE] == \"Simple Equation\" and CAR_MODEL == \"complex\"):\n",
    "    raise Exception(\"Invalid combination.\")"
   ]
  },
  {
   "cell_type": "markdown",
   "metadata": {},
   "source": [
    "## Stopping Distance Generation"
   ]
  },
  {
   "cell_type": "markdown",
   "metadata": {},
   "source": [
    "Here we take advantage of the controller model we\n",
    "developed using System ID.  Now instead of spending\n",
    "excessive amounts of time manually controlling the car\n",
    "we can easily generate data to work with.\n",
    "\n",
    "For a basic implementation of this function follow the\n",
    "below steps.  A model trained with this data will not\n",
    "work in all cases, but it will generally.  If you would\n",
    "like to learn why and come up with a more robust data\n",
    "generation scheme see the braking_distance_extra ipynb\n",
    "when it is released next lecture.\n",
    "\n",
    "IMPORTANT NOTE: For this to work with the \"complex\"\n",
    "car model you will have to first fill out one small\n",
    "section around line 138 in controller_model.py. This\n",
    "will allow your controller model to work with the non-linear \n",
    "SystemID shared during lecture."
   ]
  },
  {
   "cell_type": "code",
   "execution_count": 69,
   "metadata": {},
   "outputs": [],
   "source": [
    "'''\n",
    "Basic Instructions:\n",
    "1a.Select an initial velocity uniformly at random between 0 and 1. (see: np.random.random())\n",
    " b.Directly set the controller's velocity to this initial velocity.\n",
    " c.Zero the position of the controller.\n",
    "2.Select a brake pedal amount, amt, uniformly at random between 0 and 1.\n",
    "3a.Initialize a counter variable, t, to 0.\n",
    " b.While the controller's velocity is positive repeat the following steps.\n",
    " c.Apply the brakes at depression % amt for one time step.\n",
    " d.Increment t by the controller's dt time step.\n",
    " e.If t exceeds a time limit of 5 seconds, break out of this inner loop.\n",
    "4.If the controller's velocity is 0 proceed, otherwise repeat steps 1 to 4.\n",
    "5.The stopping distance is the position of the car, get this from the controller model.\n",
    "6.Initialize inp as a list of length two, where the first element is the\n",
    "  initial velocity, and the second element is the stopping distance.\n",
    "7.Return amt, inp\n",
    "\n",
    "What we are doing here is repeatedly trying random configurations of intial speed\n",
    "and brake amount.  If we stop within the time limit then we have a valid data point.\n",
    "The current position represents our stopping distance.\n",
    "\n",
    "We take advantage of having a controller model in 3 ways.\n",
    "1. Can run the simulations a lot faster.\n",
    "2. Can directly set velocity (used in step 1b)\n",
    "3. Don't have noise with measurements (helps a lot when velocity gets close to 0)\n",
    "\n",
    "NOTE: this specific method of data generation produces a couple biases.  Consider\n",
    "the following scenario.  The car is fairly far from the target brake point.  Further,\n",
    "it is not moving very fast.  Here you attempt to precision brake, but you might find\n",
    "the car stops too early Why might this type of data point not be captured by this\n",
    "generation method?  If you see how to fix this feel free to do so.  If not next\n",
    "lecture a supplementary notebook will be released detailing the few steps needed\n",
    "to do so.\n",
    "'''\n",
    "np.random.seed(114514)\n",
    "def stopping_distance_gen():\n",
    "  vel = np.random.random()\n",
    "  ci.velocity = vel\n",
    "  ci.zero_position()\n",
    "  t = 0\n",
    "  brake_amt = np.random.random()\n",
    "  while ci.velocity > 0:\n",
    "    if t >= 5 / ci.dt:\n",
    "      break\n",
    "    ci.apply_control(ci.BRAKE, brake_amt)\n",
    "    t += ci.dt\n",
    "  return brake_amt, [vel, ci.position]\n",
    "\n",
    "  "
   ]
  },
  {
   "cell_type": "code",
   "execution_count": 70,
   "metadata": {},
   "outputs": [
    {
     "output_type": "stream",
     "name": "stdout",
     "text": "A car moving at 68.78% speed, applied 67.62% brakes and stopped, after travelling 2.59 distance units\n"
    }
   ],
   "source": [
    "'''\n",
    "Displays a sample data point.  If this provides a reasonable \n",
    "output you probably did the previous part correctly.  \n",
    "'''\n",
    "amt, (initial_velocity, stopping_distance) = stopping_distance_gen()\n",
    "print(f\"A car moving at {initial_velocity * 100:.2f}% speed, applied {amt * 100:.2f}% brakes and stopped, after travelling {stopping_distance:.2f} distance units\")"
   ]
  },
  {
   "cell_type": "markdown",
   "metadata": {},
   "source": [
    "## Analytical Solution for 'Simple' Car Model"
   ]
  },
  {
   "cell_type": "markdown",
   "metadata": {},
   "source": [
    "IMPORTANT NOTE: When you have completed implementations of these two functions, paste their definitions into the corresponding locations (under the matching function headers) in braking_distance/bd_api.py.  This is what the simulator will actually interact with."
   ]
  },
  {
   "cell_type": "code",
   "execution_count": 71,
   "metadata": {},
   "outputs": [],
   "source": [
    "'''\n",
    "Write the analytical solution for the theoretical stopping distance.\n",
    "The equation is presented in the lecture slides (Slides 9-13)\n",
    "\n",
    "Some helpful reminders:\n",
    "    The linear model assumes: accel = c_1 * p_accel + c_2 * p_brake + c_3 * vel + c_4\n",
    "    c_1 = ci.accelerator_weight\n",
    "    c_2 = ci.brake_weight\n",
    "    c_3 = -ci.friction_constant\n",
    "    c_4 = ci.rolling_bias\n",
    "    (Where ci is the car interface you initialized above)\n",
    "\n",
    "Implemenation Instructions:\n",
    "1. Initialize x, f, and v0 from available information\n",
    "2. Check if the expression in Slide 13 would evaluate infinity, if so return float('inf')\n",
    "3. Otherwise return the stopping distance as calculated in Slide 3.\n",
    "\n",
    "NOTE: the stopping distance will be infinite when the brake amount is not enough to \n",
    "overcome the rolling bias.\n",
    "\n",
    "The only discrepancy between this and the actual stopping distance\n",
    "arises from the discretized nature of the simulation.  This is\n",
    "a precise calculation otherwise.\n",
    "\n",
    "IMPORTANT: After implementing this sucessfully paste the function body in \n",
    "the corresponding and marked location in braking_distance/bd_api.py (line 80)\n",
    "'''\n",
    "def simple_analytical_sd(initial_velocity, amt):\n",
    "  f, x = ci.friction_constant, ci.brake_weight * amt + ci.rolling_bias\n",
    "  v0 = initial_velocity\n",
    "  if ((1 - f * v0 / x) < 0):\n",
    "    return float(\"inf\")\n",
    "  return (1 / f) * (v0 + x / f * np.log(1  - f * v0 / x))\n",
    "\n",
    "'''\n",
    "Function takes as input the initial velocity and desired stopping distance.\n",
    "Then using binary search returns an estimate within the specified tolerance\n",
    "of the actual required brake amount.\n",
    "\n",
    "Parameters:\n",
    "inp: (initial velocity, desired stopping distance)\n",
    "tol: estimate tolerance \n",
    "min_amt: minumum possible value of the required brake amount (initially 0)\n",
    "max_amt: maximum possible value of the required brake amount (initially 1)\n",
    "\n",
    "\n",
    "Implemenation Instructions\n",
    "1.Initialize mid_amt as the midway point between min_amt and max_amt.\n",
    "2.If the length of the min max interval is less than twice the tolerance,\n",
    "  then mid_amt is a valid estimate (+/- the the tolerance of the actual)\n",
    "3a.Calculate the analytical stopping distance with the given initial velocity,\n",
    "   and current estimate (mid_amt).\n",
    " b.Update min_amt and max_amt accordingly to narrow the search space and recurse.\n",
    "   (NOTE: careful, if the stopping distance is too high is the mid_amt too high or low?)\n",
    "   \n",
    "IMPORTANT: After implementing this sucessefully paste the function body in the \n",
    "corresponding and marked location in braking_distance/bd_api.py (roughly line 90)\n",
    "'''\n",
    "def simple_analytical_approx(inp, tol = 1e-5, min_amt = 0, max_amt = 1):\n",
    "  mid_amt = (min_amt + max_amt) / 2\n",
    "  if (max_amt - min_amt) < 2 * tol:\n",
    "    return mid_amt\n",
    "  analytical_sd = simple_analytical_sd(inp[0], mid_amt)\n",
    "  if (analytical_sd < inp[1]):\n",
    "    return simple_analytical_approx(inp, tol, min_amt, mid_amt)\n",
    "  else:\n",
    "    return simple_analytical_approx(inp, tol, mid_amt, max_amt)\n",
    ""
   ]
  },
  {
   "cell_type": "code",
   "execution_count": 72,
   "metadata": {},
   "outputs": [],
   "source": [
    "'''\n",
    "Demonstrate the performance of the Analytical Equation Estimate\n",
    "with a few examples.  (The estimate is the \"Closed Form Brake Amount\").\n",
    "The simulated result and the closed form brake amount should be very close.\n",
    "The discrepancy is largest in extreme value cases where the discretization\n",
    "has a significant effect.\n",
    "'''\n",
    "if (MODE == 1):\n",
    "    for i in range(3):\n",
    "            amt, (initial_velocity, stopping_distance) = stopping_distance_gen()\n",
    "            pred = simple_analytical_approx((initial_velocity, stopping_distance))\n",
    "            print(f\"Car moving at {initial_velocity * 100:.2f}%; Target Stopping Distance {stopping_distance:.2f} distance units\")\n",
    "            print(f\"Simulation Brake Amount: {amt*100:.2f}%; Closed Form Brake Amount {pred*100:.2f}%\")\n",
    "            print()"
   ]
  },
  {
   "cell_type": "markdown",
   "metadata": {},
   "source": [
    "## FCN Training and Evaluation"
   ]
  },
  {
   "cell_type": "code",
   "execution_count": 73,
   "metadata": {},
   "outputs": [],
   "source": [
    "'''\n",
    "Initialize FCN.\n",
    "\n",
    "You will need to supply additional parameters to the\n",
    "initializer function. See utils/nn.py for documentation.\n",
    "See demos/week3/Nonlinear_SystemID for example usage.\n",
    "\n",
    "Hint 1: There are two additional parameters you need to specify\n",
    "Hint 2:  What are the inputs for this FCN?  What is the ouput?\n",
    "What are the reasonable possible outputs?\n",
    "\n",
    "NOTE: If this is your first time running this block it will \n",
    "randomly initialize a set of weights.  Afterwards by default,\n",
    "this will load weights you trained earlier.  If you would like\n",
    "to force the model to reinitialize weights, provide a third\n",
    "additional argument retrain = True. (see utils/nn.py for more)\n",
    "'''\n",
    "if (MODE == 0):\n",
    "    model = nn.fcn(model_name = \"../../braking_distance/\" + CAR_MODEL + \"_bd\", num_inputs=2)"
   ]
  },
  {
   "cell_type": "code",
   "execution_count": 74,
   "metadata": {
    "tags": [
     "outputPrepend",
     "outputPrepend",
     "outputPrepend",
     "outputPrepend",
     "outputPrepend",
     "outputPrepend",
     "outputPrepend",
     "outputPrepend",
     "outputPrepend",
     "outputPrepend",
     "outputPrepend",
     "outputPrepend",
     "outputPrepend",
     "outputPrepend",
     "outputPrepend",
     "outputPrepend",
     "outputPrepend",
     "outputPrepend",
     "outputPrepend",
     "outputPrepend",
     "outputPrepend",
     "outputPrepend",
     "outputPrepend",
     "outputPrepend",
     "outputPrepend",
     "outputPrepend",
     "outputPrepend",
     "outputPrepend",
     "outputPrepend",
     "outputPrepend",
     "outputPrepend",
     "outputPrepend",
     "outputPrepend",
     "outputPrepend",
     "outputPrepend",
     "outputPrepend",
     "outputPrepend",
     "outputPrepend",
     "outputPrepend",
     "outputPrepend",
     "outputPrepend",
     "outputPrepend",
     "outputPrepend",
     "outputPrepend",
     "outputPrepend",
     "outputPrepend",
     "outputPrepend",
     "outputPrepend",
     "outputPrepend",
     "outputPrepend",
     "outputPrepend",
     "outputPrepend",
     "outputPrepend",
     "outputPrepend",
     "outputPrepend",
     "outputPrepend",
     "outputPrepend",
     "outputPrepend",
     "outputPrepend",
     "outputPrepend",
     "outputPrepend",
     "outputPrepend",
     "outputPrepend",
     "outputPrepend",
     "outputPrepend",
     "outputPrepend",
     "outputPrepend",
     "outputPrepend",
     "outputPrepend",
     "outputPrepend",
     "outputPrepend",
     "outputPrepend",
     "outputPrepend",
     "outputPrepend",
     "outputPrepend",
     "outputPrepend",
     "outputPrepend",
     "outputPrepend",
     "outputPrepend",
     "outputPrepend",
     "outputPrepend",
     "outputPrepend",
     "outputPrepend",
     "outputPrepend",
     "outputPrepend",
     "outputPrepend",
     "outputPrepend",
     "outputPrepend",
     "outputPrepend",
     "outputPrepend",
     "outputPrepend",
     "outputPrepend",
     "outputPrepend",
     "outputPrepend",
     "outputPrepend",
     "outputPrepend",
     "outputPrepend",
     "outputPrepend",
     "outputPrepend",
     "outputPrepend",
     "outputPrepend",
     "outputPrepend",
     "outputPrepend",
     "outputPrepend",
     "outputPrepend",
     "outputPrepend",
     "outputPrepend",
     "outputPrepend",
     "outputPrepend",
     "outputPrepend",
     "outputPrepend",
     "outputPrepend",
     "outputPrepend",
     "outputPrepend",
     "outputPrepend",
     "outputPrepend",
     "outputPrepend",
     "outputPrepend",
     "outputPrepend",
     "outputPrepend",
     "outputPrepend",
     "outputPrepend",
     "outputPrepend",
     "outputPrepend",
     "outputPrepend",
     "outputPrepend",
     "outputPrepend",
     "outputPrepend",
     "outputPrepend",
     "outputPrepend",
     "outputPrepend",
     "outputPrepend",
     "outputPrepend",
     "outputPrepend",
     "outputPrepend",
     "outputPrepend",
     "outputPrepend",
     "outputPrepend",
     "outputPrepend",
     "outputPrepend",
     "outputPrepend",
     "outputPrepend",
     "outputPrepend",
     "outputPrepend",
     "outputPrepend",
     "outputPrepend",
     "outputPrepend",
     "outputPrepend",
     "outputPrepend",
     "outputPrepend",
     "outputPrepend",
     "outputPrepend"
    ]
   },
   "outputs": [
    {
     "output_type": "stream",
     "name": "stdout",
     "text": "0\nEPOCH 1 0.021382\nEPOCH 40 0.018210EPOCH 41 0.018989\nEPOCH 80 0.018062EPOCH 81 0.018707\nEPOCH 120 0.017934EPOCH 121 0.018043\nEPOCH 160 0.018282EPOCH 161 0.017500\n1\nEPOCH 1 0.021987\nEPOCH 40 0.021263EPOCH 41 0.020629\nEPOCH 80 0.021129EPOCH 81 0.020670\nEPOCH 120 0.020965EPOCH 121 0.020107\nEPOCH 160 0.019891EPOCH 161 0.020212\n2\nEPOCH 1 0.020875\nEPOCH 40 0.016903EPOCH 41 0.017475\nEPOCH 80 0.016683EPOCH 81 0.016032\nEPOCH 120 0.016670EPOCH 121 0.016516\nEPOCH 160 0.016574EPOCH 161 0.016628\n3\nEPOCH 1 0.016837\nEPOCH 40 0.014317EPOCH 41 0.014992\nEPOCH 80 0.014523EPOCH 81 0.015225\nEPOCH 120 0.014306EPOCH 121 0.014211\nEPOCH 160 0.014237EPOCH 161 0.013885\n4\nEPOCH 1 0.024042\nEPOCH 40 0.021222EPOCH 41 0.021385\nEPOCH 80 0.021431EPOCH 81 0.021477\nEPOCH 120 0.022725EPOCH 121 0.021147\nEPOCH 160 0.021223EPOCH 161 0.021260\nEPOCH 200 0.021244"
    }
   ],
   "source": [
    "'''\n",
    "Generate 1000 inputs and targets and train for 200 epochs on this\n",
    "generated data.  (Note you can run this blck a few times to train\n",
    "further).\n",
    "\n",
    "Implementation Instructions:\n",
    "1.Initialize two empty lists, inputs and targets.\n",
    "2a.Get a brake amount and and two dimensional input by calling\n",
    "   stopping_distance_gen()\n",
    " b.Append the input to the inputs list, and the brake amount to\n",
    "   the targets list.\n",
    " c.Repeat 2a and 2b 1000 times.\n",
    "3.Use the model.train method to train with this data for 200 epochs.\n",
    "  (See nn.py for function information)\n",
    "'''\n",
    "def train_nn():\n",
    "  if (MODE == 0):\n",
    "    inputs, targets = [], []\n",
    "    counter = 0\n",
    "    while counter < 1000:\n",
    "      amt, inp = stopping_distance_gen()\n",
    "      inputs.append(inp)\n",
    "      targets.append(amt)\n",
    "      counter += 1\n",
    "    model.train(inputs, targets, 200)\n",
    "\n",
    "# train_nn()\n",
    "for i in range(5):\n",
    "  print(i)\n",
    "  train_nn()\n",
    ""
   ]
  },
  {
   "cell_type": "code",
   "execution_count": 81,
   "metadata": {},
   "outputs": [
    {
     "output_type": "stream",
     "name": "stdout",
     "text": "INIT VEL: 0.616 TARG SD: 1.909 BRK AMT: 0.360 MODEL OUT:0.296 \nINIT VEL: 0.950 TARG SD: 3.530 BRK AMT: 0.224 MODEL OUT:0.327 \nINIT VEL: 0.998 TARG SD: 4.124 BRK AMT: 0.619 MODEL OUT:0.599 \n"
    }
   ],
   "source": [
    "'''\n",
    "Demonstrate the performance of the FCN brake amount estimator\n",
    "with a few examples.\n",
    "'''\n",
    "if (MODE == 0):\n",
    "    for i in range(3):\n",
    "        '''\n",
    "        Generate an example scenario complete with an initial velocity,\n",
    "        target stopping distance, and necessary brake amount.\n",
    "        \n",
    "        Then run your model on the appropriate input and record it's\n",
    "        predicted brake amount.\n",
    "        \n",
    "        Finally fill in the variable names you used in the blanks to output\n",
    "        the input, target, and output.\n",
    "        \n",
    "        Ideally the model ouput should be fairly close to the brake amount.\n",
    "        '''\n",
    "        amt, inp = stopping_distance_gen()\n",
    "        predication = model.predict(inp)\n",
    "        print(f\"INIT VEL: {inp[0]:.3f} TARG SD: {inp[1]:.3f} BRK AMT: {amt:.3f} MODEL OUT:{predication:.3f} \")"
   ]
  },
  {
   "cell_type": "code",
   "execution_count": 82,
   "metadata": {},
   "outputs": [
    {
     "output_type": "stream",
     "name": "stdout",
     "text": "WITHIN 0.1 247/300 times\nMEDIAN ERROR 0.0466\n"
    },
    {
     "output_type": "display_data",
     "data": {
      "text/plain": "<Figure size 432x288 with 1 Axes>",
      "image/svg+xml": "<?xml version=\"1.0\" encoding=\"utf-8\" standalone=\"no\"?>\r\n<!DOCTYPE svg PUBLIC \"-//W3C//DTD SVG 1.1//EN\"\r\n  \"http://www.w3.org/Graphics/SVG/1.1/DTD/svg11.dtd\">\r\n<!-- Created with matplotlib (https://matplotlib.org/) -->\r\n<svg height=\"263.63625pt\" version=\"1.1\" viewBox=\"0 0 368.925 263.63625\" width=\"368.925pt\" xmlns=\"http://www.w3.org/2000/svg\" xmlns:xlink=\"http://www.w3.org/1999/xlink\">\r\n <defs>\r\n  <style type=\"text/css\">\r\n*{stroke-linecap:butt;stroke-linejoin:round;}\r\n  </style>\r\n </defs>\r\n <g id=\"figure_1\">\r\n  <g id=\"patch_1\">\r\n   <path d=\"M -0 263.63625 \r\nL 368.925 263.63625 \r\nL 368.925 0 \r\nL -0 0 \r\nz\r\n\" style=\"fill:none;\"/>\r\n  </g>\r\n  <g id=\"axes_1\">\r\n   <g id=\"patch_2\">\r\n    <path d=\"M 26.925 239.758125 \r\nL 361.725 239.758125 \r\nL 361.725 22.318125 \r\nL 26.925 22.318125 \r\nz\r\n\" style=\"fill:#ffffff;\"/>\r\n   </g>\r\n   <g id=\"patch_3\">\r\n    <path clip-path=\"url(#p4e40bb5ef2)\" d=\"M 42.143182 239.758125 \r\nL 43.665 239.758125 \r\nL 43.665 239.758125 \r\nL 42.143182 239.758125 \r\nz\r\n\" style=\"fill:#1f77b4;\"/>\r\n   </g>\r\n   <g id=\"patch_4\">\r\n    <path clip-path=\"url(#p4e40bb5ef2)\" d=\"M 43.665 239.758125 \r\nL 45.186818 239.758125 \r\nL 45.186818 239.758125 \r\nL 43.665 239.758125 \r\nz\r\n\" style=\"fill:#1f77b4;\"/>\r\n   </g>\r\n   <g id=\"patch_5\">\r\n    <path clip-path=\"url(#p4e40bb5ef2)\" d=\"M 45.186818 239.758125 \r\nL 46.708636 239.758125 \r\nL 46.708636 239.758125 \r\nL 45.186818 239.758125 \r\nz\r\n\" style=\"fill:#1f77b4;\"/>\r\n   </g>\r\n   <g id=\"patch_6\">\r\n    <path clip-path=\"url(#p4e40bb5ef2)\" d=\"M 46.708636 239.758125 \r\nL 48.230455 239.758125 \r\nL 48.230455 239.758125 \r\nL 46.708636 239.758125 \r\nz\r\n\" style=\"fill:#1f77b4;\"/>\r\n   </g>\r\n   <g id=\"patch_7\">\r\n    <path clip-path=\"url(#p4e40bb5ef2)\" d=\"M 48.230455 239.758125 \r\nL 49.752273 239.758125 \r\nL 49.752273 239.758125 \r\nL 48.230455 239.758125 \r\nz\r\n\" style=\"fill:#1f77b4;\"/>\r\n   </g>\r\n   <g id=\"patch_8\">\r\n    <path clip-path=\"url(#p4e40bb5ef2)\" d=\"M 49.752273 239.758125 \r\nL 51.274091 239.758125 \r\nL 51.274091 239.758125 \r\nL 49.752273 239.758125 \r\nz\r\n\" style=\"fill:#1f77b4;\"/>\r\n   </g>\r\n   <g id=\"patch_9\">\r\n    <path clip-path=\"url(#p4e40bb5ef2)\" d=\"M 51.274091 239.758125 \r\nL 52.795909 239.758125 \r\nL 52.795909 239.758125 \r\nL 51.274091 239.758125 \r\nz\r\n\" style=\"fill:#1f77b4;\"/>\r\n   </g>\r\n   <g id=\"patch_10\">\r\n    <path clip-path=\"url(#p4e40bb5ef2)\" d=\"M 52.795909 239.758125 \r\nL 54.317727 239.758125 \r\nL 54.317727 239.758125 \r\nL 52.795909 239.758125 \r\nz\r\n\" style=\"fill:#1f77b4;\"/>\r\n   </g>\r\n   <g id=\"patch_11\">\r\n    <path clip-path=\"url(#p4e40bb5ef2)\" d=\"M 54.317727 239.758125 \r\nL 55.839545 239.758125 \r\nL 55.839545 239.758125 \r\nL 54.317727 239.758125 \r\nz\r\n\" style=\"fill:#1f77b4;\"/>\r\n   </g>\r\n   <g id=\"patch_12\">\r\n    <path clip-path=\"url(#p4e40bb5ef2)\" d=\"M 55.839545 239.758125 \r\nL 57.361364 239.758125 \r\nL 57.361364 239.758125 \r\nL 55.839545 239.758125 \r\nz\r\n\" style=\"fill:#1f77b4;\"/>\r\n   </g>\r\n   <g id=\"patch_13\">\r\n    <path clip-path=\"url(#p4e40bb5ef2)\" d=\"M 57.361364 239.758125 \r\nL 58.883182 239.758125 \r\nL 58.883182 239.758125 \r\nL 57.361364 239.758125 \r\nz\r\n\" style=\"fill:#1f77b4;\"/>\r\n   </g>\r\n   <g id=\"patch_14\">\r\n    <path clip-path=\"url(#p4e40bb5ef2)\" d=\"M 58.883182 239.758125 \r\nL 60.405 239.758125 \r\nL 60.405 239.758125 \r\nL 58.883182 239.758125 \r\nz\r\n\" style=\"fill:#1f77b4;\"/>\r\n   </g>\r\n   <g id=\"patch_15\">\r\n    <path clip-path=\"url(#p4e40bb5ef2)\" d=\"M 60.405 239.758125 \r\nL 61.926818 239.758125 \r\nL 61.926818 239.758125 \r\nL 60.405 239.758125 \r\nz\r\n\" style=\"fill:#1f77b4;\"/>\r\n   </g>\r\n   <g id=\"patch_16\">\r\n    <path clip-path=\"url(#p4e40bb5ef2)\" d=\"M 61.926818 239.758125 \r\nL 63.448636 239.758125 \r\nL 63.448636 239.758125 \r\nL 61.926818 239.758125 \r\nz\r\n\" style=\"fill:#1f77b4;\"/>\r\n   </g>\r\n   <g id=\"patch_17\">\r\n    <path clip-path=\"url(#p4e40bb5ef2)\" d=\"M 63.448636 239.758125 \r\nL 64.970455 239.758125 \r\nL 64.970455 239.758125 \r\nL 63.448636 239.758125 \r\nz\r\n\" style=\"fill:#1f77b4;\"/>\r\n   </g>\r\n   <g id=\"patch_18\">\r\n    <path clip-path=\"url(#p4e40bb5ef2)\" d=\"M 64.970455 239.758125 \r\nL 66.492273 239.758125 \r\nL 66.492273 239.758125 \r\nL 64.970455 239.758125 \r\nz\r\n\" style=\"fill:#1f77b4;\"/>\r\n   </g>\r\n   <g id=\"patch_19\">\r\n    <path clip-path=\"url(#p4e40bb5ef2)\" d=\"M 66.492273 239.758125 \r\nL 68.014091 239.758125 \r\nL 68.014091 239.758125 \r\nL 66.492273 239.758125 \r\nz\r\n\" style=\"fill:#1f77b4;\"/>\r\n   </g>\r\n   <g id=\"patch_20\">\r\n    <path clip-path=\"url(#p4e40bb5ef2)\" d=\"M 68.014091 239.758125 \r\nL 69.535909 239.758125 \r\nL 69.535909 239.758125 \r\nL 68.014091 239.758125 \r\nz\r\n\" style=\"fill:#1f77b4;\"/>\r\n   </g>\r\n   <g id=\"patch_21\">\r\n    <path clip-path=\"url(#p4e40bb5ef2)\" d=\"M 69.535909 239.758125 \r\nL 71.057727 239.758125 \r\nL 71.057727 239.758125 \r\nL 69.535909 239.758125 \r\nz\r\n\" style=\"fill:#1f77b4;\"/>\r\n   </g>\r\n   <g id=\"patch_22\">\r\n    <path clip-path=\"url(#p4e40bb5ef2)\" d=\"M 71.057727 239.758125 \r\nL 72.579545 239.758125 \r\nL 72.579545 239.758125 \r\nL 71.057727 239.758125 \r\nz\r\n\" style=\"fill:#1f77b4;\"/>\r\n   </g>\r\n   <g id=\"patch_23\">\r\n    <path clip-path=\"url(#p4e40bb5ef2)\" d=\"M 72.579545 239.758125 \r\nL 74.101364 239.758125 \r\nL 74.101364 239.758125 \r\nL 72.579545 239.758125 \r\nz\r\n\" style=\"fill:#1f77b4;\"/>\r\n   </g>\r\n   <g id=\"patch_24\">\r\n    <path clip-path=\"url(#p4e40bb5ef2)\" d=\"M 74.101364 239.758125 \r\nL 75.623182 239.758125 \r\nL 75.623182 239.758125 \r\nL 74.101364 239.758125 \r\nz\r\n\" style=\"fill:#1f77b4;\"/>\r\n   </g>\r\n   <g id=\"patch_25\">\r\n    <path clip-path=\"url(#p4e40bb5ef2)\" d=\"M 75.623182 239.758125 \r\nL 77.145 239.758125 \r\nL 77.145 239.758125 \r\nL 75.623182 239.758125 \r\nz\r\n\" style=\"fill:#1f77b4;\"/>\r\n   </g>\r\n   <g id=\"patch_26\">\r\n    <path clip-path=\"url(#p4e40bb5ef2)\" d=\"M 77.145 239.758125 \r\nL 78.666818 239.758125 \r\nL 78.666818 239.758125 \r\nL 77.145 239.758125 \r\nz\r\n\" style=\"fill:#1f77b4;\"/>\r\n   </g>\r\n   <g id=\"patch_27\">\r\n    <path clip-path=\"url(#p4e40bb5ef2)\" d=\"M 78.666818 239.758125 \r\nL 80.188636 239.758125 \r\nL 80.188636 239.758125 \r\nL 78.666818 239.758125 \r\nz\r\n\" style=\"fill:#1f77b4;\"/>\r\n   </g>\r\n   <g id=\"patch_28\">\r\n    <path clip-path=\"url(#p4e40bb5ef2)\" d=\"M 80.188636 239.758125 \r\nL 81.710455 239.758125 \r\nL 81.710455 239.758125 \r\nL 80.188636 239.758125 \r\nz\r\n\" style=\"fill:#1f77b4;\"/>\r\n   </g>\r\n   <g id=\"patch_29\">\r\n    <path clip-path=\"url(#p4e40bb5ef2)\" d=\"M 81.710455 239.758125 \r\nL 83.232273 239.758125 \r\nL 83.232273 239.758125 \r\nL 81.710455 239.758125 \r\nz\r\n\" style=\"fill:#1f77b4;\"/>\r\n   </g>\r\n   <g id=\"patch_30\">\r\n    <path clip-path=\"url(#p4e40bb5ef2)\" d=\"M 83.232273 239.758125 \r\nL 84.754091 239.758125 \r\nL 84.754091 239.758125 \r\nL 83.232273 239.758125 \r\nz\r\n\" style=\"fill:#1f77b4;\"/>\r\n   </g>\r\n   <g id=\"patch_31\">\r\n    <path clip-path=\"url(#p4e40bb5ef2)\" d=\"M 84.754091 239.758125 \r\nL 86.275909 239.758125 \r\nL 86.275909 239.758125 \r\nL 84.754091 239.758125 \r\nz\r\n\" style=\"fill:#1f77b4;\"/>\r\n   </g>\r\n   <g id=\"patch_32\">\r\n    <path clip-path=\"url(#p4e40bb5ef2)\" d=\"M 86.275909 239.758125 \r\nL 87.797727 239.758125 \r\nL 87.797727 239.758125 \r\nL 86.275909 239.758125 \r\nz\r\n\" style=\"fill:#1f77b4;\"/>\r\n   </g>\r\n   <g id=\"patch_33\">\r\n    <path clip-path=\"url(#p4e40bb5ef2)\" d=\"M 87.797727 239.758125 \r\nL 89.319545 239.758125 \r\nL 89.319545 239.758125 \r\nL 87.797727 239.758125 \r\nz\r\n\" style=\"fill:#1f77b4;\"/>\r\n   </g>\r\n   <g id=\"patch_34\">\r\n    <path clip-path=\"url(#p4e40bb5ef2)\" d=\"M 89.319545 239.758125 \r\nL 90.841364 239.758125 \r\nL 90.841364 239.758125 \r\nL 89.319545 239.758125 \r\nz\r\n\" style=\"fill:#1f77b4;\"/>\r\n   </g>\r\n   <g id=\"patch_35\">\r\n    <path clip-path=\"url(#p4e40bb5ef2)\" d=\"M 90.841364 239.758125 \r\nL 92.363182 239.758125 \r\nL 92.363182 239.758125 \r\nL 90.841364 239.758125 \r\nz\r\n\" style=\"fill:#1f77b4;\"/>\r\n   </g>\r\n   <g id=\"patch_36\">\r\n    <path clip-path=\"url(#p4e40bb5ef2)\" d=\"M 92.363182 239.758125 \r\nL 93.885 239.758125 \r\nL 93.885 239.758125 \r\nL 92.363182 239.758125 \r\nz\r\n\" style=\"fill:#1f77b4;\"/>\r\n   </g>\r\n   <g id=\"patch_37\">\r\n    <path clip-path=\"url(#p4e40bb5ef2)\" d=\"M 93.885 239.758125 \r\nL 95.406818 239.758125 \r\nL 95.406818 239.758125 \r\nL 93.885 239.758125 \r\nz\r\n\" style=\"fill:#1f77b4;\"/>\r\n   </g>\r\n   <g id=\"patch_38\">\r\n    <path clip-path=\"url(#p4e40bb5ef2)\" d=\"M 95.406818 239.758125 \r\nL 96.928636 239.758125 \r\nL 96.928636 239.758125 \r\nL 95.406818 239.758125 \r\nz\r\n\" style=\"fill:#1f77b4;\"/>\r\n   </g>\r\n   <g id=\"patch_39\">\r\n    <path clip-path=\"url(#p4e40bb5ef2)\" d=\"M 96.928636 239.758125 \r\nL 98.450455 239.758125 \r\nL 98.450455 239.758125 \r\nL 96.928636 239.758125 \r\nz\r\n\" style=\"fill:#1f77b4;\"/>\r\n   </g>\r\n   <g id=\"patch_40\">\r\n    <path clip-path=\"url(#p4e40bb5ef2)\" d=\"M 98.450455 239.758125 \r\nL 99.972273 239.758125 \r\nL 99.972273 239.758125 \r\nL 98.450455 239.758125 \r\nz\r\n\" style=\"fill:#1f77b4;\"/>\r\n   </g>\r\n   <g id=\"patch_41\">\r\n    <path clip-path=\"url(#p4e40bb5ef2)\" d=\"M 99.972273 239.758125 \r\nL 101.494091 239.758125 \r\nL 101.494091 239.758125 \r\nL 99.972273 239.758125 \r\nz\r\n\" style=\"fill:#1f77b4;\"/>\r\n   </g>\r\n   <g id=\"patch_42\">\r\n    <path clip-path=\"url(#p4e40bb5ef2)\" d=\"M 101.494091 239.758125 \r\nL 103.015909 239.758125 \r\nL 103.015909 239.758125 \r\nL 101.494091 239.758125 \r\nz\r\n\" style=\"fill:#1f77b4;\"/>\r\n   </g>\r\n   <g id=\"patch_43\">\r\n    <path clip-path=\"url(#p4e40bb5ef2)\" d=\"M 103.015909 239.758125 \r\nL 104.537727 239.758125 \r\nL 104.537727 239.758125 \r\nL 103.015909 239.758125 \r\nz\r\n\" style=\"fill:#1f77b4;\"/>\r\n   </g>\r\n   <g id=\"patch_44\">\r\n    <path clip-path=\"url(#p4e40bb5ef2)\" d=\"M 104.537727 239.758125 \r\nL 106.059545 239.758125 \r\nL 106.059545 239.758125 \r\nL 104.537727 239.758125 \r\nz\r\n\" style=\"fill:#1f77b4;\"/>\r\n   </g>\r\n   <g id=\"patch_45\">\r\n    <path clip-path=\"url(#p4e40bb5ef2)\" d=\"M 106.059545 239.758125 \r\nL 107.581364 239.758125 \r\nL 107.581364 239.758125 \r\nL 106.059545 239.758125 \r\nz\r\n\" style=\"fill:#1f77b4;\"/>\r\n   </g>\r\n   <g id=\"patch_46\">\r\n    <path clip-path=\"url(#p4e40bb5ef2)\" d=\"M 107.581364 239.758125 \r\nL 109.103182 239.758125 \r\nL 109.103182 239.758125 \r\nL 107.581364 239.758125 \r\nz\r\n\" style=\"fill:#1f77b4;\"/>\r\n   </g>\r\n   <g id=\"patch_47\">\r\n    <path clip-path=\"url(#p4e40bb5ef2)\" d=\"M 109.103182 239.758125 \r\nL 110.625 239.758125 \r\nL 110.625 239.758125 \r\nL 109.103182 239.758125 \r\nz\r\n\" style=\"fill:#1f77b4;\"/>\r\n   </g>\r\n   <g id=\"patch_48\">\r\n    <path clip-path=\"url(#p4e40bb5ef2)\" d=\"M 110.625 239.758125 \r\nL 112.146818 239.758125 \r\nL 112.146818 239.758125 \r\nL 110.625 239.758125 \r\nz\r\n\" style=\"fill:#1f77b4;\"/>\r\n   </g>\r\n   <g id=\"patch_49\">\r\n    <path clip-path=\"url(#p4e40bb5ef2)\" d=\"M 112.146818 239.758125 \r\nL 113.668636 239.758125 \r\nL 113.668636 239.758125 \r\nL 112.146818 239.758125 \r\nz\r\n\" style=\"fill:#1f77b4;\"/>\r\n   </g>\r\n   <g id=\"patch_50\">\r\n    <path clip-path=\"url(#p4e40bb5ef2)\" d=\"M 113.668636 239.758125 \r\nL 115.190455 239.758125 \r\nL 115.190455 239.758125 \r\nL 113.668636 239.758125 \r\nz\r\n\" style=\"fill:#1f77b4;\"/>\r\n   </g>\r\n   <g id=\"patch_51\">\r\n    <path clip-path=\"url(#p4e40bb5ef2)\" d=\"M 115.190455 239.758125 \r\nL 116.712273 239.758125 \r\nL 116.712273 239.758125 \r\nL 115.190455 239.758125 \r\nz\r\n\" style=\"fill:#1f77b4;\"/>\r\n   </g>\r\n   <g id=\"patch_52\">\r\n    <path clip-path=\"url(#p4e40bb5ef2)\" d=\"M 116.712273 239.758125 \r\nL 118.234091 239.758125 \r\nL 118.234091 239.758125 \r\nL 116.712273 239.758125 \r\nz\r\n\" style=\"fill:#1f77b4;\"/>\r\n   </g>\r\n   <g id=\"patch_53\">\r\n    <path clip-path=\"url(#p4e40bb5ef2)\" d=\"M 118.234091 239.758125 \r\nL 119.755909 239.758125 \r\nL 119.755909 239.758125 \r\nL 118.234091 239.758125 \r\nz\r\n\" style=\"fill:#1f77b4;\"/>\r\n   </g>\r\n   <g id=\"patch_54\">\r\n    <path clip-path=\"url(#p4e40bb5ef2)\" d=\"M 119.755909 239.758125 \r\nL 121.277727 239.758125 \r\nL 121.277727 239.758125 \r\nL 119.755909 239.758125 \r\nz\r\n\" style=\"fill:#1f77b4;\"/>\r\n   </g>\r\n   <g id=\"patch_55\">\r\n    <path clip-path=\"url(#p4e40bb5ef2)\" d=\"M 121.277727 239.758125 \r\nL 122.799545 239.758125 \r\nL 122.799545 239.758125 \r\nL 121.277727 239.758125 \r\nz\r\n\" style=\"fill:#1f77b4;\"/>\r\n   </g>\r\n   <g id=\"patch_56\">\r\n    <path clip-path=\"url(#p4e40bb5ef2)\" d=\"M 122.799545 239.758125 \r\nL 124.321364 239.758125 \r\nL 124.321364 239.758125 \r\nL 122.799545 239.758125 \r\nz\r\n\" style=\"fill:#1f77b4;\"/>\r\n   </g>\r\n   <g id=\"patch_57\">\r\n    <path clip-path=\"url(#p4e40bb5ef2)\" d=\"M 124.321364 239.758125 \r\nL 125.843182 239.758125 \r\nL 125.843182 239.758125 \r\nL 124.321364 239.758125 \r\nz\r\n\" style=\"fill:#1f77b4;\"/>\r\n   </g>\r\n   <g id=\"patch_58\">\r\n    <path clip-path=\"url(#p4e40bb5ef2)\" d=\"M 125.843182 239.758125 \r\nL 127.365 239.758125 \r\nL 127.365 239.758125 \r\nL 125.843182 239.758125 \r\nz\r\n\" style=\"fill:#1f77b4;\"/>\r\n   </g>\r\n   <g id=\"patch_59\">\r\n    <path clip-path=\"url(#p4e40bb5ef2)\" d=\"M 127.365 239.758125 \r\nL 128.886818 239.758125 \r\nL 128.886818 239.758125 \r\nL 127.365 239.758125 \r\nz\r\n\" style=\"fill:#1f77b4;\"/>\r\n   </g>\r\n   <g id=\"patch_60\">\r\n    <path clip-path=\"url(#p4e40bb5ef2)\" d=\"M 128.886818 239.758125 \r\nL 130.408636 239.758125 \r\nL 130.408636 239.758125 \r\nL 128.886818 239.758125 \r\nz\r\n\" style=\"fill:#1f77b4;\"/>\r\n   </g>\r\n   <g id=\"patch_61\">\r\n    <path clip-path=\"url(#p4e40bb5ef2)\" d=\"M 130.408636 239.758125 \r\nL 131.930455 239.758125 \r\nL 131.930455 232.088284 \r\nL 130.408636 232.088284 \r\nz\r\n\" style=\"fill:#1f77b4;\"/>\r\n   </g>\r\n   <g id=\"patch_62\">\r\n    <path clip-path=\"url(#p4e40bb5ef2)\" d=\"M 131.930455 239.758125 \r\nL 133.452273 239.758125 \r\nL 133.452273 239.758125 \r\nL 131.930455 239.758125 \r\nz\r\n\" style=\"fill:#1f77b4;\"/>\r\n   </g>\r\n   <g id=\"patch_63\">\r\n    <path clip-path=\"url(#p4e40bb5ef2)\" d=\"M 133.452273 239.758125 \r\nL 134.974091 239.758125 \r\nL 134.974091 239.758125 \r\nL 133.452273 239.758125 \r\nz\r\n\" style=\"fill:#1f77b4;\"/>\r\n   </g>\r\n   <g id=\"patch_64\">\r\n    <path clip-path=\"url(#p4e40bb5ef2)\" d=\"M 134.974091 239.758125 \r\nL 136.495909 239.758125 \r\nL 136.495909 239.758125 \r\nL 134.974091 239.758125 \r\nz\r\n\" style=\"fill:#1f77b4;\"/>\r\n   </g>\r\n   <g id=\"patch_65\">\r\n    <path clip-path=\"url(#p4e40bb5ef2)\" d=\"M 136.495909 239.758125 \r\nL 138.017727 239.758125 \r\nL 138.017727 239.758125 \r\nL 136.495909 239.758125 \r\nz\r\n\" style=\"fill:#1f77b4;\"/>\r\n   </g>\r\n   <g id=\"patch_66\">\r\n    <path clip-path=\"url(#p4e40bb5ef2)\" d=\"M 138.017727 239.758125 \r\nL 139.539545 239.758125 \r\nL 139.539545 239.758125 \r\nL 138.017727 239.758125 \r\nz\r\n\" style=\"fill:#1f77b4;\"/>\r\n   </g>\r\n   <g id=\"patch_67\">\r\n    <path clip-path=\"url(#p4e40bb5ef2)\" d=\"M 139.539545 239.758125 \r\nL 141.061364 239.758125 \r\nL 141.061364 239.758125 \r\nL 139.539545 239.758125 \r\nz\r\n\" style=\"fill:#1f77b4;\"/>\r\n   </g>\r\n   <g id=\"patch_68\">\r\n    <path clip-path=\"url(#p4e40bb5ef2)\" d=\"M 141.061364 239.758125 \r\nL 142.583182 239.758125 \r\nL 142.583182 239.758125 \r\nL 141.061364 239.758125 \r\nz\r\n\" style=\"fill:#1f77b4;\"/>\r\n   </g>\r\n   <g id=\"patch_69\">\r\n    <path clip-path=\"url(#p4e40bb5ef2)\" d=\"M 142.583182 239.758125 \r\nL 144.105 239.758125 \r\nL 144.105 232.088284 \r\nL 142.583182 232.088284 \r\nz\r\n\" style=\"fill:#1f77b4;\"/>\r\n   </g>\r\n   <g id=\"patch_70\">\r\n    <path clip-path=\"url(#p4e40bb5ef2)\" d=\"M 144.105 239.758125 \r\nL 145.626818 239.758125 \r\nL 145.626818 239.758125 \r\nL 144.105 239.758125 \r\nz\r\n\" style=\"fill:#1f77b4;\"/>\r\n   </g>\r\n   <g id=\"patch_71\">\r\n    <path clip-path=\"url(#p4e40bb5ef2)\" d=\"M 145.626818 239.758125 \r\nL 147.148636 239.758125 \r\nL 147.148636 239.758125 \r\nL 145.626818 239.758125 \r\nz\r\n\" style=\"fill:#1f77b4;\"/>\r\n   </g>\r\n   <g id=\"patch_72\">\r\n    <path clip-path=\"url(#p4e40bb5ef2)\" d=\"M 147.148636 239.758125 \r\nL 148.670455 239.758125 \r\nL 148.670455 239.758125 \r\nL 147.148636 239.758125 \r\nz\r\n\" style=\"fill:#1f77b4;\"/>\r\n   </g>\r\n   <g id=\"patch_73\">\r\n    <path clip-path=\"url(#p4e40bb5ef2)\" d=\"M 148.670455 239.758125 \r\nL 150.192273 239.758125 \r\nL 150.192273 239.758125 \r\nL 148.670455 239.758125 \r\nz\r\n\" style=\"fill:#1f77b4;\"/>\r\n   </g>\r\n   <g id=\"patch_74\">\r\n    <path clip-path=\"url(#p4e40bb5ef2)\" d=\"M 150.192273 239.758125 \r\nL 151.714091 239.758125 \r\nL 151.714091 232.088284 \r\nL 150.192273 232.088284 \r\nz\r\n\" style=\"fill:#1f77b4;\"/>\r\n   </g>\r\n   <g id=\"patch_75\">\r\n    <path clip-path=\"url(#p4e40bb5ef2)\" d=\"M 151.714091 239.758125 \r\nL 153.235909 239.758125 \r\nL 153.235909 239.758125 \r\nL 151.714091 239.758125 \r\nz\r\n\" style=\"fill:#1f77b4;\"/>\r\n   </g>\r\n   <g id=\"patch_76\">\r\n    <path clip-path=\"url(#p4e40bb5ef2)\" d=\"M 153.235909 239.758125 \r\nL 154.757727 239.758125 \r\nL 154.757727 239.758125 \r\nL 153.235909 239.758125 \r\nz\r\n\" style=\"fill:#1f77b4;\"/>\r\n   </g>\r\n   <g id=\"patch_77\">\r\n    <path clip-path=\"url(#p4e40bb5ef2)\" d=\"M 154.757727 239.758125 \r\nL 156.279545 239.758125 \r\nL 156.279545 239.758125 \r\nL 154.757727 239.758125 \r\nz\r\n\" style=\"fill:#1f77b4;\"/>\r\n   </g>\r\n   <g id=\"patch_78\">\r\n    <path clip-path=\"url(#p4e40bb5ef2)\" d=\"M 156.279545 239.758125 \r\nL 157.801364 239.758125 \r\nL 157.801364 232.088284 \r\nL 156.279545 232.088284 \r\nz\r\n\" style=\"fill:#1f77b4;\"/>\r\n   </g>\r\n   <g id=\"patch_79\">\r\n    <path clip-path=\"url(#p4e40bb5ef2)\" d=\"M 157.801364 239.758125 \r\nL 159.323182 239.758125 \r\nL 159.323182 239.758125 \r\nL 157.801364 239.758125 \r\nz\r\n\" style=\"fill:#1f77b4;\"/>\r\n   </g>\r\n   <g id=\"patch_80\">\r\n    <path clip-path=\"url(#p4e40bb5ef2)\" d=\"M 159.323182 239.758125 \r\nL 160.845 239.758125 \r\nL 160.845 239.758125 \r\nL 159.323182 239.758125 \r\nz\r\n\" style=\"fill:#1f77b4;\"/>\r\n   </g>\r\n   <g id=\"patch_81\">\r\n    <path clip-path=\"url(#p4e40bb5ef2)\" d=\"M 160.845 239.758125 \r\nL 162.366818 239.758125 \r\nL 162.366818 239.758125 \r\nL 160.845 239.758125 \r\nz\r\n\" style=\"fill:#1f77b4;\"/>\r\n   </g>\r\n   <g id=\"patch_82\">\r\n    <path clip-path=\"url(#p4e40bb5ef2)\" d=\"M 162.366818 239.758125 \r\nL 163.888636 239.758125 \r\nL 163.888636 239.758125 \r\nL 162.366818 239.758125 \r\nz\r\n\" style=\"fill:#1f77b4;\"/>\r\n   </g>\r\n   <g id=\"patch_83\">\r\n    <path clip-path=\"url(#p4e40bb5ef2)\" d=\"M 163.888636 239.758125 \r\nL 165.410455 239.758125 \r\nL 165.410455 239.758125 \r\nL 163.888636 239.758125 \r\nz\r\n\" style=\"fill:#1f77b4;\"/>\r\n   </g>\r\n   <g id=\"patch_84\">\r\n    <path clip-path=\"url(#p4e40bb5ef2)\" d=\"M 165.410455 239.758125 \r\nL 166.932273 239.758125 \r\nL 166.932273 239.758125 \r\nL 165.410455 239.758125 \r\nz\r\n\" style=\"fill:#1f77b4;\"/>\r\n   </g>\r\n   <g id=\"patch_85\">\r\n    <path clip-path=\"url(#p4e40bb5ef2)\" d=\"M 166.932273 239.758125 \r\nL 168.454091 239.758125 \r\nL 168.454091 232.088284 \r\nL 166.932273 232.088284 \r\nz\r\n\" style=\"fill:#1f77b4;\"/>\r\n   </g>\r\n   <g id=\"patch_86\">\r\n    <path clip-path=\"url(#p4e40bb5ef2)\" d=\"M 168.454091 239.758125 \r\nL 169.975909 239.758125 \r\nL 169.975909 224.418442 \r\nL 168.454091 224.418442 \r\nz\r\n\" style=\"fill:#1f77b4;\"/>\r\n   </g>\r\n   <g id=\"patch_87\">\r\n    <path clip-path=\"url(#p4e40bb5ef2)\" d=\"M 169.975909 239.758125 \r\nL 171.497727 239.758125 \r\nL 171.497727 232.088284 \r\nL 169.975909 232.088284 \r\nz\r\n\" style=\"fill:#1f77b4;\"/>\r\n   </g>\r\n   <g id=\"patch_88\">\r\n    <path clip-path=\"url(#p4e40bb5ef2)\" d=\"M 171.497727 239.758125 \r\nL 173.019545 239.758125 \r\nL 173.019545 232.088284 \r\nL 171.497727 232.088284 \r\nz\r\n\" style=\"fill:#1f77b4;\"/>\r\n   </g>\r\n   <g id=\"patch_89\">\r\n    <path clip-path=\"url(#p4e40bb5ef2)\" d=\"M 173.019545 239.758125 \r\nL 174.541364 239.758125 \r\nL 174.541364 232.088284 \r\nL 173.019545 232.088284 \r\nz\r\n\" style=\"fill:#1f77b4;\"/>\r\n   </g>\r\n   <g id=\"patch_90\">\r\n    <path clip-path=\"url(#p4e40bb5ef2)\" d=\"M 174.541364 239.758125 \r\nL 176.063182 239.758125 \r\nL 176.063182 224.418442 \r\nL 174.541364 224.418442 \r\nz\r\n\" style=\"fill:#1f77b4;\"/>\r\n   </g>\r\n   <g id=\"patch_91\">\r\n    <path clip-path=\"url(#p4e40bb5ef2)\" d=\"M 176.063182 239.758125 \r\nL 177.585 239.758125 \r\nL 177.585 232.088284 \r\nL 176.063182 232.088284 \r\nz\r\n\" style=\"fill:#1f77b4;\"/>\r\n   </g>\r\n   <g id=\"patch_92\">\r\n    <path clip-path=\"url(#p4e40bb5ef2)\" d=\"M 177.585 239.758125 \r\nL 179.106818 239.758125 \r\nL 179.106818 232.088284 \r\nL 177.585 232.088284 \r\nz\r\n\" style=\"fill:#1f77b4;\"/>\r\n   </g>\r\n   <g id=\"patch_93\">\r\n    <path clip-path=\"url(#p4e40bb5ef2)\" d=\"M 179.106818 239.758125 \r\nL 180.628636 239.758125 \r\nL 180.628636 224.418442 \r\nL 179.106818 224.418442 \r\nz\r\n\" style=\"fill:#1f77b4;\"/>\r\n   </g>\r\n   <g id=\"patch_94\">\r\n    <path clip-path=\"url(#p4e40bb5ef2)\" d=\"M 180.628636 239.758125 \r\nL 182.150455 239.758125 \r\nL 182.150455 201.408919 \r\nL 180.628636 201.408919 \r\nz\r\n\" style=\"fill:#1f77b4;\"/>\r\n   </g>\r\n   <g id=\"patch_95\">\r\n    <path clip-path=\"url(#p4e40bb5ef2)\" d=\"M 182.150455 239.758125 \r\nL 183.672273 239.758125 \r\nL 183.672273 140.050188 \r\nL 182.150455 140.050188 \r\nz\r\n\" style=\"fill:#1f77b4;\"/>\r\n   </g>\r\n   <g id=\"patch_96\">\r\n    <path clip-path=\"url(#p4e40bb5ef2)\" d=\"M 183.672273 239.758125 \r\nL 185.194091 239.758125 \r\nL 185.194091 155.389871 \r\nL 183.672273 155.389871 \r\nz\r\n\" style=\"fill:#1f77b4;\"/>\r\n   </g>\r\n   <g id=\"patch_97\">\r\n    <path clip-path=\"url(#p4e40bb5ef2)\" d=\"M 185.194091 239.758125 \r\nL 186.715909 239.758125 \r\nL 186.715909 124.710506 \r\nL 185.194091 124.710506 \r\nz\r\n\" style=\"fill:#1f77b4;\"/>\r\n   </g>\r\n   <g id=\"patch_98\">\r\n    <path clip-path=\"url(#p4e40bb5ef2)\" d=\"M 186.715909 239.758125 \r\nL 188.237727 239.758125 \r\nL 188.237727 86.3613 \r\nL 186.715909 86.3613 \r\nz\r\n\" style=\"fill:#1f77b4;\"/>\r\n   </g>\r\n   <g id=\"patch_99\">\r\n    <path clip-path=\"url(#p4e40bb5ef2)\" d=\"M 188.237727 239.758125 \r\nL 189.759545 239.758125 \r\nL 189.759545 32.672411 \r\nL 188.237727 32.672411 \r\nz\r\n\" style=\"fill:#1f77b4;\"/>\r\n   </g>\r\n   <g id=\"patch_100\">\r\n    <path clip-path=\"url(#p4e40bb5ef2)\" d=\"M 189.759545 239.758125 \r\nL 191.281364 239.758125 \r\nL 191.281364 94.031141 \r\nL 189.759545 94.031141 \r\nz\r\n\" style=\"fill:#1f77b4;\"/>\r\n   </g>\r\n   <g id=\"patch_101\">\r\n    <path clip-path=\"url(#p4e40bb5ef2)\" d=\"M 191.281364 239.758125 \r\nL 192.803182 239.758125 \r\nL 192.803182 163.059712 \r\nL 191.281364 163.059712 \r\nz\r\n\" style=\"fill:#1f77b4;\"/>\r\n   </g>\r\n   <g id=\"patch_102\">\r\n    <path clip-path=\"url(#p4e40bb5ef2)\" d=\"M 192.803182 239.758125 \r\nL 194.325 239.758125 \r\nL 194.325 109.370823 \r\nL 192.803182 109.370823 \r\nz\r\n\" style=\"fill:#1f77b4;\"/>\r\n   </g>\r\n   <g id=\"patch_103\">\r\n    <path clip-path=\"url(#p4e40bb5ef2)\" d=\"M 194.325 239.758125 \r\nL 195.846818 239.758125 \r\nL 195.846818 124.710506 \r\nL 194.325 124.710506 \r\nz\r\n\" style=\"fill:#1f77b4;\"/>\r\n   </g>\r\n   <g id=\"patch_104\">\r\n    <path clip-path=\"url(#p4e40bb5ef2)\" d=\"M 195.846818 239.758125 \r\nL 197.368636 239.758125 \r\nL 197.368636 109.370823 \r\nL 195.846818 109.370823 \r\nz\r\n\" style=\"fill:#1f77b4;\"/>\r\n   </g>\r\n   <g id=\"patch_105\">\r\n    <path clip-path=\"url(#p4e40bb5ef2)\" d=\"M 197.368636 239.758125 \r\nL 198.890455 239.758125 \r\nL 198.890455 124.710506 \r\nL 197.368636 124.710506 \r\nz\r\n\" style=\"fill:#1f77b4;\"/>\r\n   </g>\r\n   <g id=\"patch_106\">\r\n    <path clip-path=\"url(#p4e40bb5ef2)\" d=\"M 198.890455 239.758125 \r\nL 200.412273 239.758125 \r\nL 200.412273 140.050188 \r\nL 198.890455 140.050188 \r\nz\r\n\" style=\"fill:#1f77b4;\"/>\r\n   </g>\r\n   <g id=\"patch_107\">\r\n    <path clip-path=\"url(#p4e40bb5ef2)\" d=\"M 200.412273 239.758125 \r\nL 201.934091 239.758125 \r\nL 201.934091 155.389871 \r\nL 200.412273 155.389871 \r\nz\r\n\" style=\"fill:#1f77b4;\"/>\r\n   </g>\r\n   <g id=\"patch_108\">\r\n    <path clip-path=\"url(#p4e40bb5ef2)\" d=\"M 201.934091 239.758125 \r\nL 203.455909 239.758125 \r\nL 203.455909 178.399395 \r\nL 201.934091 178.399395 \r\nz\r\n\" style=\"fill:#1f77b4;\"/>\r\n   </g>\r\n   <g id=\"patch_109\">\r\n    <path clip-path=\"url(#p4e40bb5ef2)\" d=\"M 203.455909 239.758125 \r\nL 204.977727 239.758125 \r\nL 204.977727 170.729554 \r\nL 203.455909 170.729554 \r\nz\r\n\" style=\"fill:#1f77b4;\"/>\r\n   </g>\r\n   <g id=\"patch_110\">\r\n    <path clip-path=\"url(#p4e40bb5ef2)\" d=\"M 204.977727 239.758125 \r\nL 206.499545 239.758125 \r\nL 206.499545 193.739077 \r\nL 204.977727 193.739077 \r\nz\r\n\" style=\"fill:#1f77b4;\"/>\r\n   </g>\r\n   <g id=\"patch_111\">\r\n    <path clip-path=\"url(#p4e40bb5ef2)\" d=\"M 206.499545 239.758125 \r\nL 208.021364 239.758125 \r\nL 208.021364 186.069236 \r\nL 206.499545 186.069236 \r\nz\r\n\" style=\"fill:#1f77b4;\"/>\r\n   </g>\r\n   <g id=\"patch_112\">\r\n    <path clip-path=\"url(#p4e40bb5ef2)\" d=\"M 208.021364 239.758125 \r\nL 209.543182 239.758125 \r\nL 209.543182 186.069236 \r\nL 208.021364 186.069236 \r\nz\r\n\" style=\"fill:#1f77b4;\"/>\r\n   </g>\r\n   <g id=\"patch_113\">\r\n    <path clip-path=\"url(#p4e40bb5ef2)\" d=\"M 209.543182 239.758125 \r\nL 211.065 239.758125 \r\nL 211.065 232.088284 \r\nL 209.543182 232.088284 \r\nz\r\n\" style=\"fill:#1f77b4;\"/>\r\n   </g>\r\n   <g id=\"patch_114\">\r\n    <path clip-path=\"url(#p4e40bb5ef2)\" d=\"M 211.065 239.758125 \r\nL 212.586818 239.758125 \r\nL 212.586818 232.088284 \r\nL 211.065 232.088284 \r\nz\r\n\" style=\"fill:#1f77b4;\"/>\r\n   </g>\r\n   <g id=\"patch_115\">\r\n    <path clip-path=\"url(#p4e40bb5ef2)\" d=\"M 212.586818 239.758125 \r\nL 214.108636 239.758125 \r\nL 214.108636 232.088284 \r\nL 212.586818 232.088284 \r\nz\r\n\" style=\"fill:#1f77b4;\"/>\r\n   </g>\r\n   <g id=\"patch_116\">\r\n    <path clip-path=\"url(#p4e40bb5ef2)\" d=\"M 214.108636 239.758125 \r\nL 215.630455 239.758125 \r\nL 215.630455 224.418442 \r\nL 214.108636 224.418442 \r\nz\r\n\" style=\"fill:#1f77b4;\"/>\r\n   </g>\r\n   <g id=\"patch_117\">\r\n    <path clip-path=\"url(#p4e40bb5ef2)\" d=\"M 215.630455 239.758125 \r\nL 217.152273 239.758125 \r\nL 217.152273 232.088284 \r\nL 215.630455 232.088284 \r\nz\r\n\" style=\"fill:#1f77b4;\"/>\r\n   </g>\r\n   <g id=\"patch_118\">\r\n    <path clip-path=\"url(#p4e40bb5ef2)\" d=\"M 217.152273 239.758125 \r\nL 218.674091 239.758125 \r\nL 218.674091 239.758125 \r\nL 217.152273 239.758125 \r\nz\r\n\" style=\"fill:#1f77b4;\"/>\r\n   </g>\r\n   <g id=\"patch_119\">\r\n    <path clip-path=\"url(#p4e40bb5ef2)\" d=\"M 218.674091 239.758125 \r\nL 220.195909 239.758125 \r\nL 220.195909 209.07876 \r\nL 218.674091 209.07876 \r\nz\r\n\" style=\"fill:#1f77b4;\"/>\r\n   </g>\r\n   <g id=\"patch_120\">\r\n    <path clip-path=\"url(#p4e40bb5ef2)\" d=\"M 220.195909 239.758125 \r\nL 221.717727 239.758125 \r\nL 221.717727 239.758125 \r\nL 220.195909 239.758125 \r\nz\r\n\" style=\"fill:#1f77b4;\"/>\r\n   </g>\r\n   <g id=\"patch_121\">\r\n    <path clip-path=\"url(#p4e40bb5ef2)\" d=\"M 221.717727 239.758125 \r\nL 223.239545 239.758125 \r\nL 223.239545 232.088284 \r\nL 221.717727 232.088284 \r\nz\r\n\" style=\"fill:#1f77b4;\"/>\r\n   </g>\r\n   <g id=\"patch_122\">\r\n    <path clip-path=\"url(#p4e40bb5ef2)\" d=\"M 223.239545 239.758125 \r\nL 224.761364 239.758125 \r\nL 224.761364 232.088284 \r\nL 223.239545 232.088284 \r\nz\r\n\" style=\"fill:#1f77b4;\"/>\r\n   </g>\r\n   <g id=\"patch_123\">\r\n    <path clip-path=\"url(#p4e40bb5ef2)\" d=\"M 224.761364 239.758125 \r\nL 226.283182 239.758125 \r\nL 226.283182 239.758125 \r\nL 224.761364 239.758125 \r\nz\r\n\" style=\"fill:#1f77b4;\"/>\r\n   </g>\r\n   <g id=\"patch_124\">\r\n    <path clip-path=\"url(#p4e40bb5ef2)\" d=\"M 226.283182 239.758125 \r\nL 227.805 239.758125 \r\nL 227.805 239.758125 \r\nL 226.283182 239.758125 \r\nz\r\n\" style=\"fill:#1f77b4;\"/>\r\n   </g>\r\n   <g id=\"patch_125\">\r\n    <path clip-path=\"url(#p4e40bb5ef2)\" d=\"M 227.805 239.758125 \r\nL 229.326818 239.758125 \r\nL 229.326818 224.418442 \r\nL 227.805 224.418442 \r\nz\r\n\" style=\"fill:#1f77b4;\"/>\r\n   </g>\r\n   <g id=\"patch_126\">\r\n    <path clip-path=\"url(#p4e40bb5ef2)\" d=\"M 229.326818 239.758125 \r\nL 230.848636 239.758125 \r\nL 230.848636 224.418442 \r\nL 229.326818 224.418442 \r\nz\r\n\" style=\"fill:#1f77b4;\"/>\r\n   </g>\r\n   <g id=\"patch_127\">\r\n    <path clip-path=\"url(#p4e40bb5ef2)\" d=\"M 230.848636 239.758125 \r\nL 232.370455 239.758125 \r\nL 232.370455 224.418442 \r\nL 230.848636 224.418442 \r\nz\r\n\" style=\"fill:#1f77b4;\"/>\r\n   </g>\r\n   <g id=\"patch_128\">\r\n    <path clip-path=\"url(#p4e40bb5ef2)\" d=\"M 232.370455 239.758125 \r\nL 233.892273 239.758125 \r\nL 233.892273 239.758125 \r\nL 232.370455 239.758125 \r\nz\r\n\" style=\"fill:#1f77b4;\"/>\r\n   </g>\r\n   <g id=\"patch_129\">\r\n    <path clip-path=\"url(#p4e40bb5ef2)\" d=\"M 233.892273 239.758125 \r\nL 235.414091 239.758125 \r\nL 235.414091 232.088284 \r\nL 233.892273 232.088284 \r\nz\r\n\" style=\"fill:#1f77b4;\"/>\r\n   </g>\r\n   <g id=\"patch_130\">\r\n    <path clip-path=\"url(#p4e40bb5ef2)\" d=\"M 235.414091 239.758125 \r\nL 236.935909 239.758125 \r\nL 236.935909 232.088284 \r\nL 235.414091 232.088284 \r\nz\r\n\" style=\"fill:#1f77b4;\"/>\r\n   </g>\r\n   <g id=\"patch_131\">\r\n    <path clip-path=\"url(#p4e40bb5ef2)\" d=\"M 236.935909 239.758125 \r\nL 238.457727 239.758125 \r\nL 238.457727 232.088284 \r\nL 236.935909 232.088284 \r\nz\r\n\" style=\"fill:#1f77b4;\"/>\r\n   </g>\r\n   <g id=\"patch_132\">\r\n    <path clip-path=\"url(#p4e40bb5ef2)\" d=\"M 238.457727 239.758125 \r\nL 239.979545 239.758125 \r\nL 239.979545 224.418442 \r\nL 238.457727 224.418442 \r\nz\r\n\" style=\"fill:#1f77b4;\"/>\r\n   </g>\r\n   <g id=\"patch_133\">\r\n    <path clip-path=\"url(#p4e40bb5ef2)\" d=\"M 239.979545 239.758125 \r\nL 241.501364 239.758125 \r\nL 241.501364 232.088284 \r\nL 239.979545 232.088284 \r\nz\r\n\" style=\"fill:#1f77b4;\"/>\r\n   </g>\r\n   <g id=\"patch_134\">\r\n    <path clip-path=\"url(#p4e40bb5ef2)\" d=\"M 241.501364 239.758125 \r\nL 243.023182 239.758125 \r\nL 243.023182 232.088284 \r\nL 241.501364 232.088284 \r\nz\r\n\" style=\"fill:#1f77b4;\"/>\r\n   </g>\r\n   <g id=\"patch_135\">\r\n    <path clip-path=\"url(#p4e40bb5ef2)\" d=\"M 243.023182 239.758125 \r\nL 244.545 239.758125 \r\nL 244.545 232.088284 \r\nL 243.023182 232.088284 \r\nz\r\n\" style=\"fill:#1f77b4;\"/>\r\n   </g>\r\n   <g id=\"patch_136\">\r\n    <path clip-path=\"url(#p4e40bb5ef2)\" d=\"M 244.545 239.758125 \r\nL 246.066818 239.758125 \r\nL 246.066818 239.758125 \r\nL 244.545 239.758125 \r\nz\r\n\" style=\"fill:#1f77b4;\"/>\r\n   </g>\r\n   <g id=\"patch_137\">\r\n    <path clip-path=\"url(#p4e40bb5ef2)\" d=\"M 246.066818 239.758125 \r\nL 247.588636 239.758125 \r\nL 247.588636 239.758125 \r\nL 246.066818 239.758125 \r\nz\r\n\" style=\"fill:#1f77b4;\"/>\r\n   </g>\r\n   <g id=\"patch_138\">\r\n    <path clip-path=\"url(#p4e40bb5ef2)\" d=\"M 247.588636 239.758125 \r\nL 249.110455 239.758125 \r\nL 249.110455 239.758125 \r\nL 247.588636 239.758125 \r\nz\r\n\" style=\"fill:#1f77b4;\"/>\r\n   </g>\r\n   <g id=\"patch_139\">\r\n    <path clip-path=\"url(#p4e40bb5ef2)\" d=\"M 249.110455 239.758125 \r\nL 250.632273 239.758125 \r\nL 250.632273 239.758125 \r\nL 249.110455 239.758125 \r\nz\r\n\" style=\"fill:#1f77b4;\"/>\r\n   </g>\r\n   <g id=\"patch_140\">\r\n    <path clip-path=\"url(#p4e40bb5ef2)\" d=\"M 250.632273 239.758125 \r\nL 252.154091 239.758125 \r\nL 252.154091 239.758125 \r\nL 250.632273 239.758125 \r\nz\r\n\" style=\"fill:#1f77b4;\"/>\r\n   </g>\r\n   <g id=\"patch_141\">\r\n    <path clip-path=\"url(#p4e40bb5ef2)\" d=\"M 252.154091 239.758125 \r\nL 253.675909 239.758125 \r\nL 253.675909 232.088284 \r\nL 252.154091 232.088284 \r\nz\r\n\" style=\"fill:#1f77b4;\"/>\r\n   </g>\r\n   <g id=\"patch_142\">\r\n    <path clip-path=\"url(#p4e40bb5ef2)\" d=\"M 253.675909 239.758125 \r\nL 255.197727 239.758125 \r\nL 255.197727 224.418442 \r\nL 253.675909 224.418442 \r\nz\r\n\" style=\"fill:#1f77b4;\"/>\r\n   </g>\r\n   <g id=\"patch_143\">\r\n    <path clip-path=\"url(#p4e40bb5ef2)\" d=\"M 255.197727 239.758125 \r\nL 256.719545 239.758125 \r\nL 256.719545 232.088284 \r\nL 255.197727 232.088284 \r\nz\r\n\" style=\"fill:#1f77b4;\"/>\r\n   </g>\r\n   <g id=\"patch_144\">\r\n    <path clip-path=\"url(#p4e40bb5ef2)\" d=\"M 256.719545 239.758125 \r\nL 258.241364 239.758125 \r\nL 258.241364 239.758125 \r\nL 256.719545 239.758125 \r\nz\r\n\" style=\"fill:#1f77b4;\"/>\r\n   </g>\r\n   <g id=\"patch_145\">\r\n    <path clip-path=\"url(#p4e40bb5ef2)\" d=\"M 258.241364 239.758125 \r\nL 259.763182 239.758125 \r\nL 259.763182 239.758125 \r\nL 258.241364 239.758125 \r\nz\r\n\" style=\"fill:#1f77b4;\"/>\r\n   </g>\r\n   <g id=\"patch_146\">\r\n    <path clip-path=\"url(#p4e40bb5ef2)\" d=\"M 259.763182 239.758125 \r\nL 261.285 239.758125 \r\nL 261.285 239.758125 \r\nL 259.763182 239.758125 \r\nz\r\n\" style=\"fill:#1f77b4;\"/>\r\n   </g>\r\n   <g id=\"patch_147\">\r\n    <path clip-path=\"url(#p4e40bb5ef2)\" d=\"M 261.285 239.758125 \r\nL 262.806818 239.758125 \r\nL 262.806818 224.418442 \r\nL 261.285 224.418442 \r\nz\r\n\" style=\"fill:#1f77b4;\"/>\r\n   </g>\r\n   <g id=\"patch_148\">\r\n    <path clip-path=\"url(#p4e40bb5ef2)\" d=\"M 262.806818 239.758125 \r\nL 264.328636 239.758125 \r\nL 264.328636 239.758125 \r\nL 262.806818 239.758125 \r\nz\r\n\" style=\"fill:#1f77b4;\"/>\r\n   </g>\r\n   <g id=\"patch_149\">\r\n    <path clip-path=\"url(#p4e40bb5ef2)\" d=\"M 264.328636 239.758125 \r\nL 265.850455 239.758125 \r\nL 265.850455 239.758125 \r\nL 264.328636 239.758125 \r\nz\r\n\" style=\"fill:#1f77b4;\"/>\r\n   </g>\r\n   <g id=\"patch_150\">\r\n    <path clip-path=\"url(#p4e40bb5ef2)\" d=\"M 265.850455 239.758125 \r\nL 267.372273 239.758125 \r\nL 267.372273 232.088284 \r\nL 265.850455 232.088284 \r\nz\r\n\" style=\"fill:#1f77b4;\"/>\r\n   </g>\r\n   <g id=\"patch_151\">\r\n    <path clip-path=\"url(#p4e40bb5ef2)\" d=\"M 267.372273 239.758125 \r\nL 268.894091 239.758125 \r\nL 268.894091 239.758125 \r\nL 267.372273 239.758125 \r\nz\r\n\" style=\"fill:#1f77b4;\"/>\r\n   </g>\r\n   <g id=\"patch_152\">\r\n    <path clip-path=\"url(#p4e40bb5ef2)\" d=\"M 268.894091 239.758125 \r\nL 270.415909 239.758125 \r\nL 270.415909 239.758125 \r\nL 268.894091 239.758125 \r\nz\r\n\" style=\"fill:#1f77b4;\"/>\r\n   </g>\r\n   <g id=\"patch_153\">\r\n    <path clip-path=\"url(#p4e40bb5ef2)\" d=\"M 270.415909 239.758125 \r\nL 271.937727 239.758125 \r\nL 271.937727 239.758125 \r\nL 270.415909 239.758125 \r\nz\r\n\" style=\"fill:#1f77b4;\"/>\r\n   </g>\r\n   <g id=\"patch_154\">\r\n    <path clip-path=\"url(#p4e40bb5ef2)\" d=\"M 271.937727 239.758125 \r\nL 273.459545 239.758125 \r\nL 273.459545 224.418442 \r\nL 271.937727 224.418442 \r\nz\r\n\" style=\"fill:#1f77b4;\"/>\r\n   </g>\r\n   <g id=\"patch_155\">\r\n    <path clip-path=\"url(#p4e40bb5ef2)\" d=\"M 273.459545 239.758125 \r\nL 274.981364 239.758125 \r\nL 274.981364 239.758125 \r\nL 273.459545 239.758125 \r\nz\r\n\" style=\"fill:#1f77b4;\"/>\r\n   </g>\r\n   <g id=\"patch_156\">\r\n    <path clip-path=\"url(#p4e40bb5ef2)\" d=\"M 274.981364 239.758125 \r\nL 276.503182 239.758125 \r\nL 276.503182 239.758125 \r\nL 274.981364 239.758125 \r\nz\r\n\" style=\"fill:#1f77b4;\"/>\r\n   </g>\r\n   <g id=\"patch_157\">\r\n    <path clip-path=\"url(#p4e40bb5ef2)\" d=\"M 276.503182 239.758125 \r\nL 278.025 239.758125 \r\nL 278.025 239.758125 \r\nL 276.503182 239.758125 \r\nz\r\n\" style=\"fill:#1f77b4;\"/>\r\n   </g>\r\n   <g id=\"patch_158\">\r\n    <path clip-path=\"url(#p4e40bb5ef2)\" d=\"M 278.025 239.758125 \r\nL 279.546818 239.758125 \r\nL 279.546818 239.758125 \r\nL 278.025 239.758125 \r\nz\r\n\" style=\"fill:#1f77b4;\"/>\r\n   </g>\r\n   <g id=\"patch_159\">\r\n    <path clip-path=\"url(#p4e40bb5ef2)\" d=\"M 279.546818 239.758125 \r\nL 281.068636 239.758125 \r\nL 281.068636 239.758125 \r\nL 279.546818 239.758125 \r\nz\r\n\" style=\"fill:#1f77b4;\"/>\r\n   </g>\r\n   <g id=\"patch_160\">\r\n    <path clip-path=\"url(#p4e40bb5ef2)\" d=\"M 281.068636 239.758125 \r\nL 282.590455 239.758125 \r\nL 282.590455 239.758125 \r\nL 281.068636 239.758125 \r\nz\r\n\" style=\"fill:#1f77b4;\"/>\r\n   </g>\r\n   <g id=\"patch_161\">\r\n    <path clip-path=\"url(#p4e40bb5ef2)\" d=\"M 282.590455 239.758125 \r\nL 284.112273 239.758125 \r\nL 284.112273 232.088284 \r\nL 282.590455 232.088284 \r\nz\r\n\" style=\"fill:#1f77b4;\"/>\r\n   </g>\r\n   <g id=\"patch_162\">\r\n    <path clip-path=\"url(#p4e40bb5ef2)\" d=\"M 284.112273 239.758125 \r\nL 285.634091 239.758125 \r\nL 285.634091 239.758125 \r\nL 284.112273 239.758125 \r\nz\r\n\" style=\"fill:#1f77b4;\"/>\r\n   </g>\r\n   <g id=\"patch_163\">\r\n    <path clip-path=\"url(#p4e40bb5ef2)\" d=\"M 285.634091 239.758125 \r\nL 287.155909 239.758125 \r\nL 287.155909 239.758125 \r\nL 285.634091 239.758125 \r\nz\r\n\" style=\"fill:#1f77b4;\"/>\r\n   </g>\r\n   <g id=\"patch_164\">\r\n    <path clip-path=\"url(#p4e40bb5ef2)\" d=\"M 287.155909 239.758125 \r\nL 288.677727 239.758125 \r\nL 288.677727 239.758125 \r\nL 287.155909 239.758125 \r\nz\r\n\" style=\"fill:#1f77b4;\"/>\r\n   </g>\r\n   <g id=\"patch_165\">\r\n    <path clip-path=\"url(#p4e40bb5ef2)\" d=\"M 288.677727 239.758125 \r\nL 290.199545 239.758125 \r\nL 290.199545 239.758125 \r\nL 288.677727 239.758125 \r\nz\r\n\" style=\"fill:#1f77b4;\"/>\r\n   </g>\r\n   <g id=\"patch_166\">\r\n    <path clip-path=\"url(#p4e40bb5ef2)\" d=\"M 290.199545 239.758125 \r\nL 291.721364 239.758125 \r\nL 291.721364 239.758125 \r\nL 290.199545 239.758125 \r\nz\r\n\" style=\"fill:#1f77b4;\"/>\r\n   </g>\r\n   <g id=\"patch_167\">\r\n    <path clip-path=\"url(#p4e40bb5ef2)\" d=\"M 291.721364 239.758125 \r\nL 293.243182 239.758125 \r\nL 293.243182 239.758125 \r\nL 291.721364 239.758125 \r\nz\r\n\" style=\"fill:#1f77b4;\"/>\r\n   </g>\r\n   <g id=\"patch_168\">\r\n    <path clip-path=\"url(#p4e40bb5ef2)\" d=\"M 293.243182 239.758125 \r\nL 294.765 239.758125 \r\nL 294.765 239.758125 \r\nL 293.243182 239.758125 \r\nz\r\n\" style=\"fill:#1f77b4;\"/>\r\n   </g>\r\n   <g id=\"patch_169\">\r\n    <path clip-path=\"url(#p4e40bb5ef2)\" d=\"M 294.765 239.758125 \r\nL 296.286818 239.758125 \r\nL 296.286818 239.758125 \r\nL 294.765 239.758125 \r\nz\r\n\" style=\"fill:#1f77b4;\"/>\r\n   </g>\r\n   <g id=\"patch_170\">\r\n    <path clip-path=\"url(#p4e40bb5ef2)\" d=\"M 296.286818 239.758125 \r\nL 297.808636 239.758125 \r\nL 297.808636 239.758125 \r\nL 296.286818 239.758125 \r\nz\r\n\" style=\"fill:#1f77b4;\"/>\r\n   </g>\r\n   <g id=\"patch_171\">\r\n    <path clip-path=\"url(#p4e40bb5ef2)\" d=\"M 297.808636 239.758125 \r\nL 299.330455 239.758125 \r\nL 299.330455 239.758125 \r\nL 297.808636 239.758125 \r\nz\r\n\" style=\"fill:#1f77b4;\"/>\r\n   </g>\r\n   <g id=\"patch_172\">\r\n    <path clip-path=\"url(#p4e40bb5ef2)\" d=\"M 299.330455 239.758125 \r\nL 300.852273 239.758125 \r\nL 300.852273 239.758125 \r\nL 299.330455 239.758125 \r\nz\r\n\" style=\"fill:#1f77b4;\"/>\r\n   </g>\r\n   <g id=\"patch_173\">\r\n    <path clip-path=\"url(#p4e40bb5ef2)\" d=\"M 300.852273 239.758125 \r\nL 302.374091 239.758125 \r\nL 302.374091 239.758125 \r\nL 300.852273 239.758125 \r\nz\r\n\" style=\"fill:#1f77b4;\"/>\r\n   </g>\r\n   <g id=\"patch_174\">\r\n    <path clip-path=\"url(#p4e40bb5ef2)\" d=\"M 302.374091 239.758125 \r\nL 303.895909 239.758125 \r\nL 303.895909 239.758125 \r\nL 302.374091 239.758125 \r\nz\r\n\" style=\"fill:#1f77b4;\"/>\r\n   </g>\r\n   <g id=\"patch_175\">\r\n    <path clip-path=\"url(#p4e40bb5ef2)\" d=\"M 303.895909 239.758125 \r\nL 305.417727 239.758125 \r\nL 305.417727 239.758125 \r\nL 303.895909 239.758125 \r\nz\r\n\" style=\"fill:#1f77b4;\"/>\r\n   </g>\r\n   <g id=\"patch_176\">\r\n    <path clip-path=\"url(#p4e40bb5ef2)\" d=\"M 305.417727 239.758125 \r\nL 306.939545 239.758125 \r\nL 306.939545 224.418442 \r\nL 305.417727 224.418442 \r\nz\r\n\" style=\"fill:#1f77b4;\"/>\r\n   </g>\r\n   <g id=\"patch_177\">\r\n    <path clip-path=\"url(#p4e40bb5ef2)\" d=\"M 306.939545 239.758125 \r\nL 308.461364 239.758125 \r\nL 308.461364 239.758125 \r\nL 306.939545 239.758125 \r\nz\r\n\" style=\"fill:#1f77b4;\"/>\r\n   </g>\r\n   <g id=\"patch_178\">\r\n    <path clip-path=\"url(#p4e40bb5ef2)\" d=\"M 308.461364 239.758125 \r\nL 309.983182 239.758125 \r\nL 309.983182 239.758125 \r\nL 308.461364 239.758125 \r\nz\r\n\" style=\"fill:#1f77b4;\"/>\r\n   </g>\r\n   <g id=\"patch_179\">\r\n    <path clip-path=\"url(#p4e40bb5ef2)\" d=\"M 309.983182 239.758125 \r\nL 311.505 239.758125 \r\nL 311.505 232.088284 \r\nL 309.983182 232.088284 \r\nz\r\n\" style=\"fill:#1f77b4;\"/>\r\n   </g>\r\n   <g id=\"patch_180\">\r\n    <path clip-path=\"url(#p4e40bb5ef2)\" d=\"M 311.505 239.758125 \r\nL 313.026818 239.758125 \r\nL 313.026818 239.758125 \r\nL 311.505 239.758125 \r\nz\r\n\" style=\"fill:#1f77b4;\"/>\r\n   </g>\r\n   <g id=\"patch_181\">\r\n    <path clip-path=\"url(#p4e40bb5ef2)\" d=\"M 313.026818 239.758125 \r\nL 314.548636 239.758125 \r\nL 314.548636 239.758125 \r\nL 313.026818 239.758125 \r\nz\r\n\" style=\"fill:#1f77b4;\"/>\r\n   </g>\r\n   <g id=\"patch_182\">\r\n    <path clip-path=\"url(#p4e40bb5ef2)\" d=\"M 314.548636 239.758125 \r\nL 316.070455 239.758125 \r\nL 316.070455 239.758125 \r\nL 314.548636 239.758125 \r\nz\r\n\" style=\"fill:#1f77b4;\"/>\r\n   </g>\r\n   <g id=\"patch_183\">\r\n    <path clip-path=\"url(#p4e40bb5ef2)\" d=\"M 316.070455 239.758125 \r\nL 317.592273 239.758125 \r\nL 317.592273 239.758125 \r\nL 316.070455 239.758125 \r\nz\r\n\" style=\"fill:#1f77b4;\"/>\r\n   </g>\r\n   <g id=\"patch_184\">\r\n    <path clip-path=\"url(#p4e40bb5ef2)\" d=\"M 317.592273 239.758125 \r\nL 319.114091 239.758125 \r\nL 319.114091 239.758125 \r\nL 317.592273 239.758125 \r\nz\r\n\" style=\"fill:#1f77b4;\"/>\r\n   </g>\r\n   <g id=\"patch_185\">\r\n    <path clip-path=\"url(#p4e40bb5ef2)\" d=\"M 319.114091 239.758125 \r\nL 320.635909 239.758125 \r\nL 320.635909 239.758125 \r\nL 319.114091 239.758125 \r\nz\r\n\" style=\"fill:#1f77b4;\"/>\r\n   </g>\r\n   <g id=\"patch_186\">\r\n    <path clip-path=\"url(#p4e40bb5ef2)\" d=\"M 320.635909 239.758125 \r\nL 322.157727 239.758125 \r\nL 322.157727 239.758125 \r\nL 320.635909 239.758125 \r\nz\r\n\" style=\"fill:#1f77b4;\"/>\r\n   </g>\r\n   <g id=\"patch_187\">\r\n    <path clip-path=\"url(#p4e40bb5ef2)\" d=\"M 322.157727 239.758125 \r\nL 323.679545 239.758125 \r\nL 323.679545 239.758125 \r\nL 322.157727 239.758125 \r\nz\r\n\" style=\"fill:#1f77b4;\"/>\r\n   </g>\r\n   <g id=\"patch_188\">\r\n    <path clip-path=\"url(#p4e40bb5ef2)\" d=\"M 323.679545 239.758125 \r\nL 325.201364 239.758125 \r\nL 325.201364 239.758125 \r\nL 323.679545 239.758125 \r\nz\r\n\" style=\"fill:#1f77b4;\"/>\r\n   </g>\r\n   <g id=\"patch_189\">\r\n    <path clip-path=\"url(#p4e40bb5ef2)\" d=\"M 325.201364 239.758125 \r\nL 326.723182 239.758125 \r\nL 326.723182 239.758125 \r\nL 325.201364 239.758125 \r\nz\r\n\" style=\"fill:#1f77b4;\"/>\r\n   </g>\r\n   <g id=\"patch_190\">\r\n    <path clip-path=\"url(#p4e40bb5ef2)\" d=\"M 326.723182 239.758125 \r\nL 328.245 239.758125 \r\nL 328.245 239.758125 \r\nL 326.723182 239.758125 \r\nz\r\n\" style=\"fill:#1f77b4;\"/>\r\n   </g>\r\n   <g id=\"patch_191\">\r\n    <path clip-path=\"url(#p4e40bb5ef2)\" d=\"M 328.245 239.758125 \r\nL 329.766818 239.758125 \r\nL 329.766818 239.758125 \r\nL 328.245 239.758125 \r\nz\r\n\" style=\"fill:#1f77b4;\"/>\r\n   </g>\r\n   <g id=\"patch_192\">\r\n    <path clip-path=\"url(#p4e40bb5ef2)\" d=\"M 329.766818 239.758125 \r\nL 331.288636 239.758125 \r\nL 331.288636 239.758125 \r\nL 329.766818 239.758125 \r\nz\r\n\" style=\"fill:#1f77b4;\"/>\r\n   </g>\r\n   <g id=\"patch_193\">\r\n    <path clip-path=\"url(#p4e40bb5ef2)\" d=\"M 331.288636 239.758125 \r\nL 332.810455 239.758125 \r\nL 332.810455 239.758125 \r\nL 331.288636 239.758125 \r\nz\r\n\" style=\"fill:#1f77b4;\"/>\r\n   </g>\r\n   <g id=\"patch_194\">\r\n    <path clip-path=\"url(#p4e40bb5ef2)\" d=\"M 332.810455 239.758125 \r\nL 334.332273 239.758125 \r\nL 334.332273 239.758125 \r\nL 332.810455 239.758125 \r\nz\r\n\" style=\"fill:#1f77b4;\"/>\r\n   </g>\r\n   <g id=\"patch_195\">\r\n    <path clip-path=\"url(#p4e40bb5ef2)\" d=\"M 334.332273 239.758125 \r\nL 335.854091 239.758125 \r\nL 335.854091 239.758125 \r\nL 334.332273 239.758125 \r\nz\r\n\" style=\"fill:#1f77b4;\"/>\r\n   </g>\r\n   <g id=\"patch_196\">\r\n    <path clip-path=\"url(#p4e40bb5ef2)\" d=\"M 335.854091 239.758125 \r\nL 337.375909 239.758125 \r\nL 337.375909 239.758125 \r\nL 335.854091 239.758125 \r\nz\r\n\" style=\"fill:#1f77b4;\"/>\r\n   </g>\r\n   <g id=\"patch_197\">\r\n    <path clip-path=\"url(#p4e40bb5ef2)\" d=\"M 337.375909 239.758125 \r\nL 338.897727 239.758125 \r\nL 338.897727 239.758125 \r\nL 337.375909 239.758125 \r\nz\r\n\" style=\"fill:#1f77b4;\"/>\r\n   </g>\r\n   <g id=\"patch_198\">\r\n    <path clip-path=\"url(#p4e40bb5ef2)\" d=\"M 338.897727 239.758125 \r\nL 340.419545 239.758125 \r\nL 340.419545 239.758125 \r\nL 338.897727 239.758125 \r\nz\r\n\" style=\"fill:#1f77b4;\"/>\r\n   </g>\r\n   <g id=\"patch_199\">\r\n    <path clip-path=\"url(#p4e40bb5ef2)\" d=\"M 340.419545 239.758125 \r\nL 341.941364 239.758125 \r\nL 341.941364 239.758125 \r\nL 340.419545 239.758125 \r\nz\r\n\" style=\"fill:#1f77b4;\"/>\r\n   </g>\r\n   <g id=\"patch_200\">\r\n    <path clip-path=\"url(#p4e40bb5ef2)\" d=\"M 341.941364 239.758125 \r\nL 343.463182 239.758125 \r\nL 343.463182 239.758125 \r\nL 341.941364 239.758125 \r\nz\r\n\" style=\"fill:#1f77b4;\"/>\r\n   </g>\r\n   <g id=\"patch_201\">\r\n    <path clip-path=\"url(#p4e40bb5ef2)\" d=\"M 343.463182 239.758125 \r\nL 344.985 239.758125 \r\nL 344.985 239.758125 \r\nL 343.463182 239.758125 \r\nz\r\n\" style=\"fill:#1f77b4;\"/>\r\n   </g>\r\n   <g id=\"patch_202\">\r\n    <path clip-path=\"url(#p4e40bb5ef2)\" d=\"M 344.985 239.758125 \r\nL 346.506818 239.758125 \r\nL 346.506818 239.758125 \r\nL 344.985 239.758125 \r\nz\r\n\" style=\"fill:#1f77b4;\"/>\r\n   </g>\r\n   <g id=\"matplotlib.axis_1\">\r\n    <g id=\"xtick_1\">\r\n     <g id=\"line2d_1\">\r\n      <defs>\r\n       <path d=\"M 0 0 \r\nL 0 3.5 \r\n\" id=\"m840065f865\" style=\"stroke:#000000;stroke-width:0.8;\"/>\r\n      </defs>\r\n      <g>\r\n       <use style=\"stroke:#000000;stroke-width:0.8;\" x=\"42.143182\" xlink:href=\"#m840065f865\" y=\"239.758125\"/>\r\n      </g>\r\n     </g>\r\n     <g id=\"text_1\">\r\n      <!-- −1.00 -->\r\n      <defs>\r\n       <path d=\"M 10.59375 35.5 \r\nL 73.1875 35.5 \r\nL 73.1875 27.203125 \r\nL 10.59375 27.203125 \r\nz\r\n\" id=\"DejaVuSans-8722\"/>\r\n       <path d=\"M 12.40625 8.296875 \r\nL 28.515625 8.296875 \r\nL 28.515625 63.921875 \r\nL 10.984375 60.40625 \r\nL 10.984375 69.390625 \r\nL 28.421875 72.90625 \r\nL 38.28125 72.90625 \r\nL 38.28125 8.296875 \r\nL 54.390625 8.296875 \r\nL 54.390625 0 \r\nL 12.40625 0 \r\nz\r\n\" id=\"DejaVuSans-49\"/>\r\n       <path d=\"M 10.6875 12.40625 \r\nL 21 12.40625 \r\nL 21 0 \r\nL 10.6875 0 \r\nz\r\n\" id=\"DejaVuSans-46\"/>\r\n       <path d=\"M 31.78125 66.40625 \r\nQ 24.171875 66.40625 20.328125 58.90625 \r\nQ 16.5 51.421875 16.5 36.375 \r\nQ 16.5 21.390625 20.328125 13.890625 \r\nQ 24.171875 6.390625 31.78125 6.390625 \r\nQ 39.453125 6.390625 43.28125 13.890625 \r\nQ 47.125 21.390625 47.125 36.375 \r\nQ 47.125 51.421875 43.28125 58.90625 \r\nQ 39.453125 66.40625 31.78125 66.40625 \r\nz\r\nM 31.78125 74.21875 \r\nQ 44.046875 74.21875 50.515625 64.515625 \r\nQ 56.984375 54.828125 56.984375 36.375 \r\nQ 56.984375 17.96875 50.515625 8.265625 \r\nQ 44.046875 -1.421875 31.78125 -1.421875 \r\nQ 19.53125 -1.421875 13.0625 8.265625 \r\nQ 6.59375 17.96875 6.59375 36.375 \r\nQ 6.59375 54.828125 13.0625 64.515625 \r\nQ 19.53125 74.21875 31.78125 74.21875 \r\nz\r\n\" id=\"DejaVuSans-48\"/>\r\n      </defs>\r\n      <g transform=\"translate(26.820526 254.356563)scale(0.1 -0.1)\">\r\n       <use xlink:href=\"#DejaVuSans-8722\"/>\r\n       <use x=\"83.789062\" xlink:href=\"#DejaVuSans-49\"/>\r\n       <use x=\"147.412109\" xlink:href=\"#DejaVuSans-46\"/>\r\n       <use x=\"179.199219\" xlink:href=\"#DejaVuSans-48\"/>\r\n       <use x=\"242.822266\" xlink:href=\"#DejaVuSans-48\"/>\r\n      </g>\r\n     </g>\r\n    </g>\r\n    <g id=\"xtick_2\">\r\n     <g id=\"line2d_2\">\r\n      <g>\r\n       <use style=\"stroke:#000000;stroke-width:0.8;\" x=\"80.188636\" xlink:href=\"#m840065f865\" y=\"239.758125\"/>\r\n      </g>\r\n     </g>\r\n     <g id=\"text_2\">\r\n      <!-- −0.75 -->\r\n      <defs>\r\n       <path d=\"M 8.203125 72.90625 \r\nL 55.078125 72.90625 \r\nL 55.078125 68.703125 \r\nL 28.609375 0 \r\nL 18.3125 0 \r\nL 43.21875 64.59375 \r\nL 8.203125 64.59375 \r\nz\r\n\" id=\"DejaVuSans-55\"/>\r\n       <path d=\"M 10.796875 72.90625 \r\nL 49.515625 72.90625 \r\nL 49.515625 64.59375 \r\nL 19.828125 64.59375 \r\nL 19.828125 46.734375 \r\nQ 21.96875 47.46875 24.109375 47.828125 \r\nQ 26.265625 48.1875 28.421875 48.1875 \r\nQ 40.625 48.1875 47.75 41.5 \r\nQ 54.890625 34.8125 54.890625 23.390625 \r\nQ 54.890625 11.625 47.5625 5.09375 \r\nQ 40.234375 -1.421875 26.90625 -1.421875 \r\nQ 22.3125 -1.421875 17.546875 -0.640625 \r\nQ 12.796875 0.140625 7.71875 1.703125 \r\nL 7.71875 11.625 \r\nQ 12.109375 9.234375 16.796875 8.0625 \r\nQ 21.484375 6.890625 26.703125 6.890625 \r\nQ 35.15625 6.890625 40.078125 11.328125 \r\nQ 45.015625 15.765625 45.015625 23.390625 \r\nQ 45.015625 31 40.078125 35.4375 \r\nQ 35.15625 39.890625 26.703125 39.890625 \r\nQ 22.75 39.890625 18.8125 39.015625 \r\nQ 14.890625 38.140625 10.796875 36.28125 \r\nz\r\n\" id=\"DejaVuSans-53\"/>\r\n      </defs>\r\n      <g transform=\"translate(64.86598 254.356563)scale(0.1 -0.1)\">\r\n       <use xlink:href=\"#DejaVuSans-8722\"/>\r\n       <use x=\"83.789062\" xlink:href=\"#DejaVuSans-48\"/>\r\n       <use x=\"147.412109\" xlink:href=\"#DejaVuSans-46\"/>\r\n       <use x=\"179.199219\" xlink:href=\"#DejaVuSans-55\"/>\r\n       <use x=\"242.822266\" xlink:href=\"#DejaVuSans-53\"/>\r\n      </g>\r\n     </g>\r\n    </g>\r\n    <g id=\"xtick_3\">\r\n     <g id=\"line2d_3\">\r\n      <g>\r\n       <use style=\"stroke:#000000;stroke-width:0.8;\" x=\"118.234091\" xlink:href=\"#m840065f865\" y=\"239.758125\"/>\r\n      </g>\r\n     </g>\r\n     <g id=\"text_3\">\r\n      <!-- −0.50 -->\r\n      <g transform=\"translate(102.911435 254.356563)scale(0.1 -0.1)\">\r\n       <use xlink:href=\"#DejaVuSans-8722\"/>\r\n       <use x=\"83.789062\" xlink:href=\"#DejaVuSans-48\"/>\r\n       <use x=\"147.412109\" xlink:href=\"#DejaVuSans-46\"/>\r\n       <use x=\"179.199219\" xlink:href=\"#DejaVuSans-53\"/>\r\n       <use x=\"242.822266\" xlink:href=\"#DejaVuSans-48\"/>\r\n      </g>\r\n     </g>\r\n    </g>\r\n    <g id=\"xtick_4\">\r\n     <g id=\"line2d_4\">\r\n      <g>\r\n       <use style=\"stroke:#000000;stroke-width:0.8;\" x=\"156.279545\" xlink:href=\"#m840065f865\" y=\"239.758125\"/>\r\n      </g>\r\n     </g>\r\n     <g id=\"text_4\">\r\n      <!-- −0.25 -->\r\n      <defs>\r\n       <path d=\"M 19.1875 8.296875 \r\nL 53.609375 8.296875 \r\nL 53.609375 0 \r\nL 7.328125 0 \r\nL 7.328125 8.296875 \r\nQ 12.9375 14.109375 22.625 23.890625 \r\nQ 32.328125 33.6875 34.8125 36.53125 \r\nQ 39.546875 41.84375 41.421875 45.53125 \r\nQ 43.3125 49.21875 43.3125 52.78125 \r\nQ 43.3125 58.59375 39.234375 62.25 \r\nQ 35.15625 65.921875 28.609375 65.921875 \r\nQ 23.96875 65.921875 18.8125 64.3125 \r\nQ 13.671875 62.703125 7.8125 59.421875 \r\nL 7.8125 69.390625 \r\nQ 13.765625 71.78125 18.9375 73 \r\nQ 24.125 74.21875 28.421875 74.21875 \r\nQ 39.75 74.21875 46.484375 68.546875 \r\nQ 53.21875 62.890625 53.21875 53.421875 \r\nQ 53.21875 48.921875 51.53125 44.890625 \r\nQ 49.859375 40.875 45.40625 35.40625 \r\nQ 44.1875 33.984375 37.640625 27.21875 \r\nQ 31.109375 20.453125 19.1875 8.296875 \r\nz\r\n\" id=\"DejaVuSans-50\"/>\r\n      </defs>\r\n      <g transform=\"translate(140.956889 254.356563)scale(0.1 -0.1)\">\r\n       <use xlink:href=\"#DejaVuSans-8722\"/>\r\n       <use x=\"83.789062\" xlink:href=\"#DejaVuSans-48\"/>\r\n       <use x=\"147.412109\" xlink:href=\"#DejaVuSans-46\"/>\r\n       <use x=\"179.199219\" xlink:href=\"#DejaVuSans-50\"/>\r\n       <use x=\"242.822266\" xlink:href=\"#DejaVuSans-53\"/>\r\n      </g>\r\n     </g>\r\n    </g>\r\n    <g id=\"xtick_5\">\r\n     <g id=\"line2d_5\">\r\n      <g>\r\n       <use style=\"stroke:#000000;stroke-width:0.8;\" x=\"194.325\" xlink:href=\"#m840065f865\" y=\"239.758125\"/>\r\n      </g>\r\n     </g>\r\n     <g id=\"text_5\">\r\n      <!-- 0.00 -->\r\n      <g transform=\"translate(183.192188 254.356563)scale(0.1 -0.1)\">\r\n       <use xlink:href=\"#DejaVuSans-48\"/>\r\n       <use x=\"63.623047\" xlink:href=\"#DejaVuSans-46\"/>\r\n       <use x=\"95.410156\" xlink:href=\"#DejaVuSans-48\"/>\r\n       <use x=\"159.033203\" xlink:href=\"#DejaVuSans-48\"/>\r\n      </g>\r\n     </g>\r\n    </g>\r\n    <g id=\"xtick_6\">\r\n     <g id=\"line2d_6\">\r\n      <g>\r\n       <use style=\"stroke:#000000;stroke-width:0.8;\" x=\"232.370455\" xlink:href=\"#m840065f865\" y=\"239.758125\"/>\r\n      </g>\r\n     </g>\r\n     <g id=\"text_6\">\r\n      <!-- 0.25 -->\r\n      <g transform=\"translate(221.237642 254.356563)scale(0.1 -0.1)\">\r\n       <use xlink:href=\"#DejaVuSans-48\"/>\r\n       <use x=\"63.623047\" xlink:href=\"#DejaVuSans-46\"/>\r\n       <use x=\"95.410156\" xlink:href=\"#DejaVuSans-50\"/>\r\n       <use x=\"159.033203\" xlink:href=\"#DejaVuSans-53\"/>\r\n      </g>\r\n     </g>\r\n    </g>\r\n    <g id=\"xtick_7\">\r\n     <g id=\"line2d_7\">\r\n      <g>\r\n       <use style=\"stroke:#000000;stroke-width:0.8;\" x=\"270.415909\" xlink:href=\"#m840065f865\" y=\"239.758125\"/>\r\n      </g>\r\n     </g>\r\n     <g id=\"text_7\">\r\n      <!-- 0.50 -->\r\n      <g transform=\"translate(259.283097 254.356563)scale(0.1 -0.1)\">\r\n       <use xlink:href=\"#DejaVuSans-48\"/>\r\n       <use x=\"63.623047\" xlink:href=\"#DejaVuSans-46\"/>\r\n       <use x=\"95.410156\" xlink:href=\"#DejaVuSans-53\"/>\r\n       <use x=\"159.033203\" xlink:href=\"#DejaVuSans-48\"/>\r\n      </g>\r\n     </g>\r\n    </g>\r\n    <g id=\"xtick_8\">\r\n     <g id=\"line2d_8\">\r\n      <g>\r\n       <use style=\"stroke:#000000;stroke-width:0.8;\" x=\"308.461364\" xlink:href=\"#m840065f865\" y=\"239.758125\"/>\r\n      </g>\r\n     </g>\r\n     <g id=\"text_8\">\r\n      <!-- 0.75 -->\r\n      <g transform=\"translate(297.328551 254.356563)scale(0.1 -0.1)\">\r\n       <use xlink:href=\"#DejaVuSans-48\"/>\r\n       <use x=\"63.623047\" xlink:href=\"#DejaVuSans-46\"/>\r\n       <use x=\"95.410156\" xlink:href=\"#DejaVuSans-55\"/>\r\n       <use x=\"159.033203\" xlink:href=\"#DejaVuSans-53\"/>\r\n      </g>\r\n     </g>\r\n    </g>\r\n    <g id=\"xtick_9\">\r\n     <g id=\"line2d_9\">\r\n      <g>\r\n       <use style=\"stroke:#000000;stroke-width:0.8;\" x=\"346.506818\" xlink:href=\"#m840065f865\" y=\"239.758125\"/>\r\n      </g>\r\n     </g>\r\n     <g id=\"text_9\">\r\n      <!-- 1.00 -->\r\n      <g transform=\"translate(335.374006 254.356563)scale(0.1 -0.1)\">\r\n       <use xlink:href=\"#DejaVuSans-49\"/>\r\n       <use x=\"63.623047\" xlink:href=\"#DejaVuSans-46\"/>\r\n       <use x=\"95.410156\" xlink:href=\"#DejaVuSans-48\"/>\r\n       <use x=\"159.033203\" xlink:href=\"#DejaVuSans-48\"/>\r\n      </g>\r\n     </g>\r\n    </g>\r\n   </g>\r\n   <g id=\"matplotlib.axis_2\">\r\n    <g id=\"ytick_1\">\r\n     <g id=\"line2d_10\">\r\n      <defs>\r\n       <path d=\"M 0 0 \r\nL -3.5 0 \r\n\" id=\"mc765339ec0\" style=\"stroke:#000000;stroke-width:0.8;\"/>\r\n      </defs>\r\n      <g>\r\n       <use style=\"stroke:#000000;stroke-width:0.8;\" x=\"26.925\" xlink:href=\"#mc765339ec0\" y=\"239.758125\"/>\r\n      </g>\r\n     </g>\r\n     <g id=\"text_10\">\r\n      <!-- 0 -->\r\n      <g transform=\"translate(13.5625 243.557344)scale(0.1 -0.1)\">\r\n       <use xlink:href=\"#DejaVuSans-48\"/>\r\n      </g>\r\n     </g>\r\n    </g>\r\n    <g id=\"ytick_2\">\r\n     <g id=\"line2d_11\">\r\n      <g>\r\n       <use style=\"stroke:#000000;stroke-width:0.8;\" x=\"26.925\" xlink:href=\"#mc765339ec0\" y=\"201.408919\"/>\r\n      </g>\r\n     </g>\r\n     <g id=\"text_11\">\r\n      <!-- 5 -->\r\n      <g transform=\"translate(13.5625 205.208137)scale(0.1 -0.1)\">\r\n       <use xlink:href=\"#DejaVuSans-53\"/>\r\n      </g>\r\n     </g>\r\n    </g>\r\n    <g id=\"ytick_3\">\r\n     <g id=\"line2d_12\">\r\n      <g>\r\n       <use style=\"stroke:#000000;stroke-width:0.8;\" x=\"26.925\" xlink:href=\"#mc765339ec0\" y=\"163.059712\"/>\r\n      </g>\r\n     </g>\r\n     <g id=\"text_12\">\r\n      <!-- 10 -->\r\n      <g transform=\"translate(7.2 166.858931)scale(0.1 -0.1)\">\r\n       <use xlink:href=\"#DejaVuSans-49\"/>\r\n       <use x=\"63.623047\" xlink:href=\"#DejaVuSans-48\"/>\r\n      </g>\r\n     </g>\r\n    </g>\r\n    <g id=\"ytick_4\">\r\n     <g id=\"line2d_13\">\r\n      <g>\r\n       <use style=\"stroke:#000000;stroke-width:0.8;\" x=\"26.925\" xlink:href=\"#mc765339ec0\" y=\"124.710506\"/>\r\n      </g>\r\n     </g>\r\n     <g id=\"text_13\">\r\n      <!-- 15 -->\r\n      <g transform=\"translate(7.2 128.509725)scale(0.1 -0.1)\">\r\n       <use xlink:href=\"#DejaVuSans-49\"/>\r\n       <use x=\"63.623047\" xlink:href=\"#DejaVuSans-53\"/>\r\n      </g>\r\n     </g>\r\n    </g>\r\n    <g id=\"ytick_5\">\r\n     <g id=\"line2d_14\">\r\n      <g>\r\n       <use style=\"stroke:#000000;stroke-width:0.8;\" x=\"26.925\" xlink:href=\"#mc765339ec0\" y=\"86.3613\"/>\r\n      </g>\r\n     </g>\r\n     <g id=\"text_14\">\r\n      <!-- 20 -->\r\n      <g transform=\"translate(7.2 90.160518)scale(0.1 -0.1)\">\r\n       <use xlink:href=\"#DejaVuSans-50\"/>\r\n       <use x=\"63.623047\" xlink:href=\"#DejaVuSans-48\"/>\r\n      </g>\r\n     </g>\r\n    </g>\r\n    <g id=\"ytick_6\">\r\n     <g id=\"line2d_15\">\r\n      <g>\r\n       <use style=\"stroke:#000000;stroke-width:0.8;\" x=\"26.925\" xlink:href=\"#mc765339ec0\" y=\"48.012093\"/>\r\n      </g>\r\n     </g>\r\n     <g id=\"text_15\">\r\n      <!-- 25 -->\r\n      <g transform=\"translate(7.2 51.811312)scale(0.1 -0.1)\">\r\n       <use xlink:href=\"#DejaVuSans-50\"/>\r\n       <use x=\"63.623047\" xlink:href=\"#DejaVuSans-53\"/>\r\n      </g>\r\n     </g>\r\n    </g>\r\n   </g>\r\n   <g id=\"patch_203\">\r\n    <path d=\"M 26.925 239.758125 \r\nL 26.925 22.318125 \r\n\" style=\"fill:none;stroke:#000000;stroke-linecap:square;stroke-linejoin:miter;stroke-width:0.8;\"/>\r\n   </g>\r\n   <g id=\"patch_204\">\r\n    <path d=\"M 361.725 239.758125 \r\nL 361.725 22.318125 \r\n\" style=\"fill:none;stroke:#000000;stroke-linecap:square;stroke-linejoin:miter;stroke-width:0.8;\"/>\r\n   </g>\r\n   <g id=\"patch_205\">\r\n    <path d=\"M 26.925 239.758125 \r\nL 361.725 239.758125 \r\n\" style=\"fill:none;stroke:#000000;stroke-linecap:square;stroke-linejoin:miter;stroke-width:0.8;\"/>\r\n   </g>\r\n   <g id=\"patch_206\">\r\n    <path d=\"M 26.925 22.318125 \r\nL 361.725 22.318125 \r\n\" style=\"fill:none;stroke:#000000;stroke-linecap:square;stroke-linejoin:miter;stroke-width:0.8;\"/>\r\n   </g>\r\n   <g id=\"text_16\">\r\n    <!-- Error Distribution -->\r\n    <defs>\r\n     <path d=\"M 9.8125 72.90625 \r\nL 55.90625 72.90625 \r\nL 55.90625 64.59375 \r\nL 19.671875 64.59375 \r\nL 19.671875 43.015625 \r\nL 54.390625 43.015625 \r\nL 54.390625 34.71875 \r\nL 19.671875 34.71875 \r\nL 19.671875 8.296875 \r\nL 56.78125 8.296875 \r\nL 56.78125 0 \r\nL 9.8125 0 \r\nz\r\n\" id=\"DejaVuSans-69\"/>\r\n     <path d=\"M 41.109375 46.296875 \r\nQ 39.59375 47.171875 37.8125 47.578125 \r\nQ 36.03125 48 33.890625 48 \r\nQ 26.265625 48 22.1875 43.046875 \r\nQ 18.109375 38.09375 18.109375 28.8125 \r\nL 18.109375 0 \r\nL 9.078125 0 \r\nL 9.078125 54.6875 \r\nL 18.109375 54.6875 \r\nL 18.109375 46.1875 \r\nQ 20.953125 51.171875 25.484375 53.578125 \r\nQ 30.03125 56 36.53125 56 \r\nQ 37.453125 56 38.578125 55.875 \r\nQ 39.703125 55.765625 41.0625 55.515625 \r\nz\r\n\" id=\"DejaVuSans-114\"/>\r\n     <path d=\"M 30.609375 48.390625 \r\nQ 23.390625 48.390625 19.1875 42.75 \r\nQ 14.984375 37.109375 14.984375 27.296875 \r\nQ 14.984375 17.484375 19.15625 11.84375 \r\nQ 23.34375 6.203125 30.609375 6.203125 \r\nQ 37.796875 6.203125 41.984375 11.859375 \r\nQ 46.1875 17.53125 46.1875 27.296875 \r\nQ 46.1875 37.015625 41.984375 42.703125 \r\nQ 37.796875 48.390625 30.609375 48.390625 \r\nz\r\nM 30.609375 56 \r\nQ 42.328125 56 49.015625 48.375 \r\nQ 55.71875 40.765625 55.71875 27.296875 \r\nQ 55.71875 13.875 49.015625 6.21875 \r\nQ 42.328125 -1.421875 30.609375 -1.421875 \r\nQ 18.84375 -1.421875 12.171875 6.21875 \r\nQ 5.515625 13.875 5.515625 27.296875 \r\nQ 5.515625 40.765625 12.171875 48.375 \r\nQ 18.84375 56 30.609375 56 \r\nz\r\n\" id=\"DejaVuSans-111\"/>\r\n     <path id=\"DejaVuSans-32\"/>\r\n     <path d=\"M 19.671875 64.796875 \r\nL 19.671875 8.109375 \r\nL 31.59375 8.109375 \r\nQ 46.6875 8.109375 53.6875 14.9375 \r\nQ 60.6875 21.78125 60.6875 36.53125 \r\nQ 60.6875 51.171875 53.6875 57.984375 \r\nQ 46.6875 64.796875 31.59375 64.796875 \r\nz\r\nM 9.8125 72.90625 \r\nL 30.078125 72.90625 \r\nQ 51.265625 72.90625 61.171875 64.09375 \r\nQ 71.09375 55.28125 71.09375 36.53125 \r\nQ 71.09375 17.671875 61.125 8.828125 \r\nQ 51.171875 0 30.078125 0 \r\nL 9.8125 0 \r\nz\r\n\" id=\"DejaVuSans-68\"/>\r\n     <path d=\"M 9.421875 54.6875 \r\nL 18.40625 54.6875 \r\nL 18.40625 0 \r\nL 9.421875 0 \r\nz\r\nM 9.421875 75.984375 \r\nL 18.40625 75.984375 \r\nL 18.40625 64.59375 \r\nL 9.421875 64.59375 \r\nz\r\n\" id=\"DejaVuSans-105\"/>\r\n     <path d=\"M 44.28125 53.078125 \r\nL 44.28125 44.578125 \r\nQ 40.484375 46.53125 36.375 47.5 \r\nQ 32.28125 48.484375 27.875 48.484375 \r\nQ 21.1875 48.484375 17.84375 46.4375 \r\nQ 14.5 44.390625 14.5 40.28125 \r\nQ 14.5 37.15625 16.890625 35.375 \r\nQ 19.28125 33.59375 26.515625 31.984375 \r\nL 29.59375 31.296875 \r\nQ 39.15625 29.25 43.1875 25.515625 \r\nQ 47.21875 21.78125 47.21875 15.09375 \r\nQ 47.21875 7.46875 41.1875 3.015625 \r\nQ 35.15625 -1.421875 24.609375 -1.421875 \r\nQ 20.21875 -1.421875 15.453125 -0.5625 \r\nQ 10.6875 0.296875 5.421875 2 \r\nL 5.421875 11.28125 \r\nQ 10.40625 8.6875 15.234375 7.390625 \r\nQ 20.0625 6.109375 24.8125 6.109375 \r\nQ 31.15625 6.109375 34.5625 8.28125 \r\nQ 37.984375 10.453125 37.984375 14.40625 \r\nQ 37.984375 18.0625 35.515625 20.015625 \r\nQ 33.0625 21.96875 24.703125 23.78125 \r\nL 21.578125 24.515625 \r\nQ 13.234375 26.265625 9.515625 29.90625 \r\nQ 5.8125 33.546875 5.8125 39.890625 \r\nQ 5.8125 47.609375 11.28125 51.796875 \r\nQ 16.75 56 26.8125 56 \r\nQ 31.78125 56 36.171875 55.265625 \r\nQ 40.578125 54.546875 44.28125 53.078125 \r\nz\r\n\" id=\"DejaVuSans-115\"/>\r\n     <path d=\"M 18.3125 70.21875 \r\nL 18.3125 54.6875 \r\nL 36.8125 54.6875 \r\nL 36.8125 47.703125 \r\nL 18.3125 47.703125 \r\nL 18.3125 18.015625 \r\nQ 18.3125 11.328125 20.140625 9.421875 \r\nQ 21.96875 7.515625 27.59375 7.515625 \r\nL 36.8125 7.515625 \r\nL 36.8125 0 \r\nL 27.59375 0 \r\nQ 17.1875 0 13.234375 3.875 \r\nQ 9.28125 7.765625 9.28125 18.015625 \r\nL 9.28125 47.703125 \r\nL 2.6875 47.703125 \r\nL 2.6875 54.6875 \r\nL 9.28125 54.6875 \r\nL 9.28125 70.21875 \r\nz\r\n\" id=\"DejaVuSans-116\"/>\r\n     <path d=\"M 48.6875 27.296875 \r\nQ 48.6875 37.203125 44.609375 42.84375 \r\nQ 40.53125 48.484375 33.40625 48.484375 \r\nQ 26.265625 48.484375 22.1875 42.84375 \r\nQ 18.109375 37.203125 18.109375 27.296875 \r\nQ 18.109375 17.390625 22.1875 11.75 \r\nQ 26.265625 6.109375 33.40625 6.109375 \r\nQ 40.53125 6.109375 44.609375 11.75 \r\nQ 48.6875 17.390625 48.6875 27.296875 \r\nz\r\nM 18.109375 46.390625 \r\nQ 20.953125 51.265625 25.265625 53.625 \r\nQ 29.59375 56 35.59375 56 \r\nQ 45.5625 56 51.78125 48.09375 \r\nQ 58.015625 40.1875 58.015625 27.296875 \r\nQ 58.015625 14.40625 51.78125 6.484375 \r\nQ 45.5625 -1.421875 35.59375 -1.421875 \r\nQ 29.59375 -1.421875 25.265625 0.953125 \r\nQ 20.953125 3.328125 18.109375 8.203125 \r\nL 18.109375 0 \r\nL 9.078125 0 \r\nL 9.078125 75.984375 \r\nL 18.109375 75.984375 \r\nz\r\n\" id=\"DejaVuSans-98\"/>\r\n     <path d=\"M 8.5 21.578125 \r\nL 8.5 54.6875 \r\nL 17.484375 54.6875 \r\nL 17.484375 21.921875 \r\nQ 17.484375 14.15625 20.5 10.265625 \r\nQ 23.53125 6.390625 29.59375 6.390625 \r\nQ 36.859375 6.390625 41.078125 11.03125 \r\nQ 45.3125 15.671875 45.3125 23.6875 \r\nL 45.3125 54.6875 \r\nL 54.296875 54.6875 \r\nL 54.296875 0 \r\nL 45.3125 0 \r\nL 45.3125 8.40625 \r\nQ 42.046875 3.421875 37.71875 1 \r\nQ 33.40625 -1.421875 27.6875 -1.421875 \r\nQ 18.265625 -1.421875 13.375 4.4375 \r\nQ 8.5 10.296875 8.5 21.578125 \r\nz\r\nM 31.109375 56 \r\nz\r\n\" id=\"DejaVuSans-117\"/>\r\n     <path d=\"M 54.890625 33.015625 \r\nL 54.890625 0 \r\nL 45.90625 0 \r\nL 45.90625 32.71875 \r\nQ 45.90625 40.484375 42.875 44.328125 \r\nQ 39.84375 48.1875 33.796875 48.1875 \r\nQ 26.515625 48.1875 22.3125 43.546875 \r\nQ 18.109375 38.921875 18.109375 30.90625 \r\nL 18.109375 0 \r\nL 9.078125 0 \r\nL 9.078125 54.6875 \r\nL 18.109375 54.6875 \r\nL 18.109375 46.1875 \r\nQ 21.34375 51.125 25.703125 53.5625 \r\nQ 30.078125 56 35.796875 56 \r\nQ 45.21875 56 50.046875 50.171875 \r\nQ 54.890625 44.34375 54.890625 33.015625 \r\nz\r\n\" id=\"DejaVuSans-110\"/>\r\n    </defs>\r\n    <g transform=\"translate(142.55625 16.318125)scale(0.12 -0.12)\">\r\n     <use xlink:href=\"#DejaVuSans-69\"/>\r\n     <use x=\"63.183594\" xlink:href=\"#DejaVuSans-114\"/>\r\n     <use x=\"104.28125\" xlink:href=\"#DejaVuSans-114\"/>\r\n     <use x=\"145.363281\" xlink:href=\"#DejaVuSans-111\"/>\r\n     <use x=\"206.544922\" xlink:href=\"#DejaVuSans-114\"/>\r\n     <use x=\"247.658203\" xlink:href=\"#DejaVuSans-32\"/>\r\n     <use x=\"279.445312\" xlink:href=\"#DejaVuSans-68\"/>\r\n     <use x=\"356.447266\" xlink:href=\"#DejaVuSans-105\"/>\r\n     <use x=\"384.230469\" xlink:href=\"#DejaVuSans-115\"/>\r\n     <use x=\"436.330078\" xlink:href=\"#DejaVuSans-116\"/>\r\n     <use x=\"475.539062\" xlink:href=\"#DejaVuSans-114\"/>\r\n     <use x=\"516.652344\" xlink:href=\"#DejaVuSans-105\"/>\r\n     <use x=\"544.435547\" xlink:href=\"#DejaVuSans-98\"/>\r\n     <use x=\"607.912109\" xlink:href=\"#DejaVuSans-117\"/>\r\n     <use x=\"671.291016\" xlink:href=\"#DejaVuSans-116\"/>\r\n     <use x=\"710.5\" xlink:href=\"#DejaVuSans-105\"/>\r\n     <use x=\"738.283203\" xlink:href=\"#DejaVuSans-111\"/>\r\n     <use x=\"799.464844\" xlink:href=\"#DejaVuSans-110\"/>\r\n    </g>\r\n   </g>\r\n  </g>\r\n </g>\r\n <defs>\r\n  <clipPath id=\"p4e40bb5ef2\">\r\n   <rect height=\"217.44\" width=\"334.8\" x=\"26.925\" y=\"22.318125\"/>\r\n  </clipPath>\r\n </defs>\r\n</svg>\r\n",
      "image/png": "[encoded data removed]"
     },
     "metadata": {
      "needs_background": "light"
     }
    }
   ],
   "source": [
    "'''\n",
    "Empirically evaluate the model for it's performance.\n",
    "Present two stats in the end:\n",
    "1) The proportion of the time that the estimate is\n",
    "   within a certain tolerance (here 0.1)\n",
    "2) The median estimation error.\n",
    "'''\n",
    "TEST = 300\n",
    "correct = 0\n",
    "tol = 0.1\n",
    "errors = []\n",
    "for i in range(TEST):\n",
    "    print(f\"TESTING {i + 1}/{TEST}\", end = \"\\r\")\n",
    "    amt, inp = stopping_distance_gen()\n",
    "\n",
    "    if (MODE == 0):\n",
    "        out = model.predict(inp)\n",
    "    elif (MODE == 1):\n",
    "        out = simple_analytical_approx(inp, tol = 1e-5)\n",
    "\n",
    "    if (abs(out - amt) < tol):\n",
    "        correct += 1\n",
    "    errors.append(out - amt)\n",
    "print(f\"WITHIN {tol} {correct}/{TEST} times\")\n",
    "print(f\"MEDIAN ERROR {np.median(np.abs(errors)):.4f}\")\n",
    "\n",
    "plt.title(\"Error Distribution\")\n",
    "plt.hist(errors, bins = 200, range = (-1, 1))\n",
    "plt.show()"
   ]
  },
  {
   "cell_type": "markdown",
   "metadata": {},
   "source": [
    "## Model Usage"
   ]
  },
  {
   "cell_type": "markdown",
   "metadata": {},
   "source": [
    "Now you're ready to test out your algorithm!  Run the simulator in braking distance mode (command below) to begin.  Drive around to make sure you remember the controls.\n",
    "\n",
    "python simulator.py --mode braking_distance\n",
    "\n",
    "To run with complex internal model run:\n",
    "\n",
    "python simulator.py --mode braking_distance --car_model complex"
   ]
  },
  {
   "cell_type": "markdown",
   "metadata": {},
   "source": [
    "## Target Brake Point Marking"
   ]
  },
  {
   "cell_type": "markdown",
   "metadata": {},
   "source": [
    "Now drive up to one of the red stop lines in the simulator, braking nicely in front of the line.  Click 'm' this will record the position and direction in which you stopped in as a keypoint target.  Repeat this process at a few other stop lines.  (You could do other locations as well, but this is the most practical). \n",
    "\n",
    "If you accidentally add erroneous keypoints you can delete them individually by running keypoints.py. (Or delete all of them by trashing the keypoint_locations.json).  Note, either of these files are in the braking_distance folder."
   ]
  },
  {
   "cell_type": "markdown",
   "metadata": {},
   "source": [
    "## Precision Braking"
   ]
  },
  {
   "cell_type": "markdown",
   "metadata": {},
   "source": [
    "To apply precision braking approach a brake point while driving.  If a target brake point is in your heading, you should notice the option to hold 'b' appear in the terminal window.  This indicates that you may begin precision braking.  Hold 'b' to precision brake.  Release one you have stopped moving.  \n",
    "\n",
    "A graph will come up detailing how much you depressed the brake pedal as you approached the target brake point.  The reason we brake a varying amount over time is because we are replanning every timestep.  This prevents error from building up in our model, and naturally adjusts the car's behavior as appropriate."
   ]
  },
  {
   "cell_type": "markdown",
   "metadata": {},
   "source": [
    "## Evaluation"
   ]
  },
  {
   "cell_type": "markdown",
   "metadata": {},
   "source": [
    "You will be evaluated on whether or not you successfully brake, somewhat smoothly, roughly at your target brake point.  You shouldn't overshoot the brake point or stop too early either.  This should work for both simple and complex models."
   ]
  },
  {
   "cell_type": "code",
   "execution_count": null,
   "metadata": {},
   "outputs": [],
   "source": []
  }
 ],
 "metadata": {
  "kernelspec": {
   "display_name": "Python 3",
   "language": "python",
   "name": "python3"
  },
  "language_info": {
   "codemirror_mode": {
    "name": "ipython",
    "version": 3
   },
   "file_extension": ".py",
   "mimetype": "text/x-python",
   "name": "python",
   "nbconvert_exporter": "python",
   "pygments_lexer": "ipython3",
   "version": "3.6.10-final"
  }
 },
 "nbformat": 4,
 "nbformat_minor": 2
}